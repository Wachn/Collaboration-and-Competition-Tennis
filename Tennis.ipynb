{
 "cells": [
  {
   "cell_type": "markdown",
   "metadata": {},
   "source": [
    "# Collaboration and Competition\n",
    "\n",
    "---\n",
    "\n",
    "In this notebook, you will learn how to use the Unity ML-Agents environment for the third project of the [Deep Reinforcement Learning Nanodegree](https://www.udacity.com/course/deep-reinforcement-learning-nanodegree--nd893) program.\n",
    "\n",
    "### 1. Start the Environment\n",
    "\n",
    "We begin by importing the necessary packages.  If the code cell below returns an error, please revisit the project instructions to double-check that you have installed [Unity ML-Agents](https://github.com/Unity-Technologies/ml-agents/blob/master/docs/Installation.md) and [NumPy](http://www.numpy.org/)."
   ]
  },
  {
   "cell_type": "markdown",
   "metadata": {},
   "source": [
    "from unityagents import UnityEnvironment\n",
    "import numpy as np"
   ]
  },
  {
   "cell_type": "markdown",
   "metadata": {},
   "source": [
    "Next, we will start the environment!  **_Before running the code cell below_**, change the `file_name` parameter to match the location of the Unity environment that you downloaded.\n",
    "\n",
    "- **Mac**: `\"path/to/Tennis.app\"`\n",
    "- **Windows** (x86): `\"path/to/Tennis_Windows_x86/Tennis.exe\"`\n",
    "- **Windows** (x86_64): `\"path/to/Tennis_Windows_x86_64/Tennis.exe\"`\n",
    "- **Linux** (x86): `\"path/to/Tennis_Linux/Tennis.x86\"`\n",
    "- **Linux** (x86_64): `\"path/to/Tennis_Linux/Tennis.x86_64\"`\n",
    "- **Linux** (x86, headless): `\"path/to/Tennis_Linux_NoVis/Tennis.x86\"`\n",
    "- **Linux** (x86_64, headless): `\"path/to/Tennis_Linux_NoVis/Tennis.x86_64\"`\n",
    "\n",
    "For instance, if you are using a Mac, then you downloaded `Tennis.app`.  If this file is in the same folder as the notebook, then the line below should appear as follows:\n",
    "```\n",
    "env = UnityEnvironment(file_name=\"Tennis_Windows_x86_64/Tennis.exe\")\n",
    "```"
   ]
  },
  {
   "cell_type": "markdown",
   "metadata": {},
   "source": [
    "env = UnityEnvironment(file_name=\"Tennis_Windows_x86_64/Tennis.exe\")"
   ]
  },
  {
   "cell_type": "markdown",
   "metadata": {},
   "source": [
    "Environments contain **_brains_** which are responsible for deciding the actions of their associated agents. Here we check for the first brain available, and set it as the default brain we will be controlling from Python."
   ]
  },
  {
   "cell_type": "markdown",
   "metadata": {},
   "source": [
    "# get the default brain\n",
    "brain_name = env.brain_names[0]\n",
    "brain = env.brains[brain_name]"
   ]
  },
  {
   "cell_type": "markdown",
   "metadata": {},
   "source": [
    "### 2. Examine the State and Action Spaces\n",
    "\n",
    "In this environment, two agents control rackets to bounce a ball over a net. If an agent hits the ball over the net, it receives a reward of +0.1.  If an agent lets a ball hit the ground or hits the ball out of bounds, it receives a reward of -0.01.  Thus, the goal of each agent is to keep the ball in play.\n",
    "\n",
    "The observation space consists of 8 variables corresponding to the position and velocity of the ball and racket. Two continuous actions are available, corresponding to movement toward (or away from) the net, and jumping. \n",
    "\n",
    "Run the code cell below to print some information about the environment."
   ]
  },
  {
   "cell_type": "markdown",
   "metadata": {},
   "source": [
    "# reset the environment\n",
    "env_info = env.reset(train_mode=True)[brain_name]\n",
    "print(\"Brain Name: \", brain_name)\n",
    "# number of agents \n",
    "num_agents = len(env_info.agents)\n",
    "print('Number of agents:', num_agents)\n",
    "\n",
    "# size of each action\n",
    "action_size = brain.vector_action_space_size\n",
    "print('Size of each action:', action_size)\n",
    "\n",
    "# examine the state space \n",
    "states = env_info.vector_observations\n",
    "state_size = states.shape[1]\n",
    "print(\"State sizes: \", states.shape)\n",
    "print('There are {} agents. Each observes a state with length: {}'.format(states.shape[0], state_size))\n",
    "print('The state for the first agent looks like:', states[0])"
   ]
  },
  {
   "cell_type": "markdown",
   "metadata": {},
   "source": [
    "### 3. Take Random Actions in the Environment\n",
    "\n",
    "In the next code cell, you will learn how to use the Python API to control the agents and receive feedback from the environment.\n",
    "\n",
    "Once this cell is executed, you will watch the agents' performance, if they select actions at random with each time step.  A window should pop up that allows you to observe the agents.\n",
    "\n",
    "Of course, as part of the project, you'll have to change the code so that the agents are able to use their experiences to gradually choose better actions when interacting with the environment!"
   ]
  },
  {
   "cell_type": "markdown",
   "metadata": {},
   "source": [
    "for i in range(1, 6):                                      # play game for 5 episodes\n",
    "    env_info = env.reset(train_mode=False)[brain_name]     # reset the environment    \n",
    "    states = env_info.vector_observations                  # get the current state (for each agent)\n",
    "    scores = np.zeros(num_agents)                          # initialize the score (for each agent)\n",
    "    while True:\n",
    "        actions = np.random.randn(num_agents, action_size) # select an action (for each agent)\n",
    "        actions = np.clip(actions, -1, 1)                  # all actions between -1 and 1\n",
    "        env_info = env.step(actions)[brain_name]           # send all actions to tne environment\n",
    "        next_states = env_info.vector_observations         # get next state (for each agent)\n",
    "        rewards = env_info.rewards                         # get reward (for each agent)\n",
    "        dones = env_info.local_done                        # see if episode finished\n",
    "        scores += env_info.rewards                         # update the score (for each agent)\n",
    "        states = next_states                               # roll over states to next time step\n",
    "        if np.any(dones):                                  # exit loop if episode finished\n",
    "            break\n",
    "    print('Score (max over agents) from episode {}: {}'.format(i, np.max(scores)))"
   ]
  },
  {
   "cell_type": "markdown",
   "metadata": {},
   "source": [
    "When finished, you can close the environment."
   ]
  },
  {
   "cell_type": "markdown",
   "metadata": {},
   "source": [
    "env.close()"
   ]
  },
  {
   "cell_type": "markdown",
   "metadata": {},
   "source": [
    "### 4. It's Your Turn!\n",
    "\n",
    "Now it's your turn to train your own agent to solve the environment!  When training the environment, set `train_mode=True`, so that the line for resetting the environment looks like the following:\n",
    "```python\n",
    "env_info = env.reset(train_mode=True)[brain_name]\n",
    "```"
   ]
  },
  {
   "cell_type": "markdown",
   "metadata": {},
   "source": [
    "### 4.1 Import settings\n",
    "Initiate the environment"
   ]
  },
  {
   "cell_type": "code",
   "execution_count": 1,
   "metadata": {},
   "outputs": [
    {
     "name": "stderr",
     "output_type": "stream",
     "text": [
      "INFO:unityagents:\n",
      "'Academy' started successfully!\n",
      "Unity Academy name: Academy\n",
      "        Number of Brains: 1\n",
      "        Number of External Brains : 1\n",
      "        Lesson number : 0\n",
      "        Reset Parameters :\n",
      "\t\t\n",
      "Unity brain name: TennisBrain\n",
      "        Number of Visual Observations (per agent): 0\n",
      "        Vector Observation space type: continuous\n",
      "        Vector Observation space size (per agent): 8\n",
      "        Number of stacked Vector Observation: 3\n",
      "        Vector Action space type: continuous\n",
      "        Vector Action space size (per agent): 2\n",
      "        Vector Action descriptions: , \n"
     ]
    },
    {
     "name": "stdout",
     "output_type": "stream",
     "text": [
      "Number of agents: 2\n",
      "Number of actions: 2\n",
      "States have length: 24\n"
     ]
    }
   ],
   "source": [
    "import os\n",
    "import torch \n",
    "import random\n",
    "from collections import deque\n",
    "import matplotlib.pyplot as plt\n",
    "%matplotlib inline\n",
    "from unityagents import UnityEnvironment\n",
    "import numpy as np\n",
    "from maddpg_N import *\n",
    "# !pip install progressbar2\n",
    "import progressbar as pb\n",
    "from torch.utils.tensorboard import SummaryWriter\n",
    "\n",
    "#---------------Environment set-up--------------------#\n",
    "env =UnityEnvironment(file_name='Tennis_Linux_NoVis/Tennis.x86_64')\n",
    "# get the default brain\n",
    "brain_name = env.brain_names[0]\n",
    "brain = env.brains[brain_name]\n",
    "\n",
    "# Initiate environment\n",
    "env_info = env.reset(train_mode=True)[brain_name]\n",
    "state = env_info.vector_observations[0]            # get the current state\n",
    "score = 0\n",
    "\n",
    "# number of agents in the environment\n",
    "n_agents = len(env_info.agents)\n",
    "print('Number of agents:', n_agents)\n",
    "# number of actions\n",
    "action_size = brain.vector_action_space_size\n",
    "print('Number of actions:', action_size)\n",
    "state_size = len(state)\n",
    "print('States have length:', state_size)\n",
    "#agent = DDPGAgent(state_size=state_size, action_size=action_size, seed=0)"
   ]
  },
  {
   "cell_type": "markdown",
   "metadata": {},
   "source": [
    "ddpg_body_dim = [(256,128),(256,128)]\n",
    "\n",
    "maddpg = MADDPG(state_size, action_size, ddpg_body_dim=ddpg_body_dim, seed=0, batch_size=128, buffer_size=int(10e5), tau=1e-3,\\\n",
    "                gamma=0.99, decay_noise=0.99,lr_actor=1e-3, lr_critic=1e-3, weight_decay=1e-6, device=device)"
   ]
  },
  {
   "cell_type": "code",
   "execution_count": 2,
   "metadata": {
    "scrolled": true
   },
   "outputs": [
    {
     "name": "stdout",
     "output_type": "stream",
     "text": [
      "Device used:  cuda:0\n"
     ]
    },
    {
     "name": "stderr",
     "output_type": "stream",
     "text": [
      "Training Status: Elapsed Time: 0:00:54   2% ETA:   0:44:26 |                  |"
     ]
    },
    {
     "name": "stdout",
     "output_type": "stream",
     "text": [
      "\r",
      "Episode 100\tScore: [ 0.   -0.01]\t 100 Moving Average Score: 0.0018000000342726708, OUNOISE: [0.01540902 0.01360779], pl -0.013553407043218613, cl 9.511870302958414e-06 \n"
     ]
    },
    {
     "name": "stderr",
     "output_type": "stream",
     "text": [
      "Training Status: Elapsed Time: 0:02:00   4% ETA:   0:48:18 |                  |"
     ]
    },
    {
     "name": "stdout",
     "output_type": "stream",
     "text": [
      "\r",
      "Episode 200\tScore: [ 0.1  -0.01]\t 100 Moving Average Score: 0.010700000170618295, OUNOISE: [0.01 0.01], pl -0.0011699458118528128, cl 2.405500526947435e-05 \n"
     ]
    },
    {
     "name": "stderr",
     "output_type": "stream",
     "text": [
      "Training Status: Elapsed Time: 0:03:13   6% ETA:   0:50:26 |#                 |"
     ]
    },
    {
     "name": "stdout",
     "output_type": "stream",
     "text": [
      "\r",
      "Episode 300\tScore: [ 0.   -0.01]\t 100 Moving Average Score: 0.014000000208616257, OUNOISE: [0.01 0.01], pl -0.10111992806196213, cl 0.0008176655392162502 \n"
     ]
    },
    {
     "name": "stderr",
     "output_type": "stream",
     "text": [
      "Training Status: Elapsed Time: 0:04:57   8% ETA:   0:56:48 |#                 |"
     ]
    },
    {
     "name": "stdout",
     "output_type": "stream",
     "text": [
      "\r",
      "Episode 400\tScore: [ 0.1  -0.01]\t 100 Moving Average Score: 0.04960000075399876, OUNOISE: [0.01 0.01], pl -0.060431256890296936, cl 0.00040142860962077975 \n"
     ]
    },
    {
     "name": "stderr",
     "output_type": "stream",
     "text": [
      "Training Status: Elapsed Time: 0:05:58  10% ETA:   0:53:40 |#                 |"
     ]
    },
    {
     "name": "stdout",
     "output_type": "stream",
     "text": [
      "\r",
      "Episode 500\tScore: [ 0.   -0.01]\t 100 Moving Average Score: 0.00570000009611249, OUNOISE: [0.01 0.01], pl -0.04972631484270096, cl 8.972123760031536e-05 \n"
     ]
    },
    {
     "name": "stderr",
     "output_type": "stream",
     "text": [
      "Training Status: Elapsed Time: 0:07:12  12% ETA:   0:52:44 |##                |"
     ]
    },
    {
     "name": "stdout",
     "output_type": "stream",
     "text": [
      "\r",
      "Episode 600\tScore: [-0.01  0.  ]\t 100 Moving Average Score: 0.02400000035762787, OUNOISE: [0.01 0.01], pl -0.02081751450896263, cl 0.000296916114166379 \n"
     ]
    },
    {
     "name": "stderr",
     "output_type": "stream",
     "text": [
      "Training Status: Elapsed Time: 0:08:50  14% ETA:   0:54:15 |##                |"
     ]
    },
    {
     "name": "stdout",
     "output_type": "stream",
     "text": [
      "\r",
      "Episode 700\tScore: [ 0.1  -0.01]\t 100 Moving Average Score: 0.05140000078827143, OUNOISE: [0.01 0.01], pl -0.0772617906332016, cl 0.003978819586336613 \n"
     ]
    },
    {
     "name": "stderr",
     "output_type": "stream",
     "text": [
      "Training Status: Elapsed Time: 0:10:28  16% ETA:   0:54:56 |##                |"
     ]
    },
    {
     "name": "stdout",
     "output_type": "stream",
     "text": [
      "\r",
      "Episode 800\tScore: [ 0.1  -0.01]\t 100 Moving Average Score: 0.05000000074505806, OUNOISE: [0.01 0.01], pl -0.2753542959690094, cl 0.0037484813947230577 \n"
     ]
    },
    {
     "name": "stderr",
     "output_type": "stream",
     "text": [
      "Training Status: Elapsed Time: 0:12:06  18% ETA:   0:55:09 |###               |"
     ]
    },
    {
     "name": "stdout",
     "output_type": "stream",
     "text": [
      "\r",
      "Episode 900\tScore: [0.   0.09]\t 100 Moving Average Score: 0.05430000083521008, OUNOISE: [0.01 0.01], pl -0.10612598061561584, cl 0.0017809304408729076 \n"
     ]
    },
    {
     "name": "stderr",
     "output_type": "stream",
     "text": [
      "Training Status: Elapsed Time: 0:14:38  20% ETA:   0:58:32 |###               |"
     ]
    },
    {
     "name": "stdout",
     "output_type": "stream",
     "text": [
      "\r",
      "Episode 1000\tScore: [ 0.1  -0.01]\t 100 Moving Average Score: 0.08980000145733356, OUNOISE: [0.01 0.01], pl -0.20482316613197327, cl 0.001564662903547287 \n"
     ]
    },
    {
     "name": "stderr",
     "output_type": "stream",
     "text": [
      "Training Status: Elapsed Time: 0:18:54  22% ETA:   1:07:02 |###               |"
     ]
    },
    {
     "name": "stdout",
     "output_type": "stream",
     "text": [
      "\r",
      "Episode 1100\tScore: [0.40000001 0.29      ]\t 100 Moving Average Score: 0.16170000253245234, OUNOISE: [0.01 0.01], pl -0.23493242263793945, cl 0.000922870822250843 \n"
     ]
    },
    {
     "name": "stderr",
     "output_type": "stream",
     "text": [
      "Training Status: Elapsed Time: 0:27:19  23% ETA:   1:27:52 |####              |"
     ]
    },
    {
     "name": "stdout",
     "output_type": "stream",
     "text": [
      "\n",
      "Environment solved in 1187 episodes!\t Score:  0.00\t 10 Moving Average Score: 0.50\n",
      "\n",
      "Model saved!💎🙌\n"
     ]
    }
   ],
   "source": [
    "def main():\n",
    "    \"\"\"\n",
    "    Multiagent Deep deterministic Policy Gradient (MADDPG)\n",
    "    This specific MMADDPG will learn how to play a game of tennis. There are 24 states-observables and 2 action-dimensions for\n",
    "    each agent. \n",
    "        \n",
    "    \"\"\"\n",
    "    # ---------------Configuration----------------#\n",
    "     # Episodes and Trajectory\n",
    "    n_episodes = 5000\n",
    "    trajectory_length = 1000\n",
    "    batch_size = 256\n",
    "    \n",
    "    # Model Parameters\n",
    "    ddpg_body_dim = [(400,300),(400,300)]\n",
    "    seed = 10\n",
    "    buffer_size = int(1e5)\n",
    "    tau = 5e-3\n",
    "    gamma = 0.995\n",
    "    decay_noise = 0.5\n",
    "    lr_actor = 1e-4\n",
    "    lr_critic = 5e-3\n",
    "    weight_decay = 0\n",
    "    multiple_learning = 5\n",
    "    \n",
    "    device = torch.device(\"cuda:0\" if torch.cuda.is_available() else 'cpu')\n",
    "    print(\"Device used: \", device)\n",
    "    maddpg = MADDPG(state_size, action_size, n_agents, linear_net_dim=ddpg_body_dim, seed=seed,\\\n",
    "                    batch_size=batch_size, buffer_size=buffer_size, tau=tau, gamma=gamma,\\\n",
    "                    decay_noise=decay_noise,lr_actor=lr_actor, lr_critic=lr_critic,\\\n",
    "                    weight_decay=weight_decay, device=device)\n",
    "    \n",
    "    # Save configurations\n",
    "    log_path = os.getcwd()+\"/log\"\n",
    "    model_dir= os.getcwd()+\"/model_dir/\"\n",
    "    os.makedirs(model_dir, exist_ok=True)\n",
    "    \n",
    "    # initialize logging of rewards\n",
    "    logger = SummaryWriter(log_dir=log_path)\n",
    "    agent0_reward = deque(maxlen=100)\n",
    "    agent1_reward = deque(maxlen=100)\n",
    "\n",
    "    all_scores = []\n",
    "    all_avg_scores = []\n",
    "    scores_100 = deque(maxlen=100)    \n",
    "    \n",
    "    widget = [\"Training Status: \", pb.Timer(), ' ', pb.Percentage(), ' ', pb.ETA(), ' ', pb.Bar()]\n",
    "    #timer = pb.progressbar(widgets=widget, maxval=n_episodes).start()\n",
    "    \n",
    "    ##############################################################################\n",
    "    #---------------------------Training Commence--------------------------------#\n",
    "    for i_episode in pb.progressbar(range(1, n_episodes+1), widgets=widget):\n",
    "        env_info = env.reset(train_mode=True)[brain_name] # reset the environment\n",
    "        states = env_info.vector_observations           # get the current state\n",
    "        scores = np.zeros(len(env_info.agents))\n",
    "        for t in range(trajectory_length):\n",
    "        \n",
    "            actions = maddpg.act(states, noise=1.0)  # state[n_agent,dim], noise=1.0 (on)\n",
    "            env_info = env.step(actions)[brain_name]\n",
    "            next_states = env_info.vector_observations   # get the next state: array -  (num_agent, state_feature_dim)\n",
    "            rewards = env_info.rewards                   # get the reward: list - [num_agent]\n",
    "            dones = env_info.local_done                  # see if episode has finished: list - [num_agent]\n",
    "            \n",
    "            # Add to memory \n",
    "            maddpg.memory.add_experience(states,actions,rewards, next_states,dones)\n",
    "            if (len(maddpg.memory) > batch_size) and (i_episode % 4 == 0):\n",
    "                for i in range(multiple_learning):\n",
    "                    for agent_i in range(2):\n",
    "                        maddpg.step(batch_size, agent_i, logger)\n",
    "                    maddpg.update_targets()\n",
    "                    \n",
    "            scores += rewards                               # update the score\n",
    "            states = next_states                             # roll over the state to next time step\n",
    "            if np.any(dones):# and t>100:\n",
    "                break\n",
    "            \n",
    "            \n",
    "            \n",
    "        # LR Update once after every episode\n",
    "        if i_episode>1800:\n",
    "            maddpg.lr_update()                 \n",
    "           \n",
    "        agent0_reward.append(scores[0])       # save latest score into a variable containing the 100 latest scores\n",
    "        agent1_reward.append(scores[1])\n",
    "        all_scores.append(np.max(scores))\n",
    "        scores_100.append(np.max(scores))\n",
    "        avg_score = np.mean(scores_100)\n",
    "        all_avg_scores.append(avg_score)\n",
    "                \n",
    "\n",
    "        if i_episode % 100 ==0 or i_episode==n_episodes-1:\n",
    "            avg_rewards = [np.mean(agent0_reward), np.mean(agent1_reward)]\n",
    "            for agent_i , avg_reward in enumerate(avg_rewards):\n",
    "                logger.add_scalar(\"Agent%i/mean_episode_rewards\"% agent_i, avg_reward, i_episode)\n",
    "            \n",
    "        if i_episode % 100 == 0:\n",
    "            print('\\rEpisode {}\\tScore: {}\\t 100 Moving Average Score: {}, OUNOISE: {}, pl {}, cl {} '.format(i_episode, scores, avg_score, maddpg.OUNoise, maddpg.pl, maddpg.cl))\n",
    "            \n",
    "        # save model\n",
    "        agent_checkpoints = []\n",
    "        if np.mean(avg_score)>=0.50 and i_episode >=1000:\n",
    "            \n",
    "            print('\\nEnvironment solved in {:d} episodes!\\t Score: {:5.2f}\\t 10 Moving Average Score: {:.2f}'.format(i_episode, score, avg_score))\n",
    "            for agent_i in range(2):\n",
    "                checkpoint = {\n",
    "                    'actor_params_{}'.format(agent_i): maddpg.maddpg_agent[agent_i].actor_local.state_dict(),\n",
    "                    'critic_params_{}'.format(agent_i): maddpg.maddpg_agent[agent_i].critic_local.state_dict()\n",
    "                    }   \n",
    "                agent_checkpoints.append(checkpoint)\n",
    "            print(\"\\nModel saved!💎🙌\")\n",
    "            torch.save(agent_checkpoints, model_dir+'checkpoint.pt')\n",
    "            \n",
    "            logger.close()\n",
    "            return (all_scores, all_avg_scores, maddpg)\n",
    "    \n",
    "    logger.close()\n",
    "    return (all_scores, all_avg_scores, maddpg)\n",
    "\n",
    "output_tuple = main()\n",
    "env.close()"
   ]
  },
  {
   "cell_type": "code",
   "execution_count": 3,
   "metadata": {},
   "outputs": [
    {
     "data": {
      "image/png": "[encoded data removed]",
      "text/plain": [
       "<Figure size 720x432 with 2 Axes>"
      ]
     },
     "metadata": {},
     "output_type": "display_data"
    }
   ],
   "source": [
    "# plot the scores\n",
    "import seaborn as sns\n",
    "scores, avg_scores, _  = output_tuple\n",
    "sns.set()\n",
    "fig = plt.figure(figsize=(10,6))\n",
    "ax1 = fig.add_subplot(121)\n",
    "ax1.plot(np.arange(len(scores)), scores)\n",
    "ax2 = fig.add_subplot(122)\n",
    "ax2.plot(np.arange(len(avg_scores)), avg_scores)\n",
    "\n",
    "ax1.set(ylabel='Scores', xlabel='Episode #', title=\"Average agents scores per Episode\")\n",
    "ax2.set(ylabel='Scores', xlabel='Episodes x100#', title=\"Average agents scores averaged over per #100 Episode\")\n",
    "plt.show()\n",
    "fig.tight_layout()\n",
    "fig.savefig(\"/home/lew/Projects/Collaboration-and-Competition-Tennis/plots/MADDPG-Tennis.png\")"
   ]
  },
  {
   "cell_type": "code",
   "execution_count": null,
   "metadata": {},
   "outputs": [],
   "source": []
  }
 ],
 "metadata": {
  "kernelspec": {
   "display_name": "Python 3",
   "language": "python",
   "name": "python3"
  },
  "language_info": {
   "codemirror_mode": {
    "name": "ipython",
    "version": 3
   },
   "file_extension": ".py",
   "mimetype": "text/x-python",
   "name": "python",
   "nbconvert_exporter": "python",
   "pygments_lexer": "ipython3",
   "version": "3.6.13"
  }
 },
 "nbformat": 4,
 "nbformat_minor": 2
}
