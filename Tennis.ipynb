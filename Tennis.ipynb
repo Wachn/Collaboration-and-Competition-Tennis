{
 "cells": [
  {
   "cell_type": "markdown",
   "metadata": {},
   "source": [
    "# Collaboration and Competition\n",
    "\n",
    "---\n",
    "\n",
    "In this notebook, you will learn how to use the Unity ML-Agents environment for the third project of the [Deep Reinforcement Learning Nanodegree](https://www.udacity.com/course/deep-reinforcement-learning-nanodegree--nd893) program.\n",
    "\n",
    "### 1. Start the Environment\n",
    "\n",
    "We begin by importing the necessary packages.  If the code cell below returns an error, please revisit the project instructions to double-check that you have installed [Unity ML-Agents](https://github.com/Unity-Technologies/ml-agents/blob/master/docs/Installation.md) and [NumPy](http://www.numpy.org/)."
   ]
  },
  {
   "cell_type": "markdown",
   "metadata": {},
   "source": [
    "from unityagents import UnityEnvironment\n",
    "import numpy as np"
   ]
  },
  {
   "cell_type": "markdown",
   "metadata": {},
   "source": [
    "Next, we will start the environment!  **_Before running the code cell below_**, change the `file_name` parameter to match the location of the Unity environment that you downloaded.\n",
    "\n",
    "- **Mac**: `\"path/to/Tennis.app\"`\n",
    "- **Windows** (x86): `\"path/to/Tennis_Windows_x86/Tennis.exe\"`\n",
    "- **Windows** (x86_64): `\"path/to/Tennis_Windows_x86_64/Tennis.exe\"`\n",
    "- **Linux** (x86): `\"path/to/Tennis_Linux/Tennis.x86\"`\n",
    "- **Linux** (x86_64): `\"path/to/Tennis_Linux/Tennis.x86_64\"`\n",
    "- **Linux** (x86, headless): `\"path/to/Tennis_Linux_NoVis/Tennis.x86\"`\n",
    "- **Linux** (x86_64, headless): `\"path/to/Tennis_Linux_NoVis/Tennis.x86_64\"`\n",
    "\n",
    "For instance, if you are using a Mac, then you downloaded `Tennis.app`.  If this file is in the same folder as the notebook, then the line below should appear as follows:\n",
    "```\n",
    "env = UnityEnvironment(file_name=\"Tennis_Windows_x86_64/Tennis.exe\")\n",
    "```"
   ]
  },
  {
   "cell_type": "markdown",
   "metadata": {},
   "source": [
    "env = UnityEnvironment(file_name=\"Tennis_Windows_x86_64/Tennis.exe\")"
   ]
  },
  {
   "cell_type": "markdown",
   "metadata": {},
   "source": [
    "Environments contain **_brains_** which are responsible for deciding the actions of their associated agents. Here we check for the first brain available, and set it as the default brain we will be controlling from Python."
   ]
  },
  {
   "cell_type": "markdown",
   "metadata": {},
   "source": [
    "# get the default brain\n",
    "brain_name = env.brain_names[0]\n",
    "brain = env.brains[brain_name]"
   ]
  },
  {
   "cell_type": "markdown",
   "metadata": {},
   "source": [
    "### 2. Examine the State and Action Spaces\n",
    "\n",
    "In this environment, two agents control rackets to bounce a ball over a net. If an agent hits the ball over the net, it receives a reward of +0.1.  If an agent lets a ball hit the ground or hits the ball out of bounds, it receives a reward of -0.01.  Thus, the goal of each agent is to keep the ball in play.\n",
    "\n",
    "The observation space consists of 8 variables corresponding to the position and velocity of the ball and racket. Two continuous actions are available, corresponding to movement toward (or away from) the net, and jumping. \n",
    "\n",
    "Run the code cell below to print some information about the environment."
   ]
  },
  {
   "cell_type": "markdown",
   "metadata": {},
   "source": [
    "# reset the environment\n",
    "env_info = env.reset(train_mode=True)[brain_name]\n",
    "print(\"Brain Name: \", brain_name)\n",
    "# number of agents \n",
    "num_agents = len(env_info.agents)\n",
    "print('Number of agents:', num_agents)\n",
    "\n",
    "# size of each action\n",
    "action_size = brain.vector_action_space_size\n",
    "print('Size of each action:', action_size)\n",
    "\n",
    "# examine the state space \n",
    "states = env_info.vector_observations\n",
    "state_size = states.shape[1]\n",
    "print(\"State sizes: \", states.shape)\n",
    "print('There are {} agents. Each observes a state with length: {}'.format(states.shape[0], state_size))\n",
    "print('The state for the first agent looks like:', states[0])"
   ]
  },
  {
   "cell_type": "markdown",
   "metadata": {},
   "source": [
    "### 3. Take Random Actions in the Environment\n",
    "\n",
    "In the next code cell, you will learn how to use the Python API to control the agents and receive feedback from the environment.\n",
    "\n",
    "Once this cell is executed, you will watch the agents' performance, if they select actions at random with each time step.  A window should pop up that allows you to observe the agents.\n",
    "\n",
    "Of course, as part of the project, you'll have to change the code so that the agents are able to use their experiences to gradually choose better actions when interacting with the environment!"
   ]
  },
  {
   "cell_type": "markdown",
   "metadata": {},
   "source": [
    "for i in range(1, 6):                                      # play game for 5 episodes\n",
    "    env_info = env.reset(train_mode=False)[brain_name]     # reset the environment    \n",
    "    states = env_info.vector_observations                  # get the current state (for each agent)\n",
    "    scores = np.zeros(num_agents)                          # initialize the score (for each agent)\n",
    "    while True:\n",
    "        actions = np.random.randn(num_agents, action_size) # select an action (for each agent)\n",
    "        actions = np.clip(actions, -1, 1)                  # all actions between -1 and 1\n",
    "        env_info = env.step(actions)[brain_name]           # send all actions to tne environment\n",
    "        next_states = env_info.vector_observations         # get next state (for each agent)\n",
    "        rewards = env_info.rewards                         # get reward (for each agent)\n",
    "        dones = env_info.local_done                        # see if episode finished\n",
    "        scores += env_info.rewards                         # update the score (for each agent)\n",
    "        states = next_states                               # roll over states to next time step\n",
    "        if np.any(dones):                                  # exit loop if episode finished\n",
    "            break\n",
    "    print('Score (max over agents) from episode {}: {}'.format(i, np.max(scores)))"
   ]
  },
  {
   "cell_type": "markdown",
   "metadata": {},
   "source": [
    "When finished, you can close the environment."
   ]
  },
  {
   "cell_type": "markdown",
   "metadata": {},
   "source": [
    "env.close()"
   ]
  },
  {
   "cell_type": "markdown",
   "metadata": {},
   "source": [
    "### 4. It's Your Turn!\n",
    "\n",
    "Now it's your turn to train your own agent to solve the environment!  When training the environment, set `train_mode=True`, so that the line for resetting the environment looks like the following:\n",
    "```python\n",
    "env_info = env.reset(train_mode=True)[brain_name]\n",
    "```"
   ]
  },
  {
   "cell_type": "markdown",
   "metadata": {
    "pycharm": {
     "name": "#%%\n"
    }
   },
   "source": [
    "# main function that sets up environments\n",
    "# perform training loop\n",
    "\n",
    "import envs\n",
    "from buffer import ReplayBuffer\n",
    "from maddpg import MADDPG\n",
    "import torch\n",
    "import numpy as np\n",
    "from tensorboardX import SummaryWriter\n",
    "import os\n",
    "from utilities import transpose_list, transpose_to_tensor\n",
    "\n",
    "# keep training awake\n",
    "from workspace_utils import keep_awake\n",
    "\n",
    "# for saving gif\n",
    "import imageio\n",
    "\n",
    "def seeding(seed=1):\n",
    "    np.random.seed(seed)\n",
    "    torch.manual_seed(seed)\n",
    "\n",
    "def pre_process(entity, batchsize):\n",
    "    processed_entity = []\n",
    "    for j in range(3):\n",
    "        list = []\n",
    "        for i in range(batchsize):\n",
    "            b = entity[i][j]\n",
    "            list.append(b)\n",
    "        c = torch.Tensor(list)\n",
    "        processed_entity.append(c)\n",
    "    return processed_entity\n",
    "\n",
    "\n",
    "def main():\n",
    "    seeding()\n",
    "    # number of parallel agents\n",
    "    parallel_envs = 4\n",
    "    # number of training episodes.\n",
    "    # change this to higher number to experiment. say 30000.\n",
    "    number_of_episodes = 1000\n",
    "    episode_length = 80\n",
    "    batchsize = 1000\n",
    "    # how many episodes to save policy and gif\n",
    "    save_interval = 1000\n",
    "    t = 0\n",
    "    \n",
    "    # amplitude of OU noise\n",
    "    # this slowly decreases to 0\n",
    "    noise = 2\n",
    "    noise_reduction = 0.9999\n",
    "\n",
    "    # how many episodes before update\n",
    "    episode_per_update = 2 * parallel_envs\n",
    "\n",
    "    log_path = os.getcwd()+\"/log\"\n",
    "    model_dir= os.getcwd()+\"/model_dir\"\n",
    "    \n",
    "    os.makedirs(model_dir, exist_ok=True)\n",
    "\n",
    "    torch.set_num_threads(parallel_envs)\n",
    "    env = envs.make_parallel_env(parallel_envs)\n",
    "    \n",
    "    # keep 5000 episodes worth of replay\n",
    "    buffer = ReplayBuffer(int(5000*episode_length))\n",
    "    \n",
    "    # initialize policy and critic\n",
    "    maddpg = MADDPG()\n",
    "    logger = SummaryWriter(log_dir=log_path)\n",
    "    agent0_reward = []\n",
    "    agent1_reward = []\n",
    "    agent2_reward = []\n",
    "\n",
    "    # training loop\n",
    "    # show progressbar\n",
    "    import progressbar as pb\n",
    "    widget = ['episode: ', pb.Counter(),'/',str(number_of_episodes),' ', \n",
    "              pb.Percentage(), ' ', pb.ETA(), ' ', pb.Bar(marker=pb.RotatingMarker()), ' ' ]\n",
    "    \n",
    "    timer = pb.ProgressBar(widgets=widget, maxval=number_of_episodes).start()\n",
    "\n",
    "    # use keep_awake to keep workspace from disconnecting\n",
    "    for episode in keep_awake(range(0, number_of_episodes, parallel_envs)):\n",
    "\n",
    "        timer.update(episode)\n",
    "\n",
    "\n",
    "        reward_this_episode = np.zeros((parallel_envs, 3))\n",
    "        all_obs = env.reset() #\n",
    "        # obs.shape = env_agent x N_agent x features\n",
    "        obs, obs_full = transpose_list(all_obs)\n",
    "\n",
    "        #for calculating rewards for this particular episode - addition of all time steps\n",
    "\n",
    "        # save info or not\n",
    "        save_info = ((episode) % save_interval < parallel_envs or episode==number_of_episodes-parallel_envs)\n",
    "        frames = []\n",
    "        tmax = 0\n",
    "        \n",
    "        if save_info:\n",
    "            frames.append(env.render('rgb_array'))\n",
    "\n",
    "\n",
    "        \n",
    "        for episode_t in range(episode_length):\n",
    "\n",
    "            t += parallel_envs\n",
    "            \n",
    "\n",
    "            # explore = only explore for a certain number of episodes\n",
    "            # action input needs to be transposed\n",
    "            actions = maddpg.act(transpose_to_tensor(obs), noise=noise)\n",
    "            noise *= noise_reduction\n",
    "            \n",
    "            actions_array = torch.stack(actions).detach().numpy()\n",
    "\n",
    "            # transpose the list of list\n",
    "            # flip the first two indices\n",
    "            # input to step requires the first index to correspond to number of parallel agents\n",
    "            actions_for_env = np.rollaxis(actions_array,1)\n",
    "            \n",
    "            # step forward one frame\n",
    "            next_obs, next_obs_full, rewards, dones, info = env.step(actions_for_env)\n",
    "            \n",
    "            # add data to buffer\n",
    "            transition = (obs, obs_full, actions_for_env, rewards, next_obs, next_obs_full, dones)\n",
    "            \n",
    "            # Buffer will save [N_agent x features], No. of evn_agent = Number of samples push to buffer at once\n",
    "            buffer.push(transition)\n",
    "            \n",
    "            reward_this_episode += rewards\n",
    "\n",
    "            obs, obs_full = next_obs, next_obs_full\n",
    "            \n",
    "            # save gif frame\n",
    "            if save_info:\n",
    "                frames.append(env.render('rgb_array'))\n",
    "                tmax+=1\n",
    "        \n",
    "        # update once after every episode_per_update\n",
    "        if len(buffer) > batchsize and episode % episode_per_update < parallel_envs:\n",
    "            for a_i in range(3):\n",
    "                samples = buffer.sample(batchsize)\n",
    "                maddpg.update(samples, a_i, logger)\n",
    "            maddpg.update_targets() #soft update the target network towards the actual networks\n",
    "\n",
    "        \n",
    "        \n",
    "        for i in range(parallel_envs):\n",
    "            agent0_reward.append(reward_this_episode[i,0])\n",
    "            agent1_reward.append(reward_this_episode[i,1])\n",
    "            agent2_reward.append(reward_this_episode[i,2])\n",
    "\n",
    "        if episode % 100 == 0 or episode == number_of_episodes-1:\n",
    "            avg_rewards = [np.mean(agent0_reward), np.mean(agent1_reward), np.mean(agent2_reward)]\n",
    "            agent0_reward = []\n",
    "            agent1_reward = []\n",
    "            agent2_reward = []\n",
    "            for a_i, avg_rew in enumerate(avg_rewards):\n",
    "                logger.add_scalar('agent%i/mean_episode_rewards' % a_i, avg_rew, episode)\n",
    "\n",
    "        #saving model\n",
    "        save_dict_list =[]\n",
    "        if save_info:\n",
    "            for i in range(3):\n",
    "\n",
    "                save_dict = {'actor_params' : maddpg.maddpg_agent[i].actor.state_dict(),\n",
    "                             'actor_optim_params': maddpg.maddpg_agent[i].actor_optimizer.state_dict(),\n",
    "                             'critic_params' : maddpg.maddpg_agent[i].critic.state_dict(),\n",
    "                             'critic_optim_params' : maddpg.maddpg_agent[i].critic_optimizer.state_dict()}\n",
    "                save_dict_list.append(save_dict)\n",
    "\n",
    "                torch.save(save_dict_list, \n",
    "                           os.path.join(model_dir, 'episode-{}.pt'.format(episode)))\n",
    "                \n",
    "            # save gif files\n",
    "            imageio.mimsave(os.path.join(model_dir, 'episode-{}.gif'.format(episode)), \n",
    "                            frames, duration=.04)\n",
    "\n",
    "    env.close()\n",
    "    logger.close()\n",
    "    timer.finish()\n",
    "\n",
    "if __name__=='__main__':\n",
    "    main()"
   ]
  },
  {
   "cell_type": "markdown",
   "metadata": {},
   "source": [
    "### 4.1 Import settings\n",
    "Initiate the environment"
   ]
  },
  {
   "cell_type": "code",
   "execution_count": 1,
   "metadata": {},
   "outputs": [
    {
     "name": "stderr",
     "output_type": "stream",
     "text": [
      "INFO:unityagents:\n",
      "'Academy' started successfully!\n",
      "Unity Academy name: Academy\n",
      "        Number of Brains: 1\n",
      "        Number of External Brains : 1\n",
      "        Lesson number : 0\n",
      "        Reset Parameters :\n",
      "\t\t\n",
      "Unity brain name: TennisBrain\n",
      "        Number of Visual Observations (per agent): 0\n",
      "        Vector Observation space type: continuous\n",
      "        Vector Observation space size (per agent): 8\n",
      "        Number of stacked Vector Observation: 3\n",
      "        Vector Action space type: continuous\n",
      "        Vector Action space size (per agent): 2\n",
      "        Vector Action descriptions: , \n"
     ]
    },
    {
     "name": "stdout",
     "output_type": "stream",
     "text": [
      "Number of agents: 2\n",
      "Number of actions: 2\n",
      "States have length: 24\n"
     ]
    }
   ],
   "source": [
    "import os\n",
    "import torch \n",
    "import random\n",
    "from collections import deque\n",
    "import matplotlib.pyplot as plt\n",
    "%matplotlib inline\n",
    "from unityagents import UnityEnvironment\n",
    "import numpy as np\n",
    "from maddpg_ import *\n",
    "# !pip install progressbar2\n",
    "import progressbar as pb\n",
    "from torch.utils.tensorboard import SummaryWriter\n",
    "\n",
    "#---------------Environment set-up--------------------#\n",
    "env =UnityEnvironment(file_name='Tennis_Windows_x86_64/Tennis.exe')\n",
    "# get the default brain\n",
    "brain_name = env.brain_names[0]\n",
    "brain = env.brains[brain_name]\n",
    "\n",
    "# Initiate environment\n",
    "env_info = env.reset(train_mode=True)[brain_name]\n",
    "state = env_info.vector_observations[0]            # get the current state\n",
    "score = 0\n",
    "\n",
    "# number of agents in the environment\n",
    "print('Number of agents:', len(env_info.agents))\n",
    "# number of actions\n",
    "action_size = brain.vector_action_space_size\n",
    "print('Number of actions:', action_size)\n",
    "state_size = len(state)\n",
    "print('States have length:', state_size)\n",
    "#agent = DDPGAgent(state_size=state_size, action_size=action_size, seed=0)"
   ]
  },
  {
   "cell_type": "markdown",
   "metadata": {},
   "source": [
    "ddpg_body_dim = [(256,128),(256,128)]\n",
    "\n",
    "maddpg = MADDPG(state_size, action_size, ddpg_body_dim=ddpg_body_dim, seed=0, batch_size=128, buffer_size=int(10e5), tau=1e-3,\\\n",
    "                gamma=0.99, decay_noise=0.99,lr_actor=1e-3, lr_critic=1e-3, weight_decay=1e-6, device=device)"
   ]
  },
  {
   "cell_type": "code",
   "execution_count": null,
   "metadata": {},
   "outputs": [
    {
     "name": "stdout",
     "output_type": "stream",
     "text": [
      "Device used:  cpu\n"
     ]
    },
    {
     "name": "stderr",
     "output_type": "stream",
     "text": [
      "Training Status: Elapsed Time: 0:01:47   2% ETA:   1:27:49 |                  |"
     ]
    },
    {
     "name": "stdout",
     "output_type": "stream",
     "text": [
      "\r",
      "Episode 100\tScore: [-0.002899999897927046, -0.0020999998040497304]\t 10 Moving Average Score: [-0.003999999910593033, -0.005999999865889549], OUNOISE: [0.4432099  0.40178417]\n"
     ]
    },
    {
     "name": "stderr",
     "output_type": "stream",
     "text": [
      "Training Status: Elapsed Time: 0:03:17   4% ETA:   1:19:03 |                  |"
     ]
    },
    {
     "name": "stdout",
     "output_type": "stream",
     "text": [
      "\r",
      "Episode 200\tScore: [-0.004999999888241291, -0.004999999888241291]\t 10 Moving Average Score: [-0.003999999910593033, -0.005999999865889549], OUNOISE: [0.29263147 0.28830714]\n"
     ]
    },
    {
     "name": "stderr",
     "output_type": "stream",
     "text": [
      "Training Status: Elapsed Time: 0:04:43   6% ETA:   1:14:04 |#                 |"
     ]
    },
    {
     "name": "stdout",
     "output_type": "stream",
     "text": [
      "\r",
      "Episode 300\tScore: [-0.003799999915063381, -0.006199999861419201]\t 10 Moving Average Score: [-0.0009999999776482583, -0.008999999798834323], OUNOISE: [0.19441871 0.22535205]\n"
     ]
    },
    {
     "name": "stderr",
     "output_type": "stream",
     "text": [
      "Training Status: Elapsed Time: 0:06:14   8% ETA:   1:11:47 |#                 |"
     ]
    },
    {
     "name": "stdout",
     "output_type": "stream",
     "text": [
      "\r",
      "Episode 400\tScore: [-0.005599999874830246, -0.004399999901652336]\t 10 Moving Average Score: [-0.007999999821186066, -0.0019999999552965165], OUNOISE: [0.11429178 0.1451181 ]\n"
     ]
    },
    {
     "name": "stderr",
     "output_type": "stream",
     "text": [
      "Training Status: Elapsed Time: 0:07:41  10% ETA:   1:09:11 |#                 |"
     ]
    },
    {
     "name": "stdout",
     "output_type": "stream",
     "text": [
      "\r",
      "Episode 500\tScore: [-0.004799999892711639, -0.005199999883770943]\t 10 Moving Average Score: [-0.0029999999329447745, -0.006999999843537807], OUNOISE: [0.09576192 0.0870629 ]\n"
     ]
    },
    {
     "name": "stderr",
     "output_type": "stream",
     "text": [
      "Training Status: Elapsed Time: 0:09:07  12% ETA:   1:06:55 |##                |"
     ]
    },
    {
     "name": "stdout",
     "output_type": "stream",
     "text": [
      "\r",
      "Episode 600\tScore: [-0.004999999888241291, -0.004999999888241291]\t 10 Moving Average Score: [-0.0029999999329447745, -0.006999999843537807], OUNOISE: [0.06650864 0.05877988]\n"
     ]
    },
    {
     "name": "stderr",
     "output_type": "stream",
     "text": [
      "Training Status: Elapsed Time: 0:11:01  14% ETA:   1:07:40 |##                |"
     ]
    },
    {
     "name": "stdout",
     "output_type": "stream",
     "text": [
      "\r",
      "Episode 700\tScore: [-0.004999999888241291, -0.004999999888241291]\t 10 Moving Average Score: [-0.006999999843537807, -0.0029999999329447745], OUNOISE: [0.04019847 0.04055054]\n"
     ]
    },
    {
     "name": "stderr",
     "output_type": "stream",
     "text": [
      "Training Status: Elapsed Time: 0:14:34  16% ETA:   1:16:31 |##                |"
     ]
    },
    {
     "name": "stdout",
     "output_type": "stream",
     "text": [
      "\r",
      "Episode 800\tScore: [0.0003000001795589924, -0.0052999998815357685]\t 10 Moving Average Score: [-0.004999999888241291, -0.004999999888241291], OUNOISE: [0.01922649 0.02224269]\n"
     ]
    },
    {
     "name": "stderr",
     "output_type": "stream",
     "text": [
      "Training Status: Elapsed Time: 0:20:16  18% ETA:   1:32:20 |###               |"
     ]
    },
    {
     "name": "stdout",
     "output_type": "stream",
     "text": [
      "\r",
      "Episode 900\tScore: [0.03440000057220459, -0.006399999763816595]\t 10 Moving Average Score: [0.005000000260770321, -0.004999999888241291], OUNOISE: [0.01096631 0.01071916]\n"
     ]
    },
    {
     "name": "stderr",
     "output_type": "stream",
     "text": [
      "Training Status: Elapsed Time: 0:23:46  20% ETA:   1:35:07 |###               |"
     ]
    },
    {
     "name": "stdout",
     "output_type": "stream",
     "text": [
      "\r",
      "Episode 1000\tScore: [-0.004799999892711639, -0.005199999883770943]\t 10 Moving Average Score: [-0.003999999910593033, -0.005999999865889549], OUNOISE: [0.0079178  0.00819862]\n"
     ]
    },
    {
     "name": "stderr",
     "output_type": "stream",
     "text": [
      "Training Status: Elapsed Time: 0:27:12  22% ETA:   1:36:28 |###               |"
     ]
    },
    {
     "name": "stdout",
     "output_type": "stream",
     "text": [
      "\r",
      "Episode 1100\tScore: [-0.0052999998815357685, -0.0046999998949468135]\t 10 Moving Average Score: [-0.0009999999776482583, -0.008999999798834323], OUNOISE: [0.00611848 0.00574032]\n"
     ]
    },
    {
     "name": "stderr",
     "output_type": "stream",
     "text": [
      "Training Status: Elapsed Time: 0:30:43  24% ETA:   1:37:16 |####              |"
     ]
    },
    {
     "name": "stdout",
     "output_type": "stream",
     "text": [
      "\r",
      "Episode 1200\tScore: [-0.005399999879300594, -0.004599999897181988]\t 10 Moving Average Score: [-0.005999999865889549, -0.003999999910593033], OUNOISE: [0.00206614 0.00397082]\n"
     ]
    },
    {
     "name": "stderr",
     "output_type": "stream",
     "text": [
      "Training Status: Elapsed Time: 0:34:09  26% ETA:   1:37:13 |####              |"
     ]
    },
    {
     "name": "stdout",
     "output_type": "stream",
     "text": [
      "\r",
      "Episode 1300\tScore: [-0.0052999998815357685, -0.0046999998949468135]\t 10 Moving Average Score: [-0.003999999910593033, -0.005999999865889549], OUNOISE: [0.00298516 0.00243064]\n"
     ]
    },
    {
     "name": "stderr",
     "output_type": "stream",
     "text": [
      "Training Status: Elapsed Time: 0:37:27  28% ETA:   1:36:18 |#####             |"
     ]
    },
    {
     "name": "stdout",
     "output_type": "stream",
     "text": [
      "\r",
      "Episode 1400\tScore: [-0.006199999861419201, -0.003799999915063381]\t 10 Moving Average Score: [-0.007999999821186066, -0.0019999999552965165], OUNOISE: [0.0014422  0.00106957]\n"
     ]
    },
    {
     "name": "stderr",
     "output_type": "stream",
     "text": [
      "Training Status: Elapsed Time: 0:40:56  30% ETA:   1:35:31 |#####             |"
     ]
    },
    {
     "name": "stdout",
     "output_type": "stream",
     "text": [
      "\r",
      "Episode 1500\tScore: [-0.0040999999083578586, -0.0058999998681247235]\t 10 Moving Average Score: [-0.0029999999329447745, -0.006999999843537807], OUNOISE: [0.00088056 0.00088448]\n"
     ]
    },
    {
     "name": "stderr",
     "output_type": "stream",
     "text": [
      "Training Status: Elapsed Time: 0:44:14  32% ETA:   1:34:00 |#####             |"
     ]
    },
    {
     "name": "stdout",
     "output_type": "stream",
     "text": [
      "\r",
      "Episode 1600\tScore: [-0.0046999998949468135, -0.0052999998815357685]\t 10 Moving Average Score: [-0.004999999888241291, -0.004999999888241291], OUNOISE: [0.00079174 0.00070482]\n"
     ]
    },
    {
     "name": "stderr",
     "output_type": "stream",
     "text": [
      "Training Status: Elapsed Time: 0:47:38  34% ETA:   1:32:29 |######            |"
     ]
    },
    {
     "name": "stdout",
     "output_type": "stream",
     "text": [
      "\r",
      "Episode 1700\tScore: [-0.005199999883770943, -0.004799999892711639]\t 10 Moving Average Score: [-0.004999999888241291, -0.004999999888241291], OUNOISE: [0.00052334 0.00056016]\n"
     ]
    },
    {
     "name": "stderr",
     "output_type": "stream",
     "text": [
      "Training Status: Elapsed Time: 0:51:02  36% ETA:   1:30:44 |######            |"
     ]
    },
    {
     "name": "stdout",
     "output_type": "stream",
     "text": [
      "\r",
      "Episode 1800\tScore: [-0.0046999998949468135, -0.0052999998815357685]\t 10 Moving Average Score: [-0.0029999999329447745, -0.006999999843537807], OUNOISE: [0.00030384 0.00032826]\n"
     ]
    },
    {
     "name": "stderr",
     "output_type": "stream",
     "text": [
      "Training Status: Elapsed Time: 0:54:40  38% ETA:   1:29:12 |######            |"
     ]
    },
    {
     "name": "stdout",
     "output_type": "stream",
     "text": [
      "\r",
      "Episode 1900\tScore: [-0.005399999879300594, -0.004599999897181988]\t 10 Moving Average Score: [-0.005999999865889549, -0.003999999910593033], OUNOISE: [0.00030335 0.0001356 ]\n"
     ]
    },
    {
     "name": "stderr",
     "output_type": "stream",
     "text": [
      "Training Status: Elapsed Time: 0:58:07  40% ETA:   1:27:10 |#######           |"
     ]
    },
    {
     "name": "stdout",
     "output_type": "stream",
     "text": [
      "\r",
      "Episode 2000\tScore: [-0.005399999879300594, -0.004599999897181988]\t 10 Moving Average Score: [-0.005999999865889549, -0.003999999910593033], OUNOISE: [0.00016246 0.00011348]\n"
     ]
    },
    {
     "name": "stderr",
     "output_type": "stream",
     "text": [
      "Training Status: Elapsed Time: 1:32:24  41% ETA:   2:11:26 |#######           |"
     ]
    }
   ],
   "source": [
    "def main():\n",
    "    \"\"\"\n",
    "    Multiagent Deep deterministic Policy Gradient (MADDPG)\n",
    "    This specific MMADDPG will learn how to play a game of tennis. There are 24 states-observables and 2 action-dimensions for\n",
    "    each agent. \n",
    "        \n",
    "    \"\"\"\n",
    "    # ---------------Configuration----------------#\n",
    "    # Episodes and Trajectory\n",
    "    n_episodes = 5000\n",
    "    trajectory_length = 1000\n",
    "    batch_size = 128\n",
    "    \n",
    "    # Model Parameters\n",
    "    ddpg_body_dim = [(400,128),(400,128)]\n",
    "    seed = 0\n",
    "    buffer_size = int(1e5)\n",
    "    tau = 1e-3\n",
    "    gamma = 0.99\n",
    "    decay_noise = 0.99\n",
    "    lr_actor = 1e-4\n",
    "    lr_critic = 1e-3\n",
    "    weight_decay = 0\n",
    "    device = torch.device(\"cuda:0\" if torch.cuda.is_available() else 'cpu')\n",
    "    print(\"Device used: \", device)\n",
    "    maddpg = MADDPG(state_size, action_size, ddpg_body_dim=ddpg_body_dim, seed=seed,\\\n",
    "                    batch_size=batch_size, buffer_size=buffer_size, tau=tau, gamma=gamma,\\\n",
    "                    decay_noise=decay_noise,lr_actor=lr_actor, lr_critic=lr_critic,\\\n",
    "                    weight_decay=weight_decay, device=device)\n",
    "    \n",
    "    # Save configurations\n",
    "    log_path = os.getcwd()+\"/log\"\n",
    "    model_dir= os.getcwd()+\"/model_dir\"\n",
    "    os.makedirs(model_dir, exist_ok=True)\n",
    "    \n",
    "    # initialize logging of rewards\n",
    "    logger = SummaryWriter(log_dir=log_path)\n",
    "    agent0_reward = []\n",
    "    agent0_window = deque(maxlen=10)\n",
    "    agent1_reward = []\n",
    "    agent1_window = deque(maxlen=10)\n",
    "    avg_rewards = 0\n",
    "    avg_rewards_window = 0\n",
    "    \n",
    "\n",
    "    \n",
    "    \n",
    "    widget = [\"Training Status: \", pb.Timer(), ' ', pb.Percentage(), ' ', pb.ETA(), ' ', pb.Bar()]\n",
    "    #timer = pb.progressbar(widgets=widget, maxval=n_episodes).start()\n",
    "    \n",
    "    ##############################################################################\n",
    "    #---------------------------Training Commence--------------------------------#\n",
    "    for i_episode in pb.progressbar(range(1, n_episodes+1), widgets=widget):\n",
    "        env_info = env.reset(train_mode=True)[brain_name] # reset the environment\n",
    "        states = env_info.vector_observations           # get the current state\n",
    "        score = np.zeros(len(env_info.agents))\n",
    "        for t in range(trajectory_length):\n",
    "        \n",
    "            actions = maddpg.acts(states, noise=1.0)  # state[n_agent,dim], noise=1.0 (on)\n",
    "            env_info = env.step(actions)[brain_name]\n",
    "            next_states = env_info.vector_observations   # get the next state: array -  (num_agent, state_feature_dim)\n",
    "            rewards = env_info.rewards                   # get the reward: list - [num_agent]\n",
    "            dones = env_info.local_done                  # see if episode has finished: list - [num_agent]\n",
    "            \n",
    "            # Add to memory\n",
    "            maddpg.memory.add_experience(states,actions,rewards, next_states,dones)\n",
    "            \n",
    "            score += rewards                               # update the score\n",
    "            states = next_states                             # roll over the state to next time step\n",
    "            if np.any(dones):\n",
    "                break\n",
    "            \n",
    "            \n",
    "            if len(maddpg.memory) > batch_size:\n",
    "                for agent_i in range(2):\n",
    "                    experiences = maddpg.memory.sample(batch_size)\n",
    "                    maddpg.step(experiences, agent_i, logger)\n",
    "                maddpg.update_targets()\n",
    "        # Update once after every episode\n",
    "        maddpg.tau*=0.99998                   # Reduce the learning of soft-update\n",
    "           \n",
    "        agent0_reward.append(score[0])       # save latest score into a variable containing the 100 latest scores\n",
    "        agent0_window.append(score[0])     # save latest score\n",
    "        agent1_reward.append(score[1])\n",
    "        agent1_window.append(score[1])\n",
    "        avg_rewards = [np.mean(agent0_reward), np.mean(agent1_reward)]\n",
    "        avg_rewards_window = [np.mean(agent0_window), np.mean(agent1_window)]\n",
    "        if i_episode % 100 ==0 or i_episode==n_episodes-1:\n",
    "           \n",
    "            agent0_reward = []\n",
    "            agent1_reward = []\n",
    "            for agent_i , (avg_reward, avg_reward_window) in enumerate(zip(avg_rewards, avg_rewards_window)):\n",
    "                logger.add_scalar(\"Agent%i/mean_episode_rewards\"% agent_i, avg_reward, avg_reward_window, i_episode)\n",
    "            \n",
    "        if i_episode % 100 == 0:\n",
    "            print('\\rEpisode {}\\tScore: {}\\t 10 Moving Average Score: {}, OUNOISE: {}'.format(i_episode, avg_rewards, avg_rewards_window, maddpg.maddpg_agent[0].noise.state*maddpg.maddpg_agent[0].decay_noise))\n",
    "            \n",
    "        # save model\n",
    "        agent_checkpoints = []\n",
    "        if np.mean(avg_rewards_window)>=0.5 and i_episode >=100:\n",
    "            \n",
    "            print('\\nEnvironment solved in {:d} episodes!\\t Score: {:5.2f}\\t 10 Moving Average Score: {:.2f}'.format(i_episode, avg_rewards, avg_rewards_window))\n",
    "            for agent_i in range(2):\n",
    "                checkpoint = {\n",
    "                    'net_params': maddpg.maddpg_agent[agent_i].network_local.state_dict()}   \n",
    "                agent_checkpoints.append(checkpoint)\n",
    "            print(\"\\nModel saved!💎🙌\")\n",
    "            torch.save(agent_checkpoints, model_dir+'checkpoint.pt')\n",
    "    logger.close()\n",
    "    \n",
    "    return (avg_rewards, avg_rewards_window,maddpg)\n",
    "if __name__==\"__main__\":\n",
    "    main()\n",
    "output_tuple = main()"
   ]
  },
  {
   "cell_type": "code",
   "execution_count": null,
   "metadata": {},
   "outputs": [],
   "source": []
  }
 ],
 "metadata": {
  "kernelspec": {
   "display_name": "Python 3",
   "language": "python",
   "name": "python3"
  },
  "language_info": {
   "codemirror_mode": {
    "name": "ipython",
    "version": 3
   },
   "file_extension": ".py",
   "mimetype": "text/x-python",
   "name": "python",
   "nbconvert_exporter": "python",
   "pygments_lexer": "ipython3",
   "version": "3.6.13"
  }
 },
 "nbformat": 4,
 "nbformat_minor": 2
}