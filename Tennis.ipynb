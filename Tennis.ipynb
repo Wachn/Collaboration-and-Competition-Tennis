{
 "cells": [
  {
   "cell_type": "markdown",
   "metadata": {},
   "source": [
    "# Collaboration and Competition\n",
    "\n",
    "---\n",
    "\n",
    "In this notebook, you will learn how to use the Unity ML-Agents environment for the third project of the [Deep Reinforcement Learning Nanodegree](https://www.udacity.com/course/deep-reinforcement-learning-nanodegree--nd893) program.\n",
    "\n",
    "### 1. Start the Environment\n",
    "\n",
    "We begin by importing the necessary packages.  If the code cell below returns an error, please revisit the project instructions to double-check that you have installed [Unity ML-Agents](https://github.com/Unity-Technologies/ml-agents/blob/master/docs/Installation.md) and [NumPy](http://www.numpy.org/)."
   ]
  },
  {
   "cell_type": "markdown",
   "metadata": {},
   "source": [
    "from unityagents import UnityEnvironment\n",
    "import numpy as np"
   ]
  },
  {
   "cell_type": "markdown",
   "metadata": {},
   "source": [
    "Next, we will start the environment!  **_Before running the code cell below_**, change the `file_name` parameter to match the location of the Unity environment that you downloaded.\n",
    "\n",
    "- **Mac**: `\"path/to/Tennis.app\"`\n",
    "- **Windows** (x86): `\"path/to/Tennis_Windows_x86/Tennis.exe\"`\n",
    "- **Windows** (x86_64): `\"path/to/Tennis_Windows_x86_64/Tennis.exe\"`\n",
    "- **Linux** (x86): `\"path/to/Tennis_Linux/Tennis.x86\"`\n",
    "- **Linux** (x86_64): `\"path/to/Tennis_Linux/Tennis.x86_64\"`\n",
    "- **Linux** (x86, headless): `\"path/to/Tennis_Linux_NoVis/Tennis.x86\"`\n",
    "- **Linux** (x86_64, headless): `\"path/to/Tennis_Linux_NoVis/Tennis.x86_64\"`\n",
    "\n",
    "For instance, if you are using a Mac, then you downloaded `Tennis.app`.  If this file is in the same folder as the notebook, then the line below should appear as follows:\n",
    "```\n",
    "env = UnityEnvironment(file_name=\"Tennis_Windows_x86_64/Tennis.exe\")\n",
    "```"
   ]
  },
  {
   "cell_type": "markdown",
   "metadata": {},
   "source": [
    "env = UnityEnvironment(file_name=\"Tennis_Windows_x86_64/Tennis.exe\")"
   ]
  },
  {
   "cell_type": "markdown",
   "metadata": {},
   "source": [
    "Environments contain **_brains_** which are responsible for deciding the actions of their associated agents. Here we check for the first brain available, and set it as the default brain we will be controlling from Python."
   ]
  },
  {
   "cell_type": "markdown",
   "metadata": {},
   "source": [
    "# get the default brain\n",
    "brain_name = env.brain_names[0]\n",
    "brain = env.brains[brain_name]"
   ]
  },
  {
   "cell_type": "markdown",
   "metadata": {},
   "source": [
    "### 2. Examine the State and Action Spaces\n",
    "\n",
    "In this environment, two agents control rackets to bounce a ball over a net. If an agent hits the ball over the net, it receives a reward of +0.1.  If an agent lets a ball hit the ground or hits the ball out of bounds, it receives a reward of -0.01.  Thus, the goal of each agent is to keep the ball in play.\n",
    "\n",
    "The observation space consists of 8 variables corresponding to the position and velocity of the ball and racket. Two continuous actions are available, corresponding to movement toward (or away from) the net, and jumping. \n",
    "\n",
    "Run the code cell below to print some information about the environment."
   ]
  },
  {
   "cell_type": "markdown",
   "metadata": {},
   "source": [
    "# reset the environment\n",
    "env_info = env.reset(train_mode=True)[brain_name]\n",
    "print(\"Brain Name: \", brain_name)\n",
    "# number of agents \n",
    "num_agents = len(env_info.agents)\n",
    "print('Number of agents:', num_agents)\n",
    "\n",
    "# size of each action\n",
    "action_size = brain.vector_action_space_size\n",
    "print('Size of each action:', action_size)\n",
    "\n",
    "# examine the state space \n",
    "states = env_info.vector_observations\n",
    "state_size = states.shape[1]\n",
    "print(\"State sizes: \", states.shape)\n",
    "print('There are {} agents. Each observes a state with length: {}'.format(states.shape[0], state_size))\n",
    "print('The state for the first agent looks like:', states[0])"
   ]
  },
  {
   "cell_type": "markdown",
   "metadata": {},
   "source": [
    "### 3. Take Random Actions in the Environment\n",
    "\n",
    "In the next code cell, you will learn how to use the Python API to control the agents and receive feedback from the environment.\n",
    "\n",
    "Once this cell is executed, you will watch the agents' performance, if they select actions at random with each time step.  A window should pop up that allows you to observe the agents.\n",
    "\n",
    "Of course, as part of the project, you'll have to change the code so that the agents are able to use their experiences to gradually choose better actions when interacting with the environment!"
   ]
  },
  {
   "cell_type": "markdown",
   "metadata": {},
   "source": [
    "for i in range(1, 6):                                      # play game for 5 episodes\n",
    "    env_info = env.reset(train_mode=False)[brain_name]     # reset the environment    \n",
    "    states = env_info.vector_observations                  # get the current state (for each agent)\n",
    "    scores = np.zeros(num_agents)                          # initialize the score (for each agent)\n",
    "    while True:\n",
    "        actions = np.random.randn(num_agents, action_size) # select an action (for each agent)\n",
    "        actions = np.clip(actions, -1, 1)                  # all actions between -1 and 1\n",
    "        env_info = env.step(actions)[brain_name]           # send all actions to tne environment\n",
    "        next_states = env_info.vector_observations         # get next state (for each agent)\n",
    "        rewards = env_info.rewards                         # get reward (for each agent)\n",
    "        dones = env_info.local_done                        # see if episode finished\n",
    "        scores += env_info.rewards                         # update the score (for each agent)\n",
    "        states = next_states                               # roll over states to next time step\n",
    "        if np.any(dones):                                  # exit loop if episode finished\n",
    "            break\n",
    "    print('Score (max over agents) from episode {}: {}'.format(i, np.max(scores)))"
   ]
  },
  {
   "cell_type": "markdown",
   "metadata": {},
   "source": [
    "When finished, you can close the environment."
   ]
  },
  {
   "cell_type": "markdown",
   "metadata": {},
   "source": [
    "env.close()"
   ]
  },
  {
   "cell_type": "markdown",
   "metadata": {},
   "source": [
    "### 4. It's Your Turn!\n",
    "\n",
    "Now it's your turn to train your own agent to solve the environment!  When training the environment, set `train_mode=True`, so that the line for resetting the environment looks like the following:\n",
    "```python\n",
    "env_info = env.reset(train_mode=True)[brain_name]\n",
    "```"
   ]
  },
  {
   "cell_type": "markdown",
   "metadata": {},
   "source": [
    "### 4.1 Import settings\n",
    "Initiate the environment"
   ]
  },
  {
   "cell_type": "code",
   "execution_count": 1,
   "metadata": {},
   "outputs": [
    {
     "name": "stderr",
     "output_type": "stream",
     "text": [
      "INFO:unityagents:\n",
      "'Academy' started successfully!\n",
      "Unity Academy name: Academy\n",
      "        Number of Brains: 1\n",
      "        Number of External Brains : 1\n",
      "        Lesson number : 0\n",
      "        Reset Parameters :\n",
      "\t\t\n",
      "Unity brain name: TennisBrain\n",
      "        Number of Visual Observations (per agent): 0\n",
      "        Vector Observation space type: continuous\n",
      "        Vector Observation space size (per agent): 8\n",
      "        Number of stacked Vector Observation: 3\n",
      "        Vector Action space type: continuous\n",
      "        Vector Action space size (per agent): 2\n",
      "        Vector Action descriptions: , \n"
     ]
    },
    {
     "name": "stdout",
     "output_type": "stream",
     "text": [
      "Number of agents: 2\n",
      "Number of actions: 2\n",
      "States have length: 24\n"
     ]
    }
   ],
   "source": [
    "import os\n",
    "import torch \n",
    "import random\n",
    "from collections import deque\n",
    "import matplotlib.pyplot as plt\n",
    "%matplotlib inline\n",
    "from unityagents import UnityEnvironment\n",
    "import numpy as np\n",
    "from maddpg_N import *\n",
    "# !pip install progressbar2\n",
    "import progressbar as pb\n",
    "from torch.utils.tensorboard import SummaryWriter\n",
    "\n",
    "#---------------Environment set-up--------------------#\n",
    "env =UnityEnvironment(file_name='Tennis_Linux_NoVis/Tennis.x86_64')\n",
    "# get the default brain\n",
    "brain_name = env.brain_names[0]\n",
    "brain = env.brains[brain_name]\n",
    "\n",
    "# Initiate environment\n",
    "env_info = env.reset(train_mode=True)[brain_name]\n",
    "state = env_info.vector_observations[0]            # get the current state\n",
    "score = 0\n",
    "\n",
    "# number of agents in the environment\n",
    "n_agents = len(env_info.agents)\n",
    "print('Number of agents:', n_agents)\n",
    "# number of actions\n",
    "action_size = brain.vector_action_space_size\n",
    "print('Number of actions:', action_size)\n",
    "state_size = len(state)\n",
    "print('States have length:', state_size)\n",
    "#agent = DDPGAgent(state_size=state_size, action_size=action_size, seed=0)"
   ]
  },
  {
   "cell_type": "markdown",
   "metadata": {},
   "source": [
    "ddpg_body_dim = [(256,128),(256,128)]\n",
    "\n",
    "maddpg = MADDPG(state_size, action_size, ddpg_body_dim=ddpg_body_dim, seed=0, batch_size=128, buffer_size=int(10e5), tau=1e-3,\\\n",
    "                gamma=0.99, decay_noise=0.99,lr_actor=1e-3, lr_critic=1e-3, weight_decay=1e-6, device=device)"
   ]
  },
  {
   "cell_type": "code",
   "execution_count": 2,
   "metadata": {
    "scrolled": true
   },
   "outputs": [
    {
     "name": "stdout",
     "output_type": "stream",
     "text": [
      "Device used:  cuda:0\n"
     ]
    },
    {
     "name": "stderr",
     "output_type": "stream",
     "text": [
      "Training Status: Elapsed Time: 0:00:53   2% ETA:   0:43:25 |                  |"
     ]
    },
    {
     "name": "stdout",
     "output_type": "stream",
     "text": [
      "\r",
      "Episode 100\tScore: [ 0.   -0.01]\t 100 Moving Average Score: 0.0, OUNOISE: [0.43958842 0.49908495], pl -0.015521762892603874, cl 3.551291229086928e-06 \n"
     ]
    },
    {
     "name": "stderr",
     "output_type": "stream",
     "text": [
      "Training Status: Elapsed Time: 0:01:52   4% ETA:   0:44:42 |                  |"
     ]
    },
    {
     "name": "stdout",
     "output_type": "stream",
     "text": [
      "\r",
      "Episode 200\tScore: [-0.01  0.  ]\t 100 Moving Average Score: 0.0, OUNOISE: [0.3610673  0.36563752], pl 0.00427026953548193, cl 6.345249516925833e-07 \n"
     ]
    },
    {
     "name": "stderr",
     "output_type": "stream",
     "text": [
      "Training Status: Elapsed Time: 0:02:51   6% ETA:   0:44:30 |#                 |"
     ]
    },
    {
     "name": "stdout",
     "output_type": "stream",
     "text": [
      "\r",
      "Episode 300\tScore: [ 0.   -0.01]\t 100 Moving Average Score: 0.0, OUNOISE: [0.34294125 0.34163154], pl 0.005008047912269831, cl 2.0842193748649152e-07 \n"
     ]
    },
    {
     "name": "stderr",
     "output_type": "stream",
     "text": [
      "Training Status: Elapsed Time: 0:03:48   8% ETA:   0:43:42 |#                 |"
     ]
    },
    {
     "name": "stdout",
     "output_type": "stream",
     "text": [
      "\r",
      "Episode 400\tScore: [-0.01  0.  ]\t 100 Moving Average Score: 0.0, OUNOISE: [0.25023591 0.23782599], pl 0.005548825487494469, cl 1.176438217953546e-07 \n"
     ]
    },
    {
     "name": "stderr",
     "output_type": "stream",
     "text": [
      "Training Status: Elapsed Time: 0:04:47  10% ETA:   0:42:59 |#                 |"
     ]
    },
    {
     "name": "stdout",
     "output_type": "stream",
     "text": [
      "\r",
      "Episode 500\tScore: [ 0.   -0.01]\t 100 Moving Average Score: 0.004500000085681677, OUNOISE: [0.16003415 0.19090332], pl -0.10613565146923065, cl 0.0015410983469337225 \n"
     ]
    },
    {
     "name": "stderr",
     "output_type": "stream",
     "text": [
      "Training Status: Elapsed Time: 0:05:48  12% ETA:   0:42:28 |##                |"
     ]
    },
    {
     "name": "stdout",
     "output_type": "stream",
     "text": [
      "\r",
      "Episode 600\tScore: [-0.01  0.  ]\t 100 Moving Average Score: 0.006400000117719173, OUNOISE: [0.07940838 0.11575006], pl -0.03115496039390564, cl 0.00017214607214555144 \n"
     ]
    },
    {
     "name": "stderr",
     "output_type": "stream",
     "text": [
      "Training Status: Elapsed Time: 0:06:46  14% ETA:   0:41:35 |##                |"
     ]
    },
    {
     "name": "stdout",
     "output_type": "stream",
     "text": [
      "\r",
      "Episode 700\tScore: [-0.01  0.  ]\t 100 Moving Average Score: 0.0, OUNOISE: [0.11614191 0.08954867], pl -0.0021545076742768288, cl 6.016000406816602e-05 \n"
     ]
    },
    {
     "name": "stderr",
     "output_type": "stream",
     "text": [
      "Training Status: Elapsed Time: 0:07:50  16% ETA:   0:41:03 |##                |"
     ]
    },
    {
     "name": "stdout",
     "output_type": "stream",
     "text": [
      "\r",
      "Episode 800\tScore: [ 0.1  -0.01]\t 100 Moving Average Score: 0.0030000000447034836, OUNOISE: [0.06630203 0.07301685], pl 0.0021152189001441, cl 1.5330411770264618e-05 \n"
     ]
    },
    {
     "name": "stderr",
     "output_type": "stream",
     "text": [
      "Training Status: Elapsed Time: 0:09:19  18% ETA:   0:42:27 |###               |"
     ]
    },
    {
     "name": "stdout",
     "output_type": "stream",
     "text": [
      "\r",
      "Episode 900\tScore: [ 0.   -0.01]\t 100 Moving Average Score: 0.029000000432133674, OUNOISE: [0.05650497 0.04502879], pl 0.0018098376458510756, cl 4.659958904085215e-06 \n"
     ]
    },
    {
     "name": "stderr",
     "output_type": "stream",
     "text": [
      "Training Status: Elapsed Time: 0:10:29  20% ETA:   0:41:53 |###               |"
     ]
    },
    {
     "name": "stdout",
     "output_type": "stream",
     "text": [
      "\r",
      "Episode 1000\tScore: [-0.01  0.  ]\t 100 Moving Average Score: 0.018600000292062758, OUNOISE: [0.03481874 0.02240952], pl 0.002317408099770546, cl 1.3431227671389934e-05 \n"
     ]
    },
    {
     "name": "stderr",
     "output_type": "stream",
     "text": [
      "Training Status: Elapsed Time: 0:11:43  22% ETA:   0:41:34 |###               |"
     ]
    },
    {
     "name": "stdout",
     "output_type": "stream",
     "text": [
      "\r",
      "Episode 1100\tScore: [ 0.   -0.01]\t 100 Moving Average Score: 0.022700000461190938, OUNOISE: [0.02216584 0.01984081], pl 0.003493257099762559, cl 7.339618150581373e-06 \n"
     ]
    },
    {
     "name": "stderr",
     "output_type": "stream",
     "text": [
      "Training Status: Elapsed Time: 0:13:12  24% ETA:   0:41:46 |####              |"
     ]
    },
    {
     "name": "stdout",
     "output_type": "stream",
     "text": [
      "\r",
      "Episode 1200\tScore: [-0.01  0.  ]\t 100 Moving Average Score: 0.035400000549852845, OUNOISE: [0.01353248 0.01660098], pl 0.008167692460119724, cl 3.780327460845001e-05 \n"
     ]
    },
    {
     "name": "stderr",
     "output_type": "stream",
     "text": [
      "Training Status: Elapsed Time: 0:14:11  26% ETA:   0:40:20 |####              |"
     ]
    },
    {
     "name": "stdout",
     "output_type": "stream",
     "text": [
      "\r",
      "Episode 1300\tScore: [-0.01  0.  ]\t 100 Moving Average Score: 0.0, OUNOISE: [0.00581346 0.01206033], pl 0.005328514613211155, cl 3.5068936995230615e-05 \n"
     ]
    },
    {
     "name": "stderr",
     "output_type": "stream",
     "text": [
      "Training Status: Elapsed Time: 0:15:14  28% ETA:   0:39:10 |#####             |"
     ]
    },
    {
     "name": "stdout",
     "output_type": "stream",
     "text": [
      "\r",
      "Episode 1400\tScore: [-0.01  0.  ]\t 100 Moving Average Score: 0.00490000007674098, OUNOISE: [0.00793715 0.00910886], pl 0.007223003543913364, cl 9.078585208044387e-06 \n"
     ]
    },
    {
     "name": "stderr",
     "output_type": "stream",
     "text": [
      "Training Status: Elapsed Time: 0:16:23  30% ETA:   0:38:11 |#####             |"
     ]
    },
    {
     "name": "stdout",
     "output_type": "stream",
     "text": [
      "\r",
      "Episode 1500\tScore: [ 0.1  -0.01]\t 100 Moving Average Score: 0.019000000283122064, OUNOISE: [0.0040463  0.00729561], pl 0.004902405198663473, cl 1.762272404448595e-05 \n"
     ]
    },
    {
     "name": "stderr",
     "output_type": "stream",
     "text": [
      "Training Status: Elapsed Time: 0:18:10  32% ETA:   0:38:37 |#####             |"
     ]
    },
    {
     "name": "stdout",
     "output_type": "stream",
     "text": [
      "\r",
      "Episode 1600\tScore: [0.   0.09]\t 100 Moving Average Score: 0.06730000106617809, OUNOISE: [0.00460501 0.00318762], pl -0.019351430237293243, cl 4.428644751897082e-05 \n"
     ]
    },
    {
     "name": "stderr",
     "output_type": "stream",
     "text": [
      "Training Status: Elapsed Time: 0:20:45  34% ETA:   0:40:18 |######            |"
     ]
    },
    {
     "name": "stdout",
     "output_type": "stream",
     "text": [
      "\r",
      "Episode 1700\tScore: [0.   0.09]\t 100 Moving Average Score: 0.0972000015899539, OUNOISE: [0.00175887 0.00188098], pl -0.03380598500370979, cl 3.748213202925399e-05 \n"
     ]
    },
    {
     "name": "stderr",
     "output_type": "stream",
     "text": [
      "Training Status: Elapsed Time: 0:23:29  36% ETA:   0:41:46 |######            |"
     ]
    },
    {
     "name": "stdout",
     "output_type": "stream",
     "text": [
      "\r",
      "Episode 1800\tScore: [0.09 0.1 ]\t 100 Moving Average Score: 0.08710000140592455, OUNOISE: [0.00062036 0.00077573], pl -0.05562608689069748, cl 7.568002911284566e-05 \n"
     ]
    },
    {
     "name": "stderr",
     "output_type": "stream",
     "text": [
      "Training Status: Elapsed Time: 0:27:32  38% ETA:   0:44:56 |######            |"
     ]
    },
    {
     "name": "stdout",
     "output_type": "stream",
     "text": [
      "\r",
      "Episode 1900\tScore: [0.09 0.1 ]\t 100 Moving Average Score: 0.12270000187680125, OUNOISE: [0.00026914 0.00030463], pl -0.08476269245147705, cl 0.00019760863506235182 \n"
     ]
    },
    {
     "name": "stderr",
     "output_type": "stream",
     "text": [
      "Training Status: Elapsed Time: 0:37:15  40% ETA:   0:55:52 |#######           |"
     ]
    },
    {
     "name": "stdout",
     "output_type": "stream",
     "text": [
      "\r",
      "Episode 2000\tScore: [0.39000001 0.40000001]\t 100 Moving Average Score: 0.44720000671222804, OUNOISE: [7.30390295e-06 7.47057153e-06], pl -0.1786901354789734, cl 0.0007219853578135371 \n"
     ]
    },
    {
     "name": "stderr",
     "output_type": "stream",
     "text": [
      "Training Status: Elapsed Time: 0:55:05  42% ETA:   1:16:04 |#######           |"
     ]
    },
    {
     "name": "stdout",
     "output_type": "stream",
     "text": [
      "\r",
      "Episode 2100\tScore: [0.2  0.19]\t 100 Moving Average Score: 0.9334000139310956, OUNOISE: [4.53047802e-09 6.18987713e-09], pl -0.5359658002853394, cl 0.0016253297217190266 \n"
     ]
    },
    {
     "name": "stderr",
     "output_type": "stream",
     "text": [
      "Training Status: Elapsed Time: 1:04:39  44% ETA:   1:22:17 |#######           |"
     ]
    },
    {
     "name": "stdout",
     "output_type": "stream",
     "text": [
      "\r",
      "Episode 2200\tScore: [ 0.   -0.01]\t 100 Moving Average Score: 0.33600000500679017, OUNOISE: [3.29109378e-10 3.92436948e-10], pl -0.2741609811782837, cl 0.001796020194888115 \n"
     ]
    },
    {
     "name": "stderr",
     "output_type": "stream",
     "text": [
      "Training Status: Elapsed Time: 1:08:23  46% ETA:   1:20:17 |########          |"
     ]
    },
    {
     "name": "stdout",
     "output_type": "stream",
     "text": [
      "\r",
      "Episode 2300\tScore: [ 0.   -0.01]\t 100 Moving Average Score: 0.19400000289082528, OUNOISE: [7.94749523e-11 6.76588936e-11], pl -0.2198607325553894, cl 0.0005700936890207231 \n"
     ]
    },
    {
     "name": "stderr",
     "output_type": "stream",
     "text": [
      "Training Status: Elapsed Time: 1:11:34  48% ETA:   1:17:32 |########          |"
     ]
    },
    {
     "name": "stdout",
     "output_type": "stream",
     "text": [
      "\r",
      "Episode 2400\tScore: [0.09 0.2 ]\t 100 Moving Average Score: 0.14550000218674541, OUNOISE: [2.08019617e-11 2.32053201e-11], pl -0.23062999546527863, cl 0.0007393328123725951 \n"
     ]
    },
    {
     "name": "stderr",
     "output_type": "stream",
     "text": [
      "Training Status: Elapsed Time: 1:16:48  50% ETA:   1:16:48 |#########         |"
     ]
    },
    {
     "name": "stdout",
     "output_type": "stream",
     "text": [
      "\r",
      "Episode 2500\tScore: [0.   0.09]\t 100 Moving Average Score: 0.3346000050380826, OUNOISE: [1.73924334e-12 1.37332090e-12], pl -0.2826077938079834, cl 0.0006616199389100075 \n"
     ]
    },
    {
     "name": "stderr",
     "output_type": "stream",
     "text": [
      "Training Status: Elapsed Time: 1:23:45  52% ETA:   1:17:18 |#########         |"
     ]
    },
    {
     "name": "stdout",
     "output_type": "stream",
     "text": [
      "\r",
      "Episode 2600\tScore: [0.09 0.2 ]\t 100 Moving Average Score: 0.36000000543892385, OUNOISE: [8.55788627e-14 9.38567058e-14], pl -0.32542216777801514, cl 0.0008150253561325371 \n"
     ]
    },
    {
     "name": "stderr",
     "output_type": "stream",
     "text": [
      "Training Status: Elapsed Time: 1:32:00  54% ETA:   1:18:22 |#########         |"
     ]
    },
    {
     "name": "stdout",
     "output_type": "stream",
     "text": [
      "\r",
      "Episode 2700\tScore: [0.   0.09]\t 100 Moving Average Score: 0.36280000558122993, OUNOISE: [7.44809312e-15 4.90934761e-15], pl -0.4749094247817993, cl 0.0018566903891041875 \n"
     ]
    },
    {
     "name": "stderr",
     "output_type": "stream",
     "text": [
      "Training Status: Elapsed Time: 1:38:24  56% ETA:   1:17:19 |##########        |"
     ]
    },
    {
     "name": "stdout",
     "output_type": "stream",
     "text": [
      "\r",
      "Episode 2800\tScore: [0.1  0.09]\t 100 Moving Average Score: 0.25840000389143825, OUNOISE: [5.93109257e-16 3.55285254e-16], pl -0.591118335723877, cl 0.0020956783555448055 \n"
     ]
    },
    {
     "name": "stderr",
     "output_type": "stream",
     "text": [
      "Training Status: Elapsed Time: 1:46:42  58% ETA:   1:17:16 |##########        |"
     ]
    },
    {
     "name": "stdout",
     "output_type": "stream",
     "text": [
      "\r",
      "Episode 2900\tScore: [0.19 0.2 ]\t 100 Moving Average Score: 0.2835000042431057, OUNOISE: [5.89417833e-17 5.45216278e-17], pl -0.6882283687591553, cl 0.0036550057120621204 \n"
     ]
    },
    {
     "name": "stderr",
     "output_type": "stream",
     "text": [
      "Training Status: Elapsed Time: 1:54:29  60% ETA:   1:16:19 |##########        |"
     ]
    },
    {
     "name": "stdout",
     "output_type": "stream",
     "text": [
      "\r",
      "Episode 3000\tScore: [0.09 0.2 ]\t 100 Moving Average Score: 0.30470000460743907, OUNOISE: [4.16681473e-18 3.64326482e-18], pl -0.7530286908149719, cl 0.004702872131019831 \n"
     ]
    },
    {
     "name": "stderr",
     "output_type": "stream",
     "text": [
      "Training Status: Elapsed Time: 2:01:08  62% ETA:   1:14:14 |###########       |"
     ]
    },
    {
     "name": "stdout",
     "output_type": "stream",
     "text": [
      "\r",
      "Episode 3100\tScore: [0.40000001 0.39000001]\t 100 Moving Average Score: 0.25660000383853915, OUNOISE: [5.29992137e-19 6.96730882e-19], pl -0.784199059009552, cl 0.0029475626070052385 \n"
     ]
    },
    {
     "name": "stderr",
     "output_type": "stream",
     "text": [
      "Training Status: Elapsed Time: 2:09:17  64% ETA:   1:12:43 |###########       |"
     ]
    },
    {
     "name": "stdout",
     "output_type": "stream",
     "text": [
      "\r",
      "Episode 3200\tScore: [0.2  0.09]\t 100 Moving Average Score: 0.32680000495165584, OUNOISE: [5.98858729e-20 5.32733200e-20], pl -0.8629867434501648, cl 0.0034966357052326202 \n"
     ]
    },
    {
     "name": "stderr",
     "output_type": "stream",
     "text": [
      "Training Status: Elapsed Time: 2:18:39  66% ETA:   1:11:26 |###########       |"
     ]
    },
    {
     "name": "stdout",
     "output_type": "stream",
     "text": [
      "\r",
      "Episode 3300\tScore: [0.09 0.1 ]\t 100 Moving Average Score: 0.373300005607307, OUNOISE: [2.50153489e-21 2.41768433e-21], pl -0.9385125041007996, cl 0.005577222444117069 \n"
     ]
    },
    {
     "name": "stderr",
     "output_type": "stream",
     "text": [
      "Training Status: Elapsed Time: 2:31:49  70% ETA:   1:05:04 |############      |"
     ]
    },
    {
     "name": "stdout",
     "output_type": "stream",
     "text": [
      "\r",
      "Episode 3500\tScore: [0.09 0.1 ]\t 100 Moving Average Score: 0.23370000353083015, OUNOISE: [7.42171616e-23 8.44676305e-23], pl -0.8658064007759094, cl 0.00261079054325819 \n"
     ]
    },
    {
     "name": "stderr",
     "output_type": "stream",
     "text": [
      "Training Status: Elapsed Time: 2:40:01  72% ETA:   1:02:13 |############      |"
     ]
    },
    {
     "name": "stdout",
     "output_type": "stream",
     "text": [
      "\r",
      "Episode 3600\tScore: [0.3  0.29]\t 100 Moving Average Score: 0.2855000043287873, OUNOISE: [7.05792161e-24 4.92741133e-24], pl -0.8901081085205078, cl 0.005697951652109623 \n"
     ]
    },
    {
     "name": "stderr",
     "output_type": "stream",
     "text": [
      "Training Status: Elapsed Time: 2:46:12  74% ETA:   0:58:23 |#############     |"
     ]
    },
    {
     "name": "stdout",
     "output_type": "stream",
     "text": [
      "\r",
      "Episode 3700\tScore: [ 0.1  -0.01]\t 100 Moving Average Score: 0.257900003939867, OUNOISE: [8.47823745e-25 6.90163784e-25], pl -0.8768290281295776, cl 0.0053515080362558365 \n"
     ]
    },
    {
     "name": "stderr",
     "output_type": "stream",
     "text": [
      "Training Status: Elapsed Time: 3:00:39  78% ETA:   0:50:57 |##############    |"
     ]
    },
    {
     "name": "stdout",
     "output_type": "stream",
     "text": [
      "\r",
      "Episode 3900\tScore: [0.49000001 0.50000001]\t 100 Moving Average Score: 0.20680000316351652, OUNOISE: [1.17479228e-26 1.85531112e-26], pl -0.7563842535018921, cl 0.00425771763548255 \n"
     ]
    },
    {
     "name": "stderr",
     "output_type": "stream",
     "text": [
      "Training Status: Elapsed Time: 3:10:57  80% ETA:   0:47:44 |##############    |"
     ]
    },
    {
     "name": "stdout",
     "output_type": "stream",
     "text": [
      "\r",
      "Episode 4000\tScore: [-0.01  0.1 ]\t 100 Moving Average Score: 0.3225000048801303, OUNOISE: [1.22543839e-27 1.45593402e-27], pl -0.7942472696304321, cl 0.00250994716770947 \n"
     ]
    },
    {
     "name": "stderr",
     "output_type": "stream",
     "text": [
      "Training Status: Elapsed Time: 3:18:09  82% ETA:   0:43:29 |##############    |"
     ]
    },
    {
     "name": "stdout",
     "output_type": "stream",
     "text": [
      "\r",
      "Episode 4100\tScore: [0.   0.09]\t 100 Moving Average Score: 0.26670000413432715, OUNOISE: [1.66382053e-28 1.58311618e-28], pl -0.7648766040802002, cl 0.003701326670125127 \n"
     ]
    },
    {
     "name": "stderr",
     "output_type": "stream",
     "text": [
      "Training Status: Elapsed Time: 3:27:17  84% ETA:   0:39:29 |###############   |"
     ]
    },
    {
     "name": "stdout",
     "output_type": "stream",
     "text": [
      "\r",
      "Episode 4200\tScore: [ 0.1  -0.01]\t 100 Moving Average Score: 0.2972000044584274, OUNOISE: [1.09142165e-29 1.58276193e-29], pl -0.7680888175964355, cl 0.004780474118888378 \n"
     ]
    },
    {
     "name": "stderr",
     "output_type": "stream",
     "text": [
      "Training Status: Elapsed Time: 3:33:30  86% ETA:   0:34:45 |###############   |"
     ]
    },
    {
     "name": "stdout",
     "output_type": "stream",
     "text": [
      "\r",
      "Episode 4300\tScore: [0.50000001 0.49000001]\t 100 Moving Average Score: 0.21420000325888394, OUNOISE: [2.72720170e-30 2.06911601e-30], pl -0.7580874562263489, cl 0.0053833648562431335 \n"
     ]
    },
    {
     "name": "stderr",
     "output_type": "stream",
     "text": [
      "Training Status: Elapsed Time: 3:40:25  88% ETA:   0:30:03 |###############   |"
     ]
    },
    {
     "name": "stdout",
     "output_type": "stream",
     "text": [
      "\r",
      "Episode 4400\tScore: [0.1  0.19]\t 100 Moving Average Score: 0.21140000324696304, OUNOISE: [4.89540865e-31 3.31454993e-31], pl -0.7835450172424316, cl 0.003687141463160515 \n"
     ]
    },
    {
     "name": "stderr",
     "output_type": "stream",
     "text": [
      "Training Status: Elapsed Time: 3:45:52  90% ETA:   0:25:05 |################  |"
     ]
    },
    {
     "name": "stdout",
     "output_type": "stream",
     "text": [
      "\r",
      "Episode 4500\tScore: [0.09 0.1 ]\t 100 Moving Average Score: 0.1843000028654933, OUNOISE: [1.26122767e-31 1.00128698e-31], pl -0.7603170275688171, cl 0.007744855247437954 \n"
     ]
    },
    {
     "name": "stderr",
     "output_type": "stream",
     "text": [
      "Training Status: Elapsed Time: 3:51:14  92% ETA:   0:20:06 |################  |"
     ]
    },
    {
     "name": "stdout",
     "output_type": "stream",
     "text": [
      "\r",
      "Episode 4600\tScore: [0.1  0.09]\t 100 Moving Average Score: 0.16700000252574682, OUNOISE: [2.56628927e-32 1.65991521e-32], pl -0.7440719604492188, cl 0.0035240931902080774 \n"
     ]
    },
    {
     "name": "stderr",
     "output_type": "stream",
     "text": [
      "Training Status: Elapsed Time: 3:58:36  94% ETA:   0:15:13 |################  |"
     ]
    },
    {
     "name": "stdout",
     "output_type": "stream",
     "text": [
      "\r",
      "Episode 4700\tScore: [0.2  0.19]\t 100 Moving Average Score: 0.19890000304207206, OUNOISE: [3.53010368e-33 4.00234780e-33], pl -0.7174626588821411, cl 0.002743916818872094 \n"
     ]
    },
    {
     "name": "stderr",
     "output_type": "stream",
     "text": [
      "Training Status: Elapsed Time: 4:02:56  96% ETA:   0:10:04 |################# |"
     ]
    },
    {
     "name": "stdout",
     "output_type": "stream",
     "text": [
      "\r",
      "Episode 4800\tScore: [0.   0.09]\t 100 Moving Average Score: 0.12610000191256404, OUNOISE: [9.79498965e-34 1.34117924e-33], pl -0.6744831800460815, cl 0.003028222592547536 \n"
     ]
    },
    {
     "name": "stderr",
     "output_type": "stream",
     "text": [
      "Training Status: Elapsed Time: 4:06:08  98% ETA:   0:05:01 |################# |"
     ]
    },
    {
     "name": "stdout",
     "output_type": "stream",
     "text": [
      "\r",
      "Episode 4900\tScore: [0.2  0.09]\t 100 Moving Average Score: 0.10280000161379575, OUNOISE: [7.17337162e-34 7.11435989e-34], pl -0.61927330493927, cl 0.003905226243659854 \n"
     ]
    },
    {
     "name": "stderr",
     "output_type": "stream",
     "text": [
      "Training Status: Elapsed Time: 4:11:10 100% Time:  4:11:10 |##################|\n"
     ]
    },
    {
     "name": "stdout",
     "output_type": "stream",
     "text": [
      "\r",
      "Episode 5000\tScore: [0.40000001 0.29      ]\t 100 Moving Average Score: 0.14910000229254364, OUNOISE: [2.00880583e-34 1.62883443e-34], pl -0.5011993646621704, cl 0.0021582720801234245 \n"
     ]
    }
   ],
   "source": [
    "def main():\n",
    "    \"\"\"\n",
    "    Multiagent Deep deterministic Policy Gradient (MADDPG)\n",
    "    This specific MMADDPG will learn how to play a game of tennis. There are 24 states-observables and 2 action-dimensions for\n",
    "    each agent. \n",
    "        \n",
    "    \"\"\"\n",
    "    # ---------------Configuration----------------#\n",
    "     # Episodes and Trajectory\n",
    "    n_episodes = 5000\n",
    "    trajectory_length = 1000\n",
    "    batch_size = 256\n",
    "    \n",
    "    # Model Parameters\n",
    "    ddpg_body_dim = [(400,300),(400,300)]\n",
    "    seed = 10\n",
    "    buffer_size = int(1e5)\n",
    "    tau = 5e-3\n",
    "    gamma = 0.995\n",
    "    decay_noise = 0.999999\n",
    "    lr_actor = 1e-4\n",
    "    lr_critic = 5e-3\n",
    "    weight_decay = 0\n",
    "    multiple_learning = 5\n",
    "    \n",
    "    device = torch.device(\"cuda:0\" if torch.cuda.is_available() else 'cpu')\n",
    "    print(\"Device used: \", device)\n",
    "    maddpg = MADDPG(state_size, action_size, n_agents, linear_net_dim=ddpg_body_dim, seed=seed,\\\n",
    "                    batch_size=batch_size, buffer_size=buffer_size, tau=tau, gamma=gamma,\\\n",
    "                    decay_noise=decay_noise,lr_actor=lr_actor, lr_critic=lr_critic,\\\n",
    "                    weight_decay=weight_decay, device=device)\n",
    "    \n",
    "    # Save configurations\n",
    "    log_path = os.getcwd()+\"/log\"\n",
    "    model_dir= os.getcwd()+\"/model_dir\"\n",
    "    os.makedirs(model_dir, exist_ok=True)\n",
    "    \n",
    "    # initialize logging of rewards\n",
    "    logger = SummaryWriter(log_dir=log_path)\n",
    "    agent0_reward = deque(maxlen=100)\n",
    "    agent1_reward = deque(maxlen=100)\n",
    "\n",
    "    all_scores = []\n",
    "    all_avg_scores = []\n",
    "    scores_100 = deque(maxlen=100)    \n",
    "    \n",
    "    widget = [\"Training Status: \", pb.Timer(), ' ', pb.Percentage(), ' ', pb.ETA(), ' ', pb.Bar()]\n",
    "    #timer = pb.progressbar(widgets=widget, maxval=n_episodes).start()\n",
    "    \n",
    "    ##############################################################################\n",
    "    #---------------------------Training Commence--------------------------------#\n",
    "    for i_episode in pb.progressbar(range(1, n_episodes+1), widgets=widget):\n",
    "        env_info = env.reset(train_mode=True)[brain_name] # reset the environment\n",
    "        states = env_info.vector_observations           # get the current state\n",
    "        scores = np.zeros(len(env_info.agents))\n",
    "        for t in range(trajectory_length):\n",
    "        \n",
    "            actions = maddpg.act(states, noise=1.0)  # state[n_agent,dim], noise=1.0 (on)\n",
    "            env_info = env.step(actions)[brain_name]\n",
    "            next_states = env_info.vector_observations   # get the next state: array -  (num_agent, state_feature_dim)\n",
    "            rewards = env_info.rewards                   # get the reward: list - [num_agent]\n",
    "            dones = env_info.local_done                  # see if episode has finished: list - [num_agent]\n",
    "            \n",
    "            # Add to memory \n",
    "            maddpg.memory.add_experience(states,actions,rewards, next_states,dones)\n",
    "            if (len(maddpg.memory) > batch_size) and (i_episode % 4 == 0):\n",
    "                for i in range(multiple_learning):\n",
    "                    for agent_i in range(2):\n",
    "                        maddpg.step(batch_size, agent_i, logger)\n",
    "                    maddpg.update_targets()\n",
    "                    \n",
    "            scores += rewards                               # update the score\n",
    "            states = next_states                             # roll over the state to next time step\n",
    "            if np.any(dones):# and t>100:\n",
    "                break\n",
    "            \n",
    "            \n",
    "            \n",
    "        # LR Update once after every episode\n",
    "        ## maddpg.lr_update()                 \n",
    "           \n",
    "        agent0_reward.append(scores[0])       # save latest score into a variable containing the 100 latest scores\n",
    "        agent1_reward.append(scores[1])\n",
    "        all_scores.append(np.max(scores))\n",
    "        scores_100.append(np.max(scores))\n",
    "        avg_score = np.mean(scores_100)\n",
    "        all_avg_scores.append(avg_score)\n",
    "                \n",
    "\n",
    "        if i_episode % 100 ==0 or i_episode==n_episodes-1:\n",
    "            avg_rewards = [np.mean(agent0_reward), np.mean(agent1_reward)]\n",
    "            for agent_i , avg_reward in enumerate(avg_rewards):\n",
    "                logger.add_scalar(\"Agent%i/mean_episode_rewards\"% agent_i, avg_reward, i_episode)\n",
    "            \n",
    "        if i_episode % 100 == 0:\n",
    "            print('\\rEpisode {}\\tScore: {}\\t 100 Moving Average Score: {}, OUNOISE: {}, pl {}, cl {} '.format(i_episode, scores, avg_score, maddpg.noise.state*maddpg.decay_noise, maddpg.pl, maddpg.cl))\n",
    "            \n",
    "        # save model\n",
    "        agent_checkpoints = []\n",
    "        if np.mean(avg_score)>=0.5 and i_episode >=3000:\n",
    "            \n",
    "            print('\\nEnvironment solved in {:d} episodes!\\t Score: {:5.2f}\\t 10 Moving Average Score: {:.2f}'.format(i_episode, score, avg_score))\n",
    "            for agent_i in range(2):\n",
    "                checkpoint = {\n",
    "                    'actor_params_{}'.format(agent_i): maddpg.maddpg_agent[agent_i].actor_local.state_dict(),\n",
    "                    'critic_params_{}'.format(agent_i): maddpg.maddpg_agent[agent_i]\n",
    "                    }   \n",
    "                agent_checkpoints.append(checkpoint)\n",
    "            print(\"\\nModel saved!💎🙌\")\n",
    "            torch.save(agent_checkpoints, model_dir+'checkpoint.pt')\n",
    "            \n",
    "            logger.close()\n",
    "            return (all_scores, all_avg_scores, maddpg)\n",
    "    \n",
    "    logger.close()\n",
    "    return (all_scores, all_avg_scores, maddpg)\n",
    "\n",
    "output_tuple = main()\n",
    "env.close()"
   ]
  },
  {
   "cell_type": "code",
   "execution_count": 7,
   "metadata": {},
   "outputs": [
    {
     "data": {
      "image/png": "[encoded data removed]",
      "text/plain": [
       "<Figure size 720x432 with 2 Axes>"
      ]
     },
     "metadata": {},
     "output_type": "display_data"
    }
   ],
   "source": [
    "# plot the scores\n",
    "import seaborn as sns\n",
    "scores, avg_scores, _  = output_tuple\n",
    "sns.set()\n",
    "fig = plt.figure(figsize=(10,6))\n",
    "ax1 = fig.add_subplot(121)\n",
    "ax1.plot(np.arange(len(scores)), scores)\n",
    "ax2 = fig.add_subplot(122)\n",
    "ax2.plot(np.arange(len(avg_scores)), avg_scores)\n",
    "\n",
    "ax1.set(ylabel='Scores', xlabel='Episode #', title=\"Average agents scores per Episode\")\n",
    "ax2.set(ylabel='Scores', xlabel='Episodes x100#', title=\"Average agents scores averaged over per #100 Episode\")\n",
    "plt.show()\n",
    "fig.tight_layout()\n",
    "fig.savefig(\"/home/lew/Projects/Continuous-control_/plots/20agents-DDPG_reacher.png\")"
   ]
  },
  {
   "cell_type": "code",
   "execution_count": null,
   "metadata": {},
   "outputs": [],
   "source": []
  }
 ],
 "metadata": {
  "kernelspec": {
   "display_name": "Python 3",
   "language": "python",
   "name": "python3"
  },
  "language_info": {
   "codemirror_mode": {
    "name": "ipython",
    "version": 3
   },
   "file_extension": ".py",
   "mimetype": "text/x-python",
   "name": "python",
   "nbconvert_exporter": "python",
   "pygments_lexer": "ipython3",
   "version": "3.6.8"
  }
 },
 "nbformat": 4,
 "nbformat_minor": 2
}
