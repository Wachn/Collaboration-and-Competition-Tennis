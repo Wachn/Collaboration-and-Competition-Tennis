{
 "cells": [
  {
   "cell_type": "markdown",
   "metadata": {},
   "source": [
    "# Collaboration and Competition\n",
    "\n",
    "---\n",
    "\n",
    "In this notebook, you will learn how to use the Unity ML-Agents environment for the third project of the [Deep Reinforcement Learning Nanodegree](https://www.udacity.com/course/deep-reinforcement-learning-nanodegree--nd893) program.\n",
    "\n",
    "### 1. Start the Environment\n",
    "\n",
    "We begin by importing the necessary packages.  If the code cell below returns an error, please revisit the project instructions to double-check that you have installed [Unity ML-Agents](https://github.com/Unity-Technologies/ml-agents/blob/master/docs/Installation.md) and [NumPy](http://www.numpy.org/)."
   ]
  },
  {
   "cell_type": "markdown",
   "metadata": {},
   "source": [
    "from unityagents import UnityEnvironment\n",
    "import numpy as np"
   ]
  },
  {
   "cell_type": "markdown",
   "metadata": {},
   "source": [
    "Next, we will start the environment!  **_Before running the code cell below_**, change the `file_name` parameter to match the location of the Unity environment that you downloaded.\n",
    "\n",
    "- **Mac**: `\"path/to/Tennis.app\"`\n",
    "- **Windows** (x86): `\"path/to/Tennis_Windows_x86/Tennis.exe\"`\n",
    "- **Windows** (x86_64): `\"path/to/Tennis_Windows_x86_64/Tennis.exe\"`\n",
    "- **Linux** (x86): `\"path/to/Tennis_Linux/Tennis.x86\"`\n",
    "- **Linux** (x86_64): `\"path/to/Tennis_Linux/Tennis.x86_64\"`\n",
    "- **Linux** (x86, headless): `\"path/to/Tennis_Linux_NoVis/Tennis.x86\"`\n",
    "- **Linux** (x86_64, headless): `\"path/to/Tennis_Linux_NoVis/Tennis.x86_64\"`\n",
    "\n",
    "For instance, if you are using a Mac, then you downloaded `Tennis.app`.  If this file is in the same folder as the notebook, then the line below should appear as follows:\n",
    "```\n",
    "env = UnityEnvironment(file_name=\"Tennis_Windows_x86_64/Tennis.exe\")\n",
    "```"
   ]
  },
  {
   "cell_type": "markdown",
   "metadata": {},
   "source": [
    "env = UnityEnvironment(file_name=\"Tennis_Windows_x86_64/Tennis.exe\")"
   ]
  },
  {
   "cell_type": "markdown",
   "metadata": {},
   "source": [
    "Environments contain **_brains_** which are responsible for deciding the actions of their associated agents. Here we check for the first brain available, and set it as the default brain we will be controlling from Python."
   ]
  },
  {
   "cell_type": "markdown",
   "metadata": {},
   "source": [
    "# get the default brain\n",
    "brain_name = env.brain_names[0]\n",
    "brain = env.brains[brain_name]"
   ]
  },
  {
   "cell_type": "markdown",
   "metadata": {},
   "source": [
    "### 2. Examine the State and Action Spaces\n",
    "\n",
    "In this environment, two agents control rackets to bounce a ball over a net. If an agent hits the ball over the net, it receives a reward of +0.1.  If an agent lets a ball hit the ground or hits the ball out of bounds, it receives a reward of -0.01.  Thus, the goal of each agent is to keep the ball in play.\n",
    "\n",
    "The observation space consists of 8 variables corresponding to the position and velocity of the ball and racket. Two continuous actions are available, corresponding to movement toward (or away from) the net, and jumping. \n",
    "\n",
    "Run the code cell below to print some information about the environment."
   ]
  },
  {
   "cell_type": "markdown",
   "metadata": {},
   "source": [
    "# reset the environment\n",
    "env_info = env.reset(train_mode=True)[brain_name]\n",
    "print(\"Brain Name: \", brain_name)\n",
    "# number of agents \n",
    "num_agents = len(env_info.agents)\n",
    "print('Number of agents:', num_agents)\n",
    "\n",
    "# size of each action\n",
    "action_size = brain.vector_action_space_size\n",
    "print('Size of each action:', action_size)\n",
    "\n",
    "# examine the state space \n",
    "states = env_info.vector_observations\n",
    "state_size = states.shape[1]\n",
    "print(\"State sizes: \", states.shape)\n",
    "print('There are {} agents. Each observes a state with length: {}'.format(states.shape[0], state_size))\n",
    "print('The state for the first agent looks like:', states[0])"
   ]
  },
  {
   "cell_type": "markdown",
   "metadata": {},
   "source": [
    "### 3. Take Random Actions in the Environment\n",
    "\n",
    "In the next code cell, you will learn how to use the Python API to control the agents and receive feedback from the environment.\n",
    "\n",
    "Once this cell is executed, you will watch the agents' performance, if they select actions at random with each time step.  A window should pop up that allows you to observe the agents.\n",
    "\n",
    "Of course, as part of the project, you'll have to change the code so that the agents are able to use their experiences to gradually choose better actions when interacting with the environment!"
   ]
  },
  {
   "cell_type": "markdown",
   "metadata": {},
   "source": [
    "for i in range(1, 6):                                      # play game for 5 episodes\n",
    "    env_info = env.reset(train_mode=False)[brain_name]     # reset the environment    \n",
    "    states = env_info.vector_observations                  # get the current state (for each agent)\n",
    "    scores = np.zeros(num_agents)                          # initialize the score (for each agent)\n",
    "    while True:\n",
    "        actions = np.random.randn(num_agents, action_size) # select an action (for each agent)\n",
    "        actions = np.clip(actions, -1, 1)                  # all actions between -1 and 1\n",
    "        env_info = env.step(actions)[brain_name]           # send all actions to tne environment\n",
    "        next_states = env_info.vector_observations         # get next state (for each agent)\n",
    "        rewards = env_info.rewards                         # get reward (for each agent)\n",
    "        dones = env_info.local_done                        # see if episode finished\n",
    "        scores += env_info.rewards                         # update the score (for each agent)\n",
    "        states = next_states                               # roll over states to next time step\n",
    "        if np.any(dones):                                  # exit loop if episode finished\n",
    "            break\n",
    "    print('Score (max over agents) from episode {}: {}'.format(i, np.max(scores)))"
   ]
  },
  {
   "cell_type": "markdown",
   "metadata": {},
   "source": [
    "When finished, you can close the environment."
   ]
  },
  {
   "cell_type": "markdown",
   "metadata": {},
   "source": [
    "env.close()"
   ]
  },
  {
   "cell_type": "markdown",
   "metadata": {},
   "source": [
    "### 4. It's Your Turn!\n",
    "\n",
    "Now it's your turn to train your own agent to solve the environment!  When training the environment, set `train_mode=True`, so that the line for resetting the environment looks like the following:\n",
    "```python\n",
    "env_info = env.reset(train_mode=True)[brain_name]\n",
    "```"
   ]
  },
  {
   "cell_type": "markdown",
   "metadata": {},
   "source": [
    "### 4.1 Import settings\n",
    "Initiate the environment"
   ]
  },
  {
   "cell_type": "code",
   "execution_count": 1,
   "metadata": {},
   "outputs": [
    {
     "name": "stderr",
     "output_type": "stream",
     "text": [
      "INFO:unityagents:\n",
      "'Academy' started successfully!\n",
      "Unity Academy name: Academy\n",
      "        Number of Brains: 1\n",
      "        Number of External Brains : 1\n",
      "        Lesson number : 0\n",
      "        Reset Parameters :\n",
      "\t\t\n",
      "Unity brain name: TennisBrain\n",
      "        Number of Visual Observations (per agent): 0\n",
      "        Vector Observation space type: continuous\n",
      "        Vector Observation space size (per agent): 8\n",
      "        Number of stacked Vector Observation: 3\n",
      "        Vector Action space type: continuous\n",
      "        Vector Action space size (per agent): 2\n",
      "        Vector Action descriptions: , \n"
     ]
    },
    {
     "name": "stdout",
     "output_type": "stream",
     "text": [
      "Number of agents: 2\n",
      "Number of actions: 2\n",
      "States have length: 24\n"
     ]
    }
   ],
   "source": [
    "import os\n",
    "import torch \n",
    "import random\n",
    "from collections import deque\n",
    "import matplotlib.pyplot as plt\n",
    "%matplotlib inline\n",
    "from unityagents import UnityEnvironment\n",
    "import numpy as np\n",
    "from maddpg_N import *\n",
    "# !pip install progressbar2\n",
    "import progressbar as pb\n",
    "from torch.utils.tensorboard import SummaryWriter\n",
    "\n",
    "#---------------Environment set-up--------------------#\n",
    "env =UnityEnvironment(file_name='Tennis_Linux_NoVis/Tennis.x86_64')\n",
    "# get the default brain\n",
    "brain_name = env.brain_names[0]\n",
    "brain = env.brains[brain_name]\n",
    "\n",
    "# Initiate environment\n",
    "env_info = env.reset(train_mode=True)[brain_name]\n",
    "state = env_info.vector_observations[0]            # get the current state\n",
    "score = 0\n",
    "\n",
    "# number of agents in the environment\n",
    "n_agents = len(env_info.agents)\n",
    "print('Number of agents:', n_agents)\n",
    "# number of actions\n",
    "action_size = brain.vector_action_space_size\n",
    "print('Number of actions:', action_size)\n",
    "state_size = len(state)\n",
    "print('States have length:', state_size)\n",
    "#agent = DDPGAgent(state_size=state_size, action_size=action_size, seed=0)"
   ]
  },
  {
   "cell_type": "markdown",
   "metadata": {},
   "source": [
    "ddpg_body_dim = [(256,128),(256,128)]\n",
    "\n",
    "maddpg = MADDPG(state_size, action_size, ddpg_body_dim=ddpg_body_dim, seed=0, batch_size=128, buffer_size=int(10e5), tau=1e-3,\\\n",
    "                gamma=0.99, decay_noise=0.99,lr_actor=1e-3, lr_critic=1e-3, weight_decay=1e-6, device=device)"
   ]
  },
  {
   "cell_type": "code",
   "execution_count": null,
   "metadata": {
    "scrolled": false
   },
   "outputs": [
    {
     "name": "stdout",
     "output_type": "stream",
     "text": [
      "Device used:  cuda:0\n"
     ]
    },
    {
     "name": "stderr",
     "output_type": "stream",
     "text": [
      "Training Status: Elapsed Time: 0:03:43   1% ETA:   6:08:32 |                  |"
     ]
    },
    {
     "name": "stdout",
     "output_type": "stream",
     "text": [
      "\r",
      "Episode 100\tScore: [-0.04 -0.02]\t 100 Moving Average Score: -0.011699999179691077, OUNOISE: [0.06166402 0.06024063], pl 0.005723802372813225, cl 2.576050803781982e-07 \n"
     ]
    },
    {
     "name": "stderr",
     "output_type": "stream",
     "text": [
      "Training Status: Elapsed Time: 0:08:27   2% ETA:   6:54:46 |                  |"
     ]
    },
    {
     "name": "stdout",
     "output_type": "stream",
     "text": [
      "\r",
      "Episode 200\tScore: [ 0.07 -0.04]\t 100 Moving Average Score: 0.15450000317767262, OUNOISE: [0.00707447 0.0074883 ], pl 0.005319547839462757, cl 1.0012987559093744e-06 \n"
     ]
    },
    {
     "name": "stderr",
     "output_type": "stream",
     "text": [
      "Training Status: Elapsed Time: 0:13:15   3% ETA:   7:08:56 |                  |"
     ]
    },
    {
     "name": "stdout",
     "output_type": "stream",
     "text": [
      "\r",
      "Episode 300\tScore: [-0.03 -0.05]\t 100 Moving Average Score: 0.017100001256912946, OUNOISE: [0.00068271 0.00070385], pl 0.004973313771188259, cl 8.797587724984623e-07 \n"
     ]
    },
    {
     "name": "stderr",
     "output_type": "stream",
     "text": [
      "Training Status: Elapsed Time: 0:18:04   4% ETA:   7:13:55 |                  |"
     ]
    },
    {
     "name": "stdout",
     "output_type": "stream",
     "text": [
      "\r",
      "Episode 400\tScore: [-0.01        0.27000001]\t 100 Moving Average Score: 0.013500001262873412, OUNOISE: [8.43734441e-05 7.29665547e-05], pl 0.004036454018205404, cl 3.288670086476486e-06 \n"
     ]
    },
    {
     "name": "stderr",
     "output_type": "stream",
     "text": [
      "Training Status: Elapsed Time: 0:22:55   5% ETA:   7:15:28 |                  |"
     ]
    },
    {
     "name": "stdout",
     "output_type": "stream",
     "text": [
      "\r",
      "Episode 500\tScore: [-0.04 -0.04]\t 100 Moving Average Score: 0.011600001230835915, OUNOISE: [6.63398362e-06 7.40469043e-06], pl 0.005196115933358669, cl 5.581197228821111e-07 \n"
     ]
    },
    {
     "name": "stderr",
     "output_type": "stream",
     "text": [
      "Training Status: Elapsed Time: 0:27:45   6% ETA:   7:14:56 |#                 |"
     ]
    },
    {
     "name": "stdout",
     "output_type": "stream",
     "text": [
      "\r",
      "Episode 600\tScore: [-0.01  0.17]\t 100 Moving Average Score: 0.024200001433491707, OUNOISE: [1.05375582e-06 7.24150137e-07], pl 0.005091719329357147, cl 9.221540722137433e-07 \n"
     ]
    },
    {
     "name": "stderr",
     "output_type": "stream",
     "text": [
      "Training Status: Elapsed Time: 0:32:39   7% ETA:   7:13:54 |#                 |"
     ]
    },
    {
     "name": "stdout",
     "output_type": "stream",
     "text": [
      "\r",
      "Episode 700\tScore: [-0.02 -0.04]\t 100 Moving Average Score: 0.010800001211464405, OUNOISE: [1.04262554e-07 9.79140006e-08], pl 0.0053086839616298676, cl 5.519170827028574e-07 \n"
     ]
    },
    {
     "name": "stderr",
     "output_type": "stream",
     "text": [
      "Training Status: Elapsed Time: 0:37:28   8% ETA:   7:10:58 |#                 |"
     ]
    },
    {
     "name": "stdout",
     "output_type": "stream",
     "text": [
      "\r",
      "Episode 800\tScore: [-0.06 -0.02]\t 100 Moving Average Score: 0.057300001848489046, OUNOISE: [1.20745975e-08 6.35929206e-09], pl 0.00592387281358242, cl 1.1788645224442007e-06 \n"
     ]
    },
    {
     "name": "stderr",
     "output_type": "stream",
     "text": [
      "Training Status: Elapsed Time: 0:42:05   8% ETA:   7:06:41 |#                 |"
     ]
    }
   ],
   "source": [
    "def main():\n",
    "    \"\"\"\n",
    "    Multiagent Deep deterministic Policy Gradient (MADDPG)\n",
    "    This specific MMADDPG will learn how to play a game of tennis. There are 24 states-observables and 2 action-dimensions for\n",
    "    each agent. \n",
    "        \n",
    "    \"\"\"\n",
    "    # ---------------Configuration----------------#\n",
    "     # Episodes and Trajectory\n",
    "    n_episodes = 10000\n",
    "    trajectory_length = 1000\n",
    "    batch_size = 256\n",
    "    \n",
    "    # Model Parameters\n",
    "    ddpg_body_dim = [(400,300),(400,300)]\n",
    "    seed = 10\n",
    "    buffer_size = int(1e5)\n",
    "    tau = 1e-3\n",
    "    gamma = 0.995\n",
    "    decay_noise = 0.98\n",
    "    lr_actor = 5e-4\n",
    "    lr_critic = 1e-3\n",
    "    weight_decay = 0\n",
    "    multiple_learning = 3\n",
    "    \n",
    "    device = torch.device(\"cuda:0\" if torch.cuda.is_available() else 'cpu')\n",
    "    print(\"Device used: \", device)\n",
    "    maddpg = MADDPG(state_size, action_size, n_agents, linear_net_dim=ddpg_body_dim, seed=seed,\\\n",
    "                    batch_size=batch_size, buffer_size=buffer_size, tau=tau, gamma=gamma,\\\n",
    "                    decay_noise=decay_noise,lr_actor=lr_actor, lr_critic=lr_critic,\\\n",
    "                    weight_decay=weight_decay, device=device)\n",
    "    \n",
    "    # Save configurations\n",
    "    log_path = os.getcwd()+\"/log\"\n",
    "    model_dir= os.getcwd()+\"/model_dir\"\n",
    "    os.makedirs(model_dir, exist_ok=True)\n",
    "    \n",
    "    # initialize logging of rewards\n",
    "    logger = SummaryWriter(log_dir=log_path)\n",
    "    agent0_reward = deque(maxlen=100)\n",
    "    agent1_reward = deque(maxlen=100)\n",
    "\n",
    "    all_scores = []\n",
    "    all_avg_scores = []\n",
    "    scores_100 = deque(maxlen=100)    \n",
    "    \n",
    "    widget = [\"Training Status: \", pb.Timer(), ' ', pb.Percentage(), ' ', pb.ETA(), ' ', pb.Bar()]\n",
    "    #timer = pb.progressbar(widgets=widget, maxval=n_episodes).start()\n",
    "    \n",
    "    ##############################################################################\n",
    "    #---------------------------Training Commence--------------------------------#\n",
    "    for i_episode in pb.progressbar(range(1, n_episodes+1), widgets=widget):\n",
    "        env_info = env.reset(train_mode=True)[brain_name] # reset the environment\n",
    "        states = env_info.vector_observations           # get the current state\n",
    "        scores = np.zeros(len(env_info.agents))\n",
    "        for t in range(trajectory_length):\n",
    "        \n",
    "            actions = maddpg.act(states, noise=1.0)  # state[n_agent,dim], noise=1.0 (on)\n",
    "            env_info = env.step(actions)[brain_name]\n",
    "            next_states = env_info.vector_observations   # get the next state: array -  (num_agent, state_feature_dim)\n",
    "            rewards = env_info.rewards                   # get the reward: list - [num_agent]\n",
    "            dones = env_info.local_done                  # see if episode has finished: list - [num_agent]\n",
    "            \n",
    "            # Add to memory\n",
    "            if (np.any(dones)): \n",
    "                maddpg.memory.add_experience(states,actions,rewards, next_states,dones)\n",
    "            scores += rewards                               # update the score\n",
    "            states = next_states                             # roll over the state to next time step\n",
    "            if np.any(dones) and t>100:\n",
    "                break\n",
    "            \n",
    "            \n",
    "            if (len(maddpg.memory) > batch_size) and (i_episode % 4 == 0):\n",
    "                for i in range(multiple_learning):\n",
    "                    for agent_i in range(2):\n",
    "                        maddpg.step(batch_size, agent_i, logger)\n",
    "                    maddpg.update_targets()\n",
    "        # LR Update once after every episode\n",
    "        maddpg.lr_update()                 \n",
    "           \n",
    "        agent0_reward.append(scores[0])       # save latest score into a variable containing the 100 latest scores\n",
    "        agent1_reward.append(scores[1])\n",
    "        all_scores.append(np.max(scores))\n",
    "        scores_100.append(np.max(scores))\n",
    "        avg_score = np.mean(scores_100)\n",
    "        all_avg_scores.append(avg_score)\n",
    "                \n",
    "\n",
    "        if i_episode % 100 ==0 or i_episode==n_episodes-1:\n",
    "            avg_rewards = [np.mean(agent0_reward), np.mean(agent1_reward)]\n",
    "            for agent_i , avg_reward in enumerate(avg_rewards):\n",
    "                logger.add_scalar(\"Agent%i/mean_episode_rewards\"% agent_i, avg_reward, i_episode)\n",
    "            \n",
    "        if i_episode % 100 == 0:\n",
    "            print('\\rEpisode {}\\tScore: {}\\t 100 Moving Average Score: {}, OUNOISE: {}, pl {}, cl {} '.format(i_episode, scores, avg_score, maddpg.noise.state*maddpg.decay_noise, maddpg.pl, maddpg.cl))\n",
    "            \n",
    "        # save model\n",
    "        agent_checkpoints = []\n",
    "        if np.mean(avg_score)>=0.5 and i_episode >=100:\n",
    "            \n",
    "            print('\\nEnvironment solved in {:d} episodes!\\t Score: {:5.2f}\\t 10 Moving Average Score: {:.2f}'.format(i_episode, score, avg_score))\n",
    "            for agent_i in range(2):\n",
    "                checkpoint = {\n",
    "                    'net_params': maddpg.maddpg_agent[agent_i].network_local.state_dict()}   \n",
    "                agent_checkpoints.append(checkpoint)\n",
    "            print(\"\\nModel saved!💎🙌\")\n",
    "            torch.save(agent_checkpoints, model_dir+'checkpoint.pt')\n",
    "    logger.close()\n",
    "    \n",
    "    return (all_scores, all_avg_scores, maddpg)\n",
    "\n",
    "output_tuple = main()"
   ]
  },
  {
   "cell_type": "code",
   "execution_count": null,
   "metadata": {},
   "outputs": [],
   "source": [
    "# plot the scores\n",
    "import seaborn as sns\n",
    "scores, avg_scores, _  = output_tuple\n",
    "sns.set()\n",
    "fig = plt.figure(figsize=(10,6))\n",
    "ax1 = fig.add_subplot(121)\n",
    "ax1.plot(np.arange(len(scores)), scores)\n",
    "ax2 = fig.add_subplot(122)\n",
    "ax2.plot(np.arange(len(avg_scores)), avg_scores)\n",
    "\n",
    "ax1.set(ylabel='Scores', xlabel='Episode #', title=\"Average agents scores per Episode\")\n",
    "ax2.set(ylabel='Scores', xlabel='Episodes x100#', title=\"Average agents scores per Episode\")\n",
    "plt.show()\n",
    "fig.tight_layout()\n",
    "fig.savefig(\"/home/lew/Projects/Continuous-control_/plots/20agents-DDPG_reacher.png\")"
   ]
  },
  {
   "cell_type": "code",
   "execution_count": null,
   "metadata": {},
   "outputs": [],
   "source": [
    "output_tuple"
   ]
  },
  {
   "cell_type": "code",
   "execution_count": null,
   "metadata": {},
   "outputs": [],
   "source": [
    "np.maximum(np.array((2,0.23)),2.5)"
   ]
  },
  {
   "cell_type": "code",
   "execution_count": null,
   "metadata": {},
   "outputs": [],
   "source": []
  }
 ],
 "metadata": {
  "kernelspec": {
   "display_name": "Python 3",
   "language": "python",
   "name": "python3"
  },
  "language_info": {
   "codemirror_mode": {
    "name": "ipython",
    "version": 3
   },
   "file_extension": ".py",
   "mimetype": "text/x-python",
   "name": "python",
   "nbconvert_exporter": "python",
   "pygments_lexer": "ipython3",
   "version": "3.6.8"
  }
 },
 "nbformat": 4,
 "nbformat_minor": 2
}
