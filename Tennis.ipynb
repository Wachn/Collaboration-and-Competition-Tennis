{
 "cells": [
  {
   "cell_type": "markdown",
   "metadata": {},
   "source": [
    "# Collaboration and Competition\n",
    "\n",
    "---\n",
    "\n",
    "In this notebook, you will learn how to use the Unity ML-Agents environment for the third project of the [Deep Reinforcement Learning Nanodegree](https://www.udacity.com/course/deep-reinforcement-learning-nanodegree--nd893) program.\n",
    "\n",
    "### 1. Start the Environment\n",
    "\n",
    "We begin by importing the necessary packages.  If the code cell below returns an error, please revisit the project instructions to double-check that you have installed [Unity ML-Agents](https://github.com/Unity-Technologies/ml-agents/blob/master/docs/Installation.md) and [NumPy](http://www.numpy.org/)."
   ]
  },
  {
   "cell_type": "markdown",
   "metadata": {},
   "source": [
    "from unityagents import UnityEnvironment\n",
    "import numpy as np"
   ]
  },
  {
   "cell_type": "markdown",
   "metadata": {},
   "source": [
    "Next, we will start the environment!  **_Before running the code cell below_**, change the `file_name` parameter to match the location of the Unity environment that you downloaded.\n",
    "\n",
    "- **Mac**: `\"path/to/Tennis.app\"`\n",
    "- **Windows** (x86): `\"path/to/Tennis_Windows_x86/Tennis.exe\"`\n",
    "- **Windows** (x86_64): `\"path/to/Tennis_Windows_x86_64/Tennis.exe\"`\n",
    "- **Linux** (x86): `\"path/to/Tennis_Linux/Tennis.x86\"`\n",
    "- **Linux** (x86_64): `\"path/to/Tennis_Linux/Tennis.x86_64\"`\n",
    "- **Linux** (x86, headless): `\"path/to/Tennis_Linux_NoVis/Tennis.x86\"`\n",
    "- **Linux** (x86_64, headless): `\"path/to/Tennis_Linux_NoVis/Tennis.x86_64\"`\n",
    "\n",
    "For instance, if you are using a Mac, then you downloaded `Tennis.app`.  If this file is in the same folder as the notebook, then the line below should appear as follows:\n",
    "```\n",
    "env = UnityEnvironment(file_name=\"Tennis_Windows_x86_64/Tennis.exe\")\n",
    "```"
   ]
  },
  {
   "cell_type": "markdown",
   "metadata": {},
   "source": [
    "env = UnityEnvironment(file_name=\"Tennis_Windows_x86_64/Tennis.exe\")"
   ]
  },
  {
   "cell_type": "markdown",
   "metadata": {},
   "source": [
    "Environments contain **_brains_** which are responsible for deciding the actions of their associated agents. Here we check for the first brain available, and set it as the default brain we will be controlling from Python."
   ]
  },
  {
   "cell_type": "markdown",
   "metadata": {},
   "source": [
    "# get the default brain\n",
    "brain_name = env.brain_names[0]\n",
    "brain = env.brains[brain_name]"
   ]
  },
  {
   "cell_type": "markdown",
   "metadata": {},
   "source": [
    "### 2. Examine the State and Action Spaces\n",
    "\n",
    "In this environment, two agents control rackets to bounce a ball over a net. If an agent hits the ball over the net, it receives a reward of +0.1.  If an agent lets a ball hit the ground or hits the ball out of bounds, it receives a reward of -0.01.  Thus, the goal of each agent is to keep the ball in play.\n",
    "\n",
    "The observation space consists of 8 variables corresponding to the position and velocity of the ball and racket. Two continuous actions are available, corresponding to movement toward (or away from) the net, and jumping. \n",
    "\n",
    "Run the code cell below to print some information about the environment."
   ]
  },
  {
   "cell_type": "markdown",
   "metadata": {},
   "source": [
    "# reset the environment\n",
    "env_info = env.reset(train_mode=True)[brain_name]\n",
    "print(\"Brain Name: \", brain_name)\n",
    "# number of agents \n",
    "num_agents = len(env_info.agents)\n",
    "print('Number of agents:', num_agents)\n",
    "\n",
    "# size of each action\n",
    "action_size = brain.vector_action_space_size\n",
    "print('Size of each action:', action_size)\n",
    "\n",
    "# examine the state space \n",
    "states = env_info.vector_observations\n",
    "state_size = states.shape[1]\n",
    "print(\"State sizes: \", states.shape)\n",
    "print('There are {} agents. Each observes a state with length: {}'.format(states.shape[0], state_size))\n",
    "print('The state for the first agent looks like:', states[0])"
   ]
  },
  {
   "cell_type": "markdown",
   "metadata": {},
   "source": [
    "### 3. Take Random Actions in the Environment\n",
    "\n",
    "In the next code cell, you will learn how to use the Python API to control the agents and receive feedback from the environment.\n",
    "\n",
    "Once this cell is executed, you will watch the agents' performance, if they select actions at random with each time step.  A window should pop up that allows you to observe the agents.\n",
    "\n",
    "Of course, as part of the project, you'll have to change the code so that the agents are able to use their experiences to gradually choose better actions when interacting with the environment!"
   ]
  },
  {
   "cell_type": "markdown",
   "metadata": {},
   "source": [
    "for i in range(1, 6):                                      # play game for 5 episodes\n",
    "    env_info = env.reset(train_mode=False)[brain_name]     # reset the environment    \n",
    "    states = env_info.vector_observations                  # get the current state (for each agent)\n",
    "    scores = np.zeros(num_agents)                          # initialize the score (for each agent)\n",
    "    while True:\n",
    "        actions = np.random.randn(num_agents, action_size) # select an action (for each agent)\n",
    "        actions = np.clip(actions, -1, 1)                  # all actions between -1 and 1\n",
    "        env_info = env.step(actions)[brain_name]           # send all actions to tne environment\n",
    "        next_states = env_info.vector_observations         # get next state (for each agent)\n",
    "        rewards = env_info.rewards                         # get reward (for each agent)\n",
    "        dones = env_info.local_done                        # see if episode finished\n",
    "        scores += env_info.rewards                         # update the score (for each agent)\n",
    "        states = next_states                               # roll over states to next time step\n",
    "        if np.any(dones):                                  # exit loop if episode finished\n",
    "            break\n",
    "    print('Score (max over agents) from episode {}: {}'.format(i, np.max(scores)))"
   ]
  },
  {
   "cell_type": "markdown",
   "metadata": {},
   "source": [
    "When finished, you can close the environment."
   ]
  },
  {
   "cell_type": "markdown",
   "metadata": {},
   "source": [
    "env.close()"
   ]
  },
  {
   "cell_type": "markdown",
   "metadata": {},
   "source": [
    "### 4. It's Your Turn!\n",
    "\n",
    "Now it's your turn to train your own agent to solve the environment!  When training the environment, set `train_mode=True`, so that the line for resetting the environment looks like the following:\n",
    "```python\n",
    "env_info = env.reset(train_mode=True)[brain_name]\n",
    "```"
   ]
  },
  {
   "cell_type": "markdown",
   "metadata": {
    "pycharm": {
     "name": "#%%\n"
    }
   },
   "source": [
    "# main function that sets up environments\n",
    "# perform training loop\n",
    "\n",
    "import envs\n",
    "from buffer import ReplayBuffer\n",
    "from maddpg import MADDPG\n",
    "import torch\n",
    "import numpy as np\n",
    "from tensorboardX import SummaryWriter\n",
    "import os\n",
    "from utilities import transpose_list, transpose_to_tensor\n",
    "\n",
    "# keep training awake\n",
    "from workspace_utils import keep_awake\n",
    "\n",
    "# for saving gif\n",
    "import imageio\n",
    "\n",
    "def seeding(seed=1):\n",
    "    np.random.seed(seed)\n",
    "    torch.manual_seed(seed)\n",
    "\n",
    "def pre_process(entity, batchsize):\n",
    "    processed_entity = []\n",
    "    for j in range(3):\n",
    "        list = []\n",
    "        for i in range(batchsize):\n",
    "            b = entity[i][j]\n",
    "            list.append(b)\n",
    "        c = torch.Tensor(list)\n",
    "        processed_entity.append(c)\n",
    "    return processed_entity\n",
    "\n",
    "\n",
    "def main():\n",
    "    seeding()\n",
    "    # number of parallel agents\n",
    "    parallel_envs = 4\n",
    "    # number of training episodes.\n",
    "    # change this to higher number to experiment. say 30000.\n",
    "    number_of_episodes = 1000\n",
    "    episode_length = 80\n",
    "    batchsize = 1000\n",
    "    # how many episodes to save policy and gif\n",
    "    save_interval = 1000\n",
    "    t = 0\n",
    "    \n",
    "    # amplitude of OU noise\n",
    "    # this slowly decreases to 0\n",
    "    noise = 2\n",
    "    noise_reduction = 0.9999\n",
    "\n",
    "    # how many episodes before update\n",
    "    episode_per_update = 2 * parallel_envs\n",
    "\n",
    "    log_path = os.getcwd()+\"/log\"\n",
    "    model_dir= os.getcwd()+\"/model_dir\"\n",
    "    \n",
    "    os.makedirs(model_dir, exist_ok=True)\n",
    "\n",
    "    torch.set_num_threads(parallel_envs)\n",
    "    env = envs.make_parallel_env(parallel_envs)\n",
    "    \n",
    "    # keep 5000 episodes worth of replay\n",
    "    buffer = ReplayBuffer(int(5000*episode_length))\n",
    "    \n",
    "    # initialize policy and critic\n",
    "    maddpg = MADDPG()\n",
    "    logger = SummaryWriter(log_dir=log_path)\n",
    "    agent0_reward = []\n",
    "    agent1_reward = []\n",
    "    agent2_reward = []\n",
    "\n",
    "    # training loop\n",
    "    # show progressbar\n",
    "    import progressbar as pb\n",
    "    widget = ['episode: ', pb.Counter(),'/',str(number_of_episodes),' ', \n",
    "              pb.Percentage(), ' ', pb.ETA(), ' ', pb.Bar(marker=pb.RotatingMarker()), ' ' ]\n",
    "    \n",
    "    timer = pb.ProgressBar(widgets=widget, maxval=number_of_episodes).start()\n",
    "\n",
    "    # use keep_awake to keep workspace from disconnecting\n",
    "    for episode in keep_awake(range(0, number_of_episodes, parallel_envs)):\n",
    "\n",
    "        timer.update(episode)\n",
    "\n",
    "\n",
    "        reward_this_episode = np.zeros((parallel_envs, 3))\n",
    "        all_obs = env.reset() #\n",
    "        # obs.shape = env_agent x N_agent x features\n",
    "        obs, obs_full = transpose_list(all_obs)\n",
    "\n",
    "        #for calculating rewards for this particular episode - addition of all time steps\n",
    "\n",
    "        # save info or not\n",
    "        save_info = ((episode) % save_interval < parallel_envs or episode==number_of_episodes-parallel_envs)\n",
    "        frames = []\n",
    "        tmax = 0\n",
    "        \n",
    "        if save_info:\n",
    "            frames.append(env.render('rgb_array'))\n",
    "\n",
    "\n",
    "        \n",
    "        for episode_t in range(episode_length):\n",
    "\n",
    "            t += parallel_envs\n",
    "            \n",
    "\n",
    "            # explore = only explore for a certain number of episodes\n",
    "            # action input needs to be transposed\n",
    "            actions = maddpg.act(transpose_to_tensor(obs), noise=noise)\n",
    "            noise *= noise_reduction\n",
    "            \n",
    "            actions_array = torch.stack(actions).detach().numpy()\n",
    "\n",
    "            # transpose the list of list\n",
    "            # flip the first two indices\n",
    "            # input to step requires the first index to correspond to number of parallel agents\n",
    "            actions_for_env = np.rollaxis(actions_array,1)\n",
    "            \n",
    "            # step forward one frame\n",
    "            next_obs, next_obs_full, rewards, dones, info = env.step(actions_for_env)\n",
    "            \n",
    "            # add data to buffer\n",
    "            transition = (obs, obs_full, actions_for_env, rewards, next_obs, next_obs_full, dones)\n",
    "            \n",
    "            # Buffer will save [N_agent x features], No. of evn_agent = Number of samples push to buffer at once\n",
    "            buffer.push(transition)\n",
    "            \n",
    "            reward_this_episode += rewards\n",
    "\n",
    "            obs, obs_full = next_obs, next_obs_full\n",
    "            \n",
    "            # save gif frame\n",
    "            if save_info:\n",
    "                frames.append(env.render('rgb_array'))\n",
    "                tmax+=1\n",
    "        \n",
    "        # update once after every episode_per_update\n",
    "        if len(buffer) > batchsize and episode % episode_per_update < parallel_envs:\n",
    "            for a_i in range(3):\n",
    "                samples = buffer.sample(batchsize)\n",
    "                maddpg.update(samples, a_i, logger)\n",
    "            maddpg.update_targets() #soft update the target network towards the actual networks\n",
    "\n",
    "        \n",
    "        \n",
    "        for i in range(parallel_envs):\n",
    "            agent0_reward.append(reward_this_episode[i,0])\n",
    "            agent1_reward.append(reward_this_episode[i,1])\n",
    "            agent2_reward.append(reward_this_episode[i,2])\n",
    "\n",
    "        if episode % 100 == 0 or episode == number_of_episodes-1:\n",
    "            avg_rewards = [np.mean(agent0_reward), np.mean(agent1_reward), np.mean(agent2_reward)]\n",
    "            agent0_reward = []\n",
    "            agent1_reward = []\n",
    "            agent2_reward = []\n",
    "            for a_i, avg_rew in enumerate(avg_rewards):\n",
    "                logger.add_scalar('agent%i/mean_episode_rewards' % a_i, avg_rew, episode)\n",
    "\n",
    "        #saving model\n",
    "        save_dict_list =[]\n",
    "        if save_info:\n",
    "            for i in range(3):\n",
    "\n",
    "                save_dict = {'actor_params' : maddpg.maddpg_agent[i].actor.state_dict(),\n",
    "                             'actor_optim_params': maddpg.maddpg_agent[i].actor_optimizer.state_dict(),\n",
    "                             'critic_params' : maddpg.maddpg_agent[i].critic.state_dict(),\n",
    "                             'critic_optim_params' : maddpg.maddpg_agent[i].critic_optimizer.state_dict()}\n",
    "                save_dict_list.append(save_dict)\n",
    "\n",
    "                torch.save(save_dict_list, \n",
    "                           os.path.join(model_dir, 'episode-{}.pt'.format(episode)))\n",
    "                \n",
    "            # save gif files\n",
    "            imageio.mimsave(os.path.join(model_dir, 'episode-{}.gif'.format(episode)), \n",
    "                            frames, duration=.04)\n",
    "\n",
    "    env.close()\n",
    "    logger.close()\n",
    "    timer.finish()\n",
    "\n",
    "if __name__=='__main__':\n",
    "    main()"
   ]
  },
  {
   "cell_type": "markdown",
   "metadata": {},
   "source": [
    "### 4.1 Import settings\n",
    "Initiate the environment"
   ]
  },
  {
   "cell_type": "code",
   "execution_count": 1,
   "metadata": {},
   "outputs": [
    {
     "name": "stderr",
     "output_type": "stream",
     "text": [
      "INFO:unityagents:\n",
      "'Academy' started successfully!\n",
      "Unity Academy name: Academy\n",
      "        Number of Brains: 1\n",
      "        Number of External Brains : 1\n",
      "        Lesson number : 0\n",
      "        Reset Parameters :\n",
      "\t\t\n",
      "Unity brain name: TennisBrain\n",
      "        Number of Visual Observations (per agent): 0\n",
      "        Vector Observation space type: continuous\n",
      "        Vector Observation space size (per agent): 8\n",
      "        Number of stacked Vector Observation: 3\n",
      "        Vector Action space type: continuous\n",
      "        Vector Action space size (per agent): 2\n",
      "        Vector Action descriptions: , \n"
     ]
    },
    {
     "name": "stdout",
     "output_type": "stream",
     "text": [
      "Number of agents: 2\n",
      "Number of actions: 2\n",
      "States have length: 24\n"
     ]
    }
   ],
   "source": [
    "import os\n",
    "import torch \n",
    "import random\n",
    "from collections import deque\n",
    "import matplotlib.pyplot as plt\n",
    "%matplotlib inline\n",
    "from unityagents import UnityEnvironment\n",
    "import numpy as np\n",
    "from maddpg_ import *\n",
    "# !pip install progressbar2\n",
    "import progressbar as pb\n",
    "from torch.utils.tensorboard import SummaryWriter\n",
    "\n",
    "#---------------Environment set-up--------------------#\n",
    "env =UnityEnvironment(file_name='Tennis_Linux_NoVis/Tennis.x86_64')\n",
    "# get the default brain\n",
    "brain_name = env.brain_names[0]\n",
    "brain = env.brains[brain_name]\n",
    "\n",
    "# Initiate environment\n",
    "env_info = env.reset(train_mode=True)[brain_name]\n",
    "state = env_info.vector_observations[0]            # get the current state\n",
    "score = 0\n",
    "\n",
    "# number of agents in the environment\n",
    "print('Number of agents:', len(env_info.agents))\n",
    "# number of actions\n",
    "action_size = brain.vector_action_space_size\n",
    "print('Number of actions:', action_size)\n",
    "state_size = len(state)\n",
    "print('States have length:', state_size)\n",
    "#agent = DDPGAgent(state_size=state_size, action_size=action_size, seed=0)"
   ]
  },
  {
   "cell_type": "markdown",
   "metadata": {},
   "source": [
    "ddpg_body_dim = [(256,128),(256,128)]\n",
    "\n",
    "maddpg = MADDPG(state_size, action_size, ddpg_body_dim=ddpg_body_dim, seed=0, batch_size=128, buffer_size=int(10e5), tau=1e-3,\\\n",
    "                gamma=0.99, decay_noise=0.99,lr_actor=1e-3, lr_critic=1e-3, weight_decay=1e-6, device=device)"
   ]
  },
  {
   "cell_type": "code",
   "execution_count": 2,
   "metadata": {},
   "outputs": [
    {
     "name": "stdout",
     "output_type": "stream",
     "text": [
      "Device used:  cuda:0\n"
     ]
    },
    {
     "name": "stderr",
     "output_type": "stream",
     "text": [
      "Training Status: Elapsed Time: 0:01:49   1% ETA:   2:30:43 |                  |"
     ]
    },
    {
     "name": "stdout",
     "output_type": "stream",
     "text": [
      "\r",
      "Episode 60\tScore: [-0.02 -0.01]\t 100 Moving Average Score: 0, OUNOISE: [0.28864218 0.30873187]\n"
     ]
    },
    {
     "name": "stderr",
     "output_type": "stream",
     "text": [
      "Training Status: Elapsed Time: 0:02:28   1% ETA:   2:32:26 |                  |"
     ]
    },
    {
     "name": "stdout",
     "output_type": "stream",
     "text": [
      "\r",
      "Episode 80\tScore: [-0.02 -0.01]\t 100 Moving Average Score: 0, OUNOISE: [0.30042531 0.25025185]\n"
     ]
    },
    {
     "name": "stderr",
     "output_type": "stream",
     "text": [
      "Training Status: Elapsed Time: 0:03:08   2% ETA:   2:33:33 |                  |"
     ]
    },
    {
     "name": "stdout",
     "output_type": "stream",
     "text": [
      "\r",
      "Episode 100\tScore: [-0.02 -0.02]\t 100 Moving Average Score: [-0.010899999681860208, -0.01469999959692359], OUNOISE: [0.19366186 0.20008498]\n"
     ]
    },
    {
     "name": "stderr",
     "output_type": "stream",
     "text": [
      "Training Status: Elapsed Time: 0:03:48   2% ETA:   2:34:38 |                  |"
     ]
    },
    {
     "name": "stdout",
     "output_type": "stream",
     "text": [
      "\r",
      "Episode 120\tScore: [0.08 0.  ]\t 100 Moving Average Score: [-0.010899999681860208, -0.01469999959692359], OUNOISE: [0.15216405 0.15138821]\n"
     ]
    },
    {
     "name": "stderr",
     "output_type": "stream",
     "text": [
      "Training Status: Elapsed Time: 0:04:28   2% ETA:   2:35:22 |                  |"
     ]
    },
    {
     "name": "stdout",
     "output_type": "stream",
     "text": [
      "\r",
      "Episode 140\tScore: [-0.01 -0.02]\t 100 Moving Average Score: [-0.010899999681860208, -0.01469999959692359], OUNOISE: [0.11653457 0.11787663]\n"
     ]
    },
    {
     "name": "stderr",
     "output_type": "stream",
     "text": [
      "Training Status: Elapsed Time: 0:05:08   3% ETA:   2:35:39 |                  |"
     ]
    },
    {
     "name": "stdout",
     "output_type": "stream",
     "text": [
      "\r",
      "Episode 160\tScore: [-0.01 -0.02]\t 100 Moving Average Score: [-0.010899999681860208, -0.01469999959692359], OUNOISE: [0.1131653  0.09743027]\n"
     ]
    },
    {
     "name": "stderr",
     "output_type": "stream",
     "text": [
      "Training Status: Elapsed Time: 0:05:47   3% ETA:   2:35:12 |                  |"
     ]
    },
    {
     "name": "stdout",
     "output_type": "stream",
     "text": [
      "\r",
      "Episode 180\tScore: [-0.02 -0.01]\t 100 Moving Average Score: [-0.010899999681860208, -0.01469999959692359], OUNOISE: [0.05891498 0.07536682]\n"
     ]
    },
    {
     "name": "stderr",
     "output_type": "stream",
     "text": [
      "Training Status: Elapsed Time: 0:06:27   4% ETA:   2:34:55 |                  |"
     ]
    },
    {
     "name": "stdout",
     "output_type": "stream",
     "text": [
      "\r",
      "Episode 200\tScore: [-0.01 -0.02]\t 100 Moving Average Score: [-0.0021999995410442352, -0.014699999634176493], OUNOISE: [0.05059894 0.06304059]\n"
     ]
    },
    {
     "name": "stderr",
     "output_type": "stream",
     "text": [
      "Training Status: Elapsed Time: 0:07:08   4% ETA:   2:35:07 |                  |"
     ]
    },
    {
     "name": "stdout",
     "output_type": "stream",
     "text": [
      "\r",
      "Episode 220\tScore: [-0.01 -0.02]\t 100 Moving Average Score: [-0.0021999995410442352, -0.014699999634176493], OUNOISE: [0.03693388 0.04067067]\n"
     ]
    },
    {
     "name": "stderr",
     "output_type": "stream",
     "text": [
      "Training Status: Elapsed Time: 0:07:48   4% ETA:   2:34:56 |                  |"
     ]
    },
    {
     "name": "stdout",
     "output_type": "stream",
     "text": [
      "\r",
      "Episode 240\tScore: [-0.01 -0.02]\t 100 Moving Average Score: [-0.0021999995410442352, -0.014699999634176493], OUNOISE: [0.02664461 0.0305639 ]\n"
     ]
    },
    {
     "name": "stderr",
     "output_type": "stream",
     "text": [
      "Training Status: Elapsed Time: 0:08:31   5% ETA:   2:35:20 |                  |"
     ]
    },
    {
     "name": "stdout",
     "output_type": "stream",
     "text": [
      "\r",
      "Episode 260\tScore: [ 0.   -0.02]\t 100 Moving Average Score: [-0.0021999995410442352, -0.014699999634176493], OUNOISE: [0.02084759 0.02027321]\n"
     ]
    },
    {
     "name": "stderr",
     "output_type": "stream",
     "text": [
      "Training Status: Elapsed Time: 0:09:13   5% ETA:   2:35:29 |#                 |"
     ]
    },
    {
     "name": "stdout",
     "output_type": "stream",
     "text": [
      "\r",
      "Episode 280\tScore: [-0.02 -0.01]\t 100 Moving Average Score: [-0.0021999995410442352, -0.014699999634176493], OUNOISE: [0.01265458 0.02031213]\n"
     ]
    },
    {
     "name": "stderr",
     "output_type": "stream",
     "text": [
      "Training Status: Elapsed Time: 0:09:56   6% ETA:   2:35:45 |#                 |"
     ]
    },
    {
     "name": "stdout",
     "output_type": "stream",
     "text": [
      "\r",
      "Episode 300\tScore: [-0.01  0.08]\t 100 Moving Average Score: [0.017300000637769698, 0.0018000006303191185], OUNOISE: [0.01589918 0.01258061]\n"
     ]
    },
    {
     "name": "stderr",
     "output_type": "stream",
     "text": [
      "Training Status: Elapsed Time: 0:10:40   6% ETA:   2:36:02 |#                 |"
     ]
    },
    {
     "name": "stdout",
     "output_type": "stream",
     "text": [
      "\r",
      "Episode 320\tScore: [-0.01  0.09]\t 100 Moving Average Score: [0.017300000637769698, 0.0018000006303191185], OUNOISE: [0.01346508 0.00903297]\n"
     ]
    },
    {
     "name": "stderr",
     "output_type": "stream",
     "text": [
      "Training Status: Elapsed Time: 0:11:23   6% ETA:   2:36:01 |#                 |"
     ]
    },
    {
     "name": "stdout",
     "output_type": "stream",
     "text": [
      "\r",
      "Episode 340\tScore: [ 0.2  -0.02]\t 100 Moving Average Score: [0.017300000637769698, 0.0018000006303191185], OUNOISE: [0.00591016 0.00909073]\n"
     ]
    },
    {
     "name": "stderr",
     "output_type": "stream",
     "text": [
      "Training Status: Elapsed Time: 0:12:03   7% ETA:   2:35:27 |#                 |"
     ]
    },
    {
     "name": "stdout",
     "output_type": "stream",
     "text": [
      "\r",
      "Episode 360\tScore: [-0.01 -0.02]\t 100 Moving Average Score: [0.017300000637769698, 0.0018000006303191185], OUNOISE: [0.00400504 0.00433164]\n"
     ]
    },
    {
     "name": "stderr",
     "output_type": "stream",
     "text": [
      "Training Status: Elapsed Time: 0:12:47   7% ETA:   2:35:28 |#                 |"
     ]
    },
    {
     "name": "stdout",
     "output_type": "stream",
     "text": [
      "\r",
      "Episode 380\tScore: [-0.03 -0.01]\t 100 Moving Average Score: [0.017300000637769698, 0.0018000006303191185], OUNOISE: [0.00454266 0.00446988]\n"
     ]
    },
    {
     "name": "stderr",
     "output_type": "stream",
     "text": [
      "Training Status: Elapsed Time: 0:13:30   8% ETA:   2:35:23 |#                 |"
     ]
    },
    {
     "name": "stdout",
     "output_type": "stream",
     "text": [
      "\r",
      "Episode 400\tScore: [ 0.   -0.03]\t 100 Moving Average Score: [0.039100000876933334, -0.005699999462813139], OUNOISE: [0.00351458 0.00349262]\n"
     ]
    },
    {
     "name": "stderr",
     "output_type": "stream",
     "text": [
      "Training Status: Elapsed Time: 0:14:12   8% ETA:   2:34:51 |#                 |"
     ]
    },
    {
     "name": "stdout",
     "output_type": "stream",
     "text": [
      "\r",
      "Episode 420\tScore: [-0.01 -0.02]\t 100 Moving Average Score: [0.039100000876933334, -0.005699999462813139], OUNOISE: [0.00195476 0.00307053]\n"
     ]
    },
    {
     "name": "stderr",
     "output_type": "stream",
     "text": [
      "Training Status: Elapsed Time: 0:14:52   8% ETA:   2:34:07 |#                 |"
     ]
    },
    {
     "name": "stdout",
     "output_type": "stream",
     "text": [
      "\r",
      "Episode 440\tScore: [ 0.   -0.03]\t 100 Moving Average Score: [0.039100000876933334, -0.005699999462813139], OUNOISE: [0.00196672 0.00161317]\n"
     ]
    },
    {
     "name": "stderr",
     "output_type": "stream",
     "text": [
      "Training Status: Elapsed Time: 0:15:33   9% ETA:   2:33:35 |#                 |"
     ]
    },
    {
     "name": "stdout",
     "output_type": "stream",
     "text": [
      "\r",
      "Episode 460\tScore: [-0.02 -0.01]\t 100 Moving Average Score: [0.039100000876933334, -0.005699999462813139], OUNOISE: [0.00150078 0.00130893]\n"
     ]
    },
    {
     "name": "stderr",
     "output_type": "stream",
     "text": [
      "Training Status: Elapsed Time: 0:16:17   9% ETA:   2:33:26 |#                 |"
     ]
    },
    {
     "name": "stdout",
     "output_type": "stream",
     "text": [
      "\r",
      "Episode 480\tScore: [ 0.19000001 -0.01      ]\t 100 Moving Average Score: [0.039100000876933334, -0.005699999462813139], OUNOISE: [0.00116378 0.00110837]\n"
     ]
    },
    {
     "name": "stderr",
     "output_type": "stream",
     "text": [
      "Training Status: Elapsed Time: 0:17:01  10% ETA:   2:33:13 |#                 |"
     ]
    },
    {
     "name": "stdout",
     "output_type": "stream",
     "text": [
      "\r",
      "Episode 500\tScore: [-0.02 -0.01]\t 100 Moving Average Score: [0.028800000846385957, 0.0029000006057322025], OUNOISE: [0.00087268 0.00066436]\n"
     ]
    },
    {
     "name": "stderr",
     "output_type": "stream",
     "text": [
      "Training Status: Elapsed Time: 0:17:42  10% ETA:   2:32:30 |#                 |"
     ]
    },
    {
     "name": "stdout",
     "output_type": "stream",
     "text": [
      "\r",
      "Episode 520\tScore: [-0.03  0.  ]\t 100 Moving Average Score: [0.028800000846385957, 0.0029000006057322025], OUNOISE: [0.00047394 0.00062452]\n"
     ]
    },
    {
     "name": "stderr",
     "output_type": "stream",
     "text": [
      "Training Status: Elapsed Time: 0:18:25  10% ETA:   2:32:10 |#                 |"
     ]
    },
    {
     "name": "stdout",
     "output_type": "stream",
     "text": [
      "\r",
      "Episode 540\tScore: [-0.01  0.09]\t 100 Moving Average Score: [0.028800000846385957, 0.0029000006057322025], OUNOISE: [0.00044521 0.00037216]\n"
     ]
    },
    {
     "name": "stderr",
     "output_type": "stream",
     "text": [
      "Training Status: Elapsed Time: 0:19:09  11% ETA:   2:31:50 |##                |"
     ]
    },
    {
     "name": "stdout",
     "output_type": "stream",
     "text": [
      "\r",
      "Episode 560\tScore: [ 0.1  -0.02]\t 100 Moving Average Score: [0.028800000846385957, 0.0029000006057322025], OUNOISE: [0.00037321 0.00034205]\n"
     ]
    },
    {
     "name": "stderr",
     "output_type": "stream",
     "text": [
      "Training Status: Elapsed Time: 0:19:50  11% ETA:   2:31:13 |##                |"
     ]
    },
    {
     "name": "stdout",
     "output_type": "stream",
     "text": [
      "\r",
      "Episode 580\tScore: [-0.02 -0.01]\t 100 Moving Average Score: [0.028800000846385957, 0.0029000006057322025], OUNOISE: [0.0002616  0.00021024]\n"
     ]
    },
    {
     "name": "stderr",
     "output_type": "stream",
     "text": [
      "Training Status: Elapsed Time: 0:20:32  12% ETA:   2:30:40 |##                |"
     ]
    },
    {
     "name": "stdout",
     "output_type": "stream",
     "text": [
      "\r",
      "Episode 600\tScore: [-0.03 -0.01]\t 100 Moving Average Score: [0.018600000627338888, -0.007499999441206455], OUNOISE: [0.00020024 0.00023765]\n"
     ]
    },
    {
     "name": "stderr",
     "output_type": "stream",
     "text": [
      "Training Status: Elapsed Time: 0:21:14  12% ETA:   2:30:06 |##                |"
     ]
    },
    {
     "name": "stdout",
     "output_type": "stream",
     "text": [
      "\r",
      "Episode 620\tScore: [-0.01 -0.02]\t 100 Moving Average Score: [0.018600000627338888, -0.007499999441206455], OUNOISE: [0.0001704  0.00015775]\n"
     ]
    },
    {
     "name": "stderr",
     "output_type": "stream",
     "text": [
      "Training Status: Elapsed Time: 0:21:58  12% ETA:   2:29:39 |##                |"
     ]
    },
    {
     "name": "stdout",
     "output_type": "stream",
     "text": [
      "\r",
      "Episode 640\tScore: [ 0.1  -0.03]\t 100 Moving Average Score: [0.018600000627338888, -0.007499999441206455], OUNOISE: [7.79838035e-05 1.10763449e-04]\n"
     ]
    },
    {
     "name": "stderr",
     "output_type": "stream",
     "text": [
      "Training Status: Elapsed Time: 0:22:39  13% ETA:   2:28:59 |##                |"
     ]
    },
    {
     "name": "stdout",
     "output_type": "stream",
     "text": [
      "\r",
      "Episode 660\tScore: [-0.01 -0.01]\t 100 Moving Average Score: [0.018600000627338888, -0.007499999441206455], OUNOISE: [8.79820396e-05 5.86138049e-05]\n"
     ]
    },
    {
     "name": "stderr",
     "output_type": "stream",
     "text": [
      "Training Status: Elapsed Time: 0:23:20  13% ETA:   2:28:16 |##                |"
     ]
    },
    {
     "name": "stdout",
     "output_type": "stream",
     "text": [
      "\r",
      "Episode 680\tScore: [-0.02 -0.01]\t 100 Moving Average Score: [0.018600000627338888, -0.007499999441206455], OUNOISE: [6.21139072e-05 6.86189449e-05]\n"
     ]
    },
    {
     "name": "stderr",
     "output_type": "stream",
     "text": [
      "Training Status: Elapsed Time: 0:24:02  14% ETA:   2:27:38 |##                |"
     ]
    },
    {
     "name": "stdout",
     "output_type": "stream",
     "text": [
      "\r",
      "Episode 700\tScore: [-0.01 -0.02]\t 100 Moving Average Score: [0.008600000590085984, -0.014399999640882016], OUNOISE: [4.96175543e-05 5.28158666e-05]\n"
     ]
    },
    {
     "name": "stderr",
     "output_type": "stream",
     "text": [
      "Training Status: Elapsed Time: 0:24:42  14% ETA:   2:26:50 |##                |"
     ]
    },
    {
     "name": "stdout",
     "output_type": "stream",
     "text": [
      "\r",
      "Episode 720\tScore: [-0.02 -0.01]\t 100 Moving Average Score: [0.008600000590085984, -0.014399999640882016], OUNOISE: [2.80520040e-05 3.81698956e-05]\n"
     ]
    },
    {
     "name": "stderr",
     "output_type": "stream",
     "text": [
      "Training Status: Elapsed Time: 0:25:22  14% ETA:   2:26:04 |##                |"
     ]
    },
    {
     "name": "stdout",
     "output_type": "stream",
     "text": [
      "\r",
      "Episode 740\tScore: [-0.03  0.  ]\t 100 Moving Average Score: [0.008600000590085984, -0.014399999640882016], OUNOISE: [3.17761225e-05 2.25234477e-05]\n"
     ]
    },
    {
     "name": "stderr",
     "output_type": "stream",
     "text": [
      "Training Status: Elapsed Time: 0:26:02  15% ETA:   2:25:16 |##                |"
     ]
    },
    {
     "name": "stdout",
     "output_type": "stream",
     "text": [
      "\r",
      "Episode 760\tScore: [-0.02 -0.01]\t 100 Moving Average Score: [0.008600000590085984, -0.014399999640882016], OUNOISE: [2.89136413e-05 2.26944722e-05]\n"
     ]
    },
    {
     "name": "stderr",
     "output_type": "stream",
     "text": [
      "Training Status: Elapsed Time: 0:26:43  15% ETA:   2:24:34 |##                |"
     ]
    },
    {
     "name": "stdout",
     "output_type": "stream",
     "text": [
      "\r",
      "Episode 780\tScore: [ 0.   -0.03]\t 100 Moving Average Score: [0.008600000590085984, -0.014399999640882016], OUNOISE: [1.71179013e-05 2.09059865e-05]\n"
     ]
    },
    {
     "name": "stderr",
     "output_type": "stream",
     "text": [
      "Training Status: Elapsed Time: 0:27:25  16% ETA:   2:23:59 |##                |"
     ]
    },
    {
     "name": "stdout",
     "output_type": "stream",
     "text": [
      "\r",
      "Episode 800\tScore: [-0.02 -0.01]\t 100 Moving Average Score: [-0.012899999655783177, -0.014899999629706144], OUNOISE: [1.10495602e-05 9.26459729e-06]\n"
     ]
    },
    {
     "name": "stderr",
     "output_type": "stream",
     "text": [
      "Training Status: Elapsed Time: 0:28:06  16% ETA:   2:23:19 |##                |"
     ]
    },
    {
     "name": "stdout",
     "output_type": "stream",
     "text": [
      "\r",
      "Episode 820\tScore: [-0.01 -0.02]\t 100 Moving Average Score: [-0.012899999655783177, -0.014899999629706144], OUNOISE: [9.27219183e-06 1.34464398e-05]\n"
     ]
    },
    {
     "name": "stderr",
     "output_type": "stream",
     "text": [
      "Training Status: Elapsed Time: 0:28:48  16% ETA:   2:22:38 |###               |"
     ]
    },
    {
     "name": "stdout",
     "output_type": "stream",
     "text": [
      "\r",
      "Episode 840\tScore: [-0.01 -0.02]\t 100 Moving Average Score: [-0.012899999655783177, -0.014899999629706144], OUNOISE: [5.56556189e-06 6.78132455e-06]\n"
     ]
    },
    {
     "name": "stderr",
     "output_type": "stream",
     "text": [
      "Training Status: Elapsed Time: 0:29:28  17% ETA:   2:21:53 |###               |"
     ]
    },
    {
     "name": "stdout",
     "output_type": "stream",
     "text": [
      "\r",
      "Episode 860\tScore: [-0.02 -0.01]\t 100 Moving Average Score: [-0.012899999655783177, -0.014899999629706144], OUNOISE: [7.14104364e-06 4.62102960e-06]\n"
     ]
    },
    {
     "name": "stderr",
     "output_type": "stream",
     "text": [
      "Training Status: Elapsed Time: 0:30:08  17% ETA:   2:21:07 |###               |"
     ]
    },
    {
     "name": "stdout",
     "output_type": "stream",
     "text": [
      "\r",
      "Episode 880\tScore: [-0.03  0.  ]\t 100 Moving Average Score: [-0.012899999655783177, -0.014899999629706144], OUNOISE: [3.92051202e-06 4.33186850e-06]\n"
     ]
    },
    {
     "name": "stderr",
     "output_type": "stream",
     "text": [
      "Training Status: Elapsed Time: 0:30:48  18% ETA:   2:20:20 |###               |"
     ]
    },
    {
     "name": "stdout",
     "output_type": "stream",
     "text": [
      "\r",
      "Episode 900\tScore: [-0.01 -0.02]\t 100 Moving Average Score: [-0.012699999678879977, -0.015499999653548003], OUNOISE: [3.14876584e-06 3.30520039e-06]\n"
     ]
    },
    {
     "name": "stderr",
     "output_type": "stream",
     "text": [
      "Training Status: Elapsed Time: 0:31:28  18% ETA:   2:19:34 |###               |"
     ]
    },
    {
     "name": "stdout",
     "output_type": "stream",
     "text": [
      "\r",
      "Episode 920\tScore: [-0.02 -0.01]\t 100 Moving Average Score: [-0.012699999678879977, -0.015499999653548003], OUNOISE: [2.97597704e-06 2.71000000e-06]\n"
     ]
    },
    {
     "name": "stderr",
     "output_type": "stream",
     "text": [
      "Training Status: Elapsed Time: 0:32:08  18% ETA:   2:18:48 |###               |"
     ]
    },
    {
     "name": "stdout",
     "output_type": "stream",
     "text": [
      "\r",
      "Episode 940\tScore: [-0.02 -0.01]\t 100 Moving Average Score: [-0.012699999678879977, -0.015499999653548003], OUNOISE: [2.36623322e-06 2.25116681e-06]\n"
     ]
    },
    {
     "name": "stderr",
     "output_type": "stream",
     "text": [
      "Training Status: Elapsed Time: 0:32:48  19% ETA:   2:18:03 |###               |"
     ]
    },
    {
     "name": "stdout",
     "output_type": "stream",
     "text": [
      "\r",
      "Episode 960\tScore: [-0.02 -0.01]\t 100 Moving Average Score: [-0.012699999678879977, -0.015499999653548003], OUNOISE: [1.71228498e-06 1.85592690e-06]\n"
     ]
    },
    {
     "name": "stderr",
     "output_type": "stream",
     "text": [
      "Training Status: Elapsed Time: 0:33:32  19% ETA:   2:17:36 |###               |"
     ]
    },
    {
     "name": "stdout",
     "output_type": "stream",
     "text": [
      "\r",
      "Episode 980\tScore: [-0.01 -0.01]\t 100 Moving Average Score: [-0.012699999678879977, -0.015499999653548003], OUNOISE: [1.01423031e-06 1.29137664e-06]\n"
     ]
    },
    {
     "name": "stderr",
     "output_type": "stream",
     "text": [
      "Training Status: Elapsed Time: 0:34:13  20% ETA:   2:16:54 |###               |"
     ]
    },
    {
     "name": "stdout",
     "output_type": "stream",
     "text": [
      "\r",
      "Episode 1000\tScore: [-0.02 -0.01]\t 100 Moving Average Score: [-0.015999999642372132, -0.013599999696016312], OUNOISE: [1.27475610e-06 1.00804576e-06]\n"
     ]
    },
    {
     "name": "stderr",
     "output_type": "stream",
     "text": [
      "Training Status: Elapsed Time: 0:34:53  20% ETA:   2:16:08 |###               |"
     ]
    },
    {
     "name": "stdout",
     "output_type": "stream",
     "text": [
      "\r",
      "Episode 1020\tScore: [-0.01 -0.02]\t 100 Moving Average Score: [-0.015999999642372132, -0.013599999696016312], OUNOISE: [6.15680674e-07 9.31830193e-07]\n"
     ]
    },
    {
     "name": "stderr",
     "output_type": "stream",
     "text": [
      "Training Status: Elapsed Time: 0:35:33  20% ETA:   2:15:23 |###               |"
     ]
    },
    {
     "name": "stdout",
     "output_type": "stream",
     "text": [
      "\r",
      "Episode 1040\tScore: [ 0.   -0.03]\t 100 Moving Average Score: [-0.015999999642372132, -0.013599999696016312], OUNOISE: [6.79494217e-07 6.30558394e-07]\n"
     ]
    },
    {
     "name": "stderr",
     "output_type": "stream",
     "text": [
      "Training Status: Elapsed Time: 0:36:15  21% ETA:   2:14:46 |###               |"
     ]
    },
    {
     "name": "stdout",
     "output_type": "stream",
     "text": [
      "\r",
      "Episode 1060\tScore: [-0.01 -0.02]\t 100 Moving Average Score: [-0.015999999642372132, -0.013599999696016312], OUNOISE: [4.30115151e-07 4.51318874e-07]\n"
     ]
    },
    {
     "name": "stderr",
     "output_type": "stream",
     "text": [
      "Training Status: Elapsed Time: 0:36:56  21% ETA:   2:14:05 |###               |"
     ]
    },
    {
     "name": "stdout",
     "output_type": "stream",
     "text": [
      "\r",
      "Episode 1080\tScore: [-0.03  0.  ]\t 100 Moving Average Score: [-0.015999999642372132, -0.013599999696016312], OUNOISE: [2.56789302e-07 3.18803024e-07]\n"
     ]
    },
    {
     "name": "stderr",
     "output_type": "stream",
     "text": [
      "Training Status: Elapsed Time: 0:37:38  22% ETA:   2:13:26 |###               |"
     ]
    },
    {
     "name": "stdout",
     "output_type": "stream",
     "text": [
      "\r",
      "Episode 1100\tScore: [-0.01 -0.02]\t 100 Moving Average Score: [-0.011299999672919512, -0.016399999633431434], OUNOISE: [2.00511335e-07 2.68364587e-07]\n"
     ]
    },
    {
     "name": "stderr",
     "output_type": "stream",
     "text": [
      "Training Status: Elapsed Time: 0:38:19  22% ETA:   2:12:46 |####              |"
     ]
    },
    {
     "name": "stdout",
     "output_type": "stream",
     "text": [
      "\r",
      "Episode 1120\tScore: [-0.01 -0.02]\t 100 Moving Average Score: [-0.011299999672919512, -0.016399999633431434], OUNOISE: [1.79098933e-07 1.44207680e-07]\n"
     ]
    },
    {
     "name": "stderr",
     "output_type": "stream",
     "text": [
      "Training Status: Elapsed Time: 0:39:00  22% ETA:   2:12:04 |####              |"
     ]
    },
    {
     "name": "stdout",
     "output_type": "stream",
     "text": [
      "\r",
      "Episode 1140\tScore: [-0.03  0.  ]\t 100 Moving Average Score: [-0.011299999672919512, -0.016399999633431434], OUNOISE: [1.86478934e-07 1.21230586e-07]\n"
     ]
    },
    {
     "name": "stderr",
     "output_type": "stream",
     "text": [
      "Training Status: Elapsed Time: 0:39:41  23% ETA:   2:11:22 |####              |"
     ]
    },
    {
     "name": "stdout",
     "output_type": "stream",
     "text": [
      "\r",
      "Episode 1160\tScore: [ 0.   -0.03]\t 100 Moving Average Score: [-0.011299999672919512, -0.016399999633431434], OUNOISE: [1.13506642e-07 1.30369431e-07]\n"
     ]
    },
    {
     "name": "stderr",
     "output_type": "stream",
     "text": [
      "Training Status: Elapsed Time: 0:40:21  23% ETA:   2:10:37 |####              |"
     ]
    },
    {
     "name": "stdout",
     "output_type": "stream",
     "text": [
      "\r",
      "Episode 1180\tScore: [-0.02 -0.01]\t 100 Moving Average Score: [-0.011299999672919512, -0.016399999633431434], OUNOISE: [9.41826613e-08 6.35873165e-08]\n"
     ]
    },
    {
     "name": "stderr",
     "output_type": "stream",
     "text": [
      "Training Status: Elapsed Time: 0:41:03  24% ETA:   2:10:00 |####              |"
     ]
    },
    {
     "name": "stdout",
     "output_type": "stream",
     "text": [
      "\r",
      "Episode 1200\tScore: [ 0.   -0.02]\t 100 Moving Average Score: [-0.011299999672919512, -0.01629999963566661], OUNOISE: [9.54815983e-08 5.27562376e-08]\n"
     ]
    },
    {
     "name": "stderr",
     "output_type": "stream",
     "text": [
      "Training Status: Elapsed Time: 0:41:44  24% ETA:   2:09:21 |####              |"
     ]
    },
    {
     "name": "stdout",
     "output_type": "stream",
     "text": [
      "\r",
      "Episode 1220\tScore: [-0.03  0.  ]\t 100 Moving Average Score: [-0.011299999672919512, -0.01629999963566661], OUNOISE: [4.80693544e-08 5.61544364e-08]\n"
     ]
    },
    {
     "name": "stderr",
     "output_type": "stream",
     "text": [
      "Training Status: Elapsed Time: 0:42:23  24% ETA:   2:08:33 |####              |"
     ]
    },
    {
     "name": "stdout",
     "output_type": "stream",
     "text": [
      "\r",
      "Episode 1240\tScore: [-0.03  0.  ]\t 100 Moving Average Score: [-0.011299999672919512, -0.01629999963566661], OUNOISE: [4.56074157e-08 4.10802049e-08]\n"
     ]
    },
    {
     "name": "stderr",
     "output_type": "stream",
     "text": [
      "Training Status: Elapsed Time: 0:43:04  25% ETA:   2:07:51 |####              |"
     ]
    },
    {
     "name": "stdout",
     "output_type": "stream",
     "text": [
      "\r",
      "Episode 1260\tScore: [-0.02 -0.01]\t 100 Moving Average Score: [-0.011299999672919512, -0.01629999963566661], OUNOISE: [2.59186161e-08 3.10828492e-08]\n"
     ]
    },
    {
     "name": "stderr",
     "output_type": "stream",
     "text": [
      "Training Status: Elapsed Time: 0:43:43  25% ETA:   2:07:04 |####              |"
     ]
    },
    {
     "name": "stdout",
     "output_type": "stream",
     "text": [
      "\r",
      "Episode 1280\tScore: [-0.01 -0.02]\t 100 Moving Average Score: [-0.011299999672919512, -0.01629999963566661], OUNOISE: [2.74622979e-08 2.69753193e-08]\n"
     ]
    },
    {
     "name": "stderr",
     "output_type": "stream",
     "text": [
      "Training Status: Elapsed Time: 0:44:24  26% ETA:   2:06:23 |####              |"
     ]
    },
    {
     "name": "stdout",
     "output_type": "stream",
     "text": [
      "\r",
      "Episode 1300\tScore: [-0.01 -0.02]\t 100 Moving Average Score: [-0.01339999970048666, -0.01669999962672591], OUNOISE: [1.76756489e-08 2.75566257e-08]\n"
     ]
    },
    {
     "name": "stderr",
     "output_type": "stream",
     "text": [
      "Training Status: Elapsed Time: 0:45:04  26% ETA:   2:05:40 |####              |"
     ]
    },
    {
     "name": "stdout",
     "output_type": "stream",
     "text": [
      "\r",
      "Episode 1320\tScore: [-0.01 -0.02]\t 100 Moving Average Score: [-0.01339999970048666, -0.01669999962672591], OUNOISE: [1.45325847e-08 1.31987411e-08]\n"
     ]
    },
    {
     "name": "stderr",
     "output_type": "stream",
     "text": [
      "Training Status: Elapsed Time: 0:45:44  26% ETA:   2:04:56 |####              |"
     ]
    },
    {
     "name": "stdout",
     "output_type": "stream",
     "text": [
      "\r",
      "Episode 1340\tScore: [-0.01 -0.02]\t 100 Moving Average Score: [-0.01339999970048666, -0.01669999962672591], OUNOISE: [1.19859361e-08 8.76703508e-09]\n"
     ]
    },
    {
     "name": "stderr",
     "output_type": "stream",
     "text": [
      "Training Status: Elapsed Time: 0:46:25  27% ETA:   2:04:15 |####              |"
     ]
    },
    {
     "name": "stdout",
     "output_type": "stream",
     "text": [
      "\r",
      "Episode 1360\tScore: [ 0.09 -0.01]\t 100 Moving Average Score: [-0.01339999970048666, -0.01669999962672591], OUNOISE: [8.65909777e-09 8.57606984e-09]\n"
     ]
    },
    {
     "name": "stderr",
     "output_type": "stream",
     "text": [
      "Training Status: Elapsed Time: 0:47:07  27% ETA:   2:03:36 |####              |"
     ]
    },
    {
     "name": "stdout",
     "output_type": "stream",
     "text": [
      "\r",
      "Episode 1380\tScore: [-0.02 -0.01]\t 100 Moving Average Score: [-0.01339999970048666, -0.01669999962672591], OUNOISE: [7.15743654e-09 5.59505487e-09]\n"
     ]
    },
    {
     "name": "stderr",
     "output_type": "stream",
     "text": [
      "Training Status: Elapsed Time: 0:47:47  28% ETA:   2:02:54 |#####             |"
     ]
    },
    {
     "name": "stdout",
     "output_type": "stream",
     "text": [
      "\r",
      "Episode 1400\tScore: [-0.02 -0.01]\t 100 Moving Average Score: [-0.00929999964311719, -0.015999999642372132], OUNOISE: [4.78155797e-09 4.37704969e-09]\n"
     ]
    },
    {
     "name": "stderr",
     "output_type": "stream",
     "text": [
      "Training Status: Elapsed Time: 0:48:29  28% ETA:   2:02:15 |#####             |"
     ]
    },
    {
     "name": "stdout",
     "output_type": "stream",
     "text": [
      "\r",
      "Episode 1420\tScore: [-0.02  0.  ]\t 100 Moving Average Score: [-0.00929999964311719, -0.015999999642372132], OUNOISE: [4.81621063e-09 3.79801116e-09]\n"
     ]
    },
    {
     "name": "stderr",
     "output_type": "stream",
     "text": [
      "Training Status: Elapsed Time: 0:49:09  28% ETA:   2:01:30 |#####             |"
     ]
    },
    {
     "name": "stdout",
     "output_type": "stream",
     "text": [
      "\r",
      "Episode 1440\tScore: [ 0.   -0.03]\t 100 Moving Average Score: [-0.00929999964311719, -0.015999999642372132], OUNOISE: [2.78384022e-09 3.21672351e-09]\n"
     ]
    },
    {
     "name": "stderr",
     "output_type": "stream",
     "text": [
      "Training Status: Elapsed Time: 0:49:51  29% ETA:   2:00:53 |#####             |"
     ]
    },
    {
     "name": "stdout",
     "output_type": "stream",
     "text": [
      "\r",
      "Episode 1460\tScore: [ 0.1  -0.02]\t 100 Moving Average Score: [-0.00929999964311719, -0.015999999642372132], OUNOISE: [3.01850204e-09 2.93973136e-09]\n"
     ]
    },
    {
     "name": "stderr",
     "output_type": "stream",
     "text": [
      "Training Status: Elapsed Time: 0:50:33  29% ETA:   2:00:14 |#####             |"
     ]
    },
    {
     "name": "stdout",
     "output_type": "stream",
     "text": [
      "\r",
      "Episode 1480\tScore: [-0.01 -0.02]\t 100 Moving Average Score: [-0.00929999964311719, -0.015999999642372132], OUNOISE: [1.63734312e-09 1.29215714e-09]\n"
     ]
    },
    {
     "name": "stderr",
     "output_type": "stream",
     "text": [
      "Training Status: Elapsed Time: 0:51:13  30% ETA:   1:59:31 |#####             |"
     ]
    },
    {
     "name": "stdout",
     "output_type": "stream",
     "text": [
      "\r",
      "Episode 1500\tScore: [-0.02 -0.01]\t 100 Moving Average Score: [0.003900000508874655, -0.015099999625235797], OUNOISE: [1.29640674e-09 1.40581329e-09]\n"
     ]
    },
    {
     "name": "stderr",
     "output_type": "stream",
     "text": [
      "Training Status: Elapsed Time: 0:51:55  30% ETA:   1:58:53 |#####             |"
     ]
    },
    {
     "name": "stdout",
     "output_type": "stream",
     "text": [
      "\r",
      "Episode 1520\tScore: [-0.01 -0.02]\t 100 Moving Average Score: [0.003900000508874655, -0.015099999625235797], OUNOISE: [1.46127733e-09 1.02736797e-09]\n"
     ]
    },
    {
     "name": "stderr",
     "output_type": "stream",
     "text": [
      "Training Status: Elapsed Time: 0:52:36  30% ETA:   1:58:11 |#####             |"
     ]
    },
    {
     "name": "stdout",
     "output_type": "stream",
     "text": [
      "\r",
      "Episode 1540\tScore: [-0.01 -0.02]\t 100 Moving Average Score: [0.003900000508874655, -0.015099999625235797], OUNOISE: [9.46421957e-10 4.44031494e-10]\n"
     ]
    },
    {
     "name": "stderr",
     "output_type": "stream",
     "text": [
      "Training Status: Elapsed Time: 0:53:16  31% ETA:   1:57:28 |#####             |"
     ]
    },
    {
     "name": "stdout",
     "output_type": "stream",
     "text": [
      "\r",
      "Episode 1560\tScore: [-0.02 -0.01]\t 100 Moving Average Score: [0.003900000508874655, -0.015099999625235797], OUNOISE: [7.13355098e-10 7.56563976e-10]\n"
     ]
    },
    {
     "name": "stderr",
     "output_type": "stream",
     "text": [
      "Training Status: Elapsed Time: 0:53:57  31% ETA:   1:56:48 |#####             |"
     ]
    },
    {
     "name": "stdout",
     "output_type": "stream",
     "text": [
      "\r",
      "Episode 1580\tScore: [ 0.1  -0.01]\t 100 Moving Average Score: [0.003900000508874655, -0.015099999625235797], OUNOISE: [5.76178981e-10 4.82551878e-10]\n"
     ]
    },
    {
     "name": "stderr",
     "output_type": "stream",
     "text": [
      "Training Status: Elapsed Time: 0:54:40  32% ETA:   1:56:10 |#####             |"
     ]
    },
    {
     "name": "stdout",
     "output_type": "stream",
     "text": [
      "\r",
      "Episode 1600\tScore: [ 0.08 -0.02]\t 100 Moving Average Score: [0.008500000610947609, -0.015399999655783177], OUNOISE: [4.40457674e-10 4.56816408e-10]\n"
     ]
    },
    {
     "name": "stderr",
     "output_type": "stream",
     "text": [
      "Training Status: Elapsed Time: 0:55:20  32% ETA:   1:55:27 |#####             |"
     ]
    },
    {
     "name": "stdout",
     "output_type": "stream",
     "text": [
      "\r",
      "Episode 1620\tScore: [-0.01 -0.02]\t 100 Moving Average Score: [0.008500000610947609, -0.015399999655783177], OUNOISE: [3.64187057e-10 3.23924677e-10]\n"
     ]
    },
    {
     "name": "stderr",
     "output_type": "stream",
     "text": [
      "Training Status: Elapsed Time: 0:56:03  32% ETA:   1:54:51 |#####             |"
     ]
    },
    {
     "name": "stdout",
     "output_type": "stream",
     "text": [
      "\r",
      "Episode 1640\tScore: [ 0.1  -0.02]\t 100 Moving Average Score: [0.008500000610947609, -0.015399999655783177], OUNOISE: [2.09143679e-10 2.00679896e-10]\n"
     ]
    },
    {
     "name": "stderr",
     "output_type": "stream",
     "text": [
      "Training Status: Elapsed Time: 0:56:48  33% ETA:   1:54:17 |#####             |"
     ]
    },
    {
     "name": "stdout",
     "output_type": "stream",
     "text": [
      "\r",
      "Episode 1660\tScore: [-0.02 -0.01]\t 100 Moving Average Score: [0.008500000610947609, -0.015399999655783177], OUNOISE: [1.86289423e-10 1.81148491e-10]\n"
     ]
    },
    {
     "name": "stderr",
     "output_type": "stream",
     "text": [
      "Training Status: Elapsed Time: 0:57:30  33% ETA:   1:53:38 |######            |"
     ]
    },
    {
     "name": "stdout",
     "output_type": "stream",
     "text": [
      "\r",
      "Episode 1680\tScore: [ 0.09 -0.02]\t 100 Moving Average Score: [0.008500000610947609, -0.015399999655783177], OUNOISE: [1.18867160e-10 8.62971429e-11]\n"
     ]
    },
    {
     "name": "stderr",
     "output_type": "stream",
     "text": [
      "Training Status: Elapsed Time: 0:58:14  34% ETA:   1:53:03 |######            |"
     ]
    },
    {
     "name": "stdout",
     "output_type": "stream",
     "text": [
      "\r",
      "Episode 1700\tScore: [ 0.1  -0.02]\t 100 Moving Average Score: [0.02710000079125166, -0.015899999644607306], OUNOISE: [8.09329729e-11 1.08027094e-10]\n"
     ]
    },
    {
     "name": "stderr",
     "output_type": "stream",
     "text": [
      "Training Status: Elapsed Time: 0:58:55  34% ETA:   1:52:22 |######            |"
     ]
    },
    {
     "name": "stdout",
     "output_type": "stream",
     "text": [
      "\r",
      "Episode 1720\tScore: [-0.02 -0.01]\t 100 Moving Average Score: [0.02710000079125166, -0.015899999644607306], OUNOISE: [5.32804517e-11 6.49589689e-11]\n"
     ]
    },
    {
     "name": "stderr",
     "output_type": "stream",
     "text": [
      "Training Status: Elapsed Time: 0:59:38  34% ETA:   1:51:43 |######            |"
     ]
    },
    {
     "name": "stdout",
     "output_type": "stream",
     "text": [
      "\r",
      "Episode 1740\tScore: [ 0.   -0.03]\t 100 Moving Average Score: [0.02710000079125166, -0.015899999644607306], OUNOISE: [7.49837762e-11 5.50504543e-11]\n"
     ]
    },
    {
     "name": "stderr",
     "output_type": "stream",
     "text": [
      "Training Status: Elapsed Time: 1:00:20  35% ETA:   1:51:05 |######            |"
     ]
    },
    {
     "name": "stdout",
     "output_type": "stream",
     "text": [
      "\r",
      "Episode 1760\tScore: [ 0.1  -0.01]\t 100 Moving Average Score: [0.02710000079125166, -0.015899999644607306], OUNOISE: [4.63447096e-11 4.13086404e-11]\n"
     ]
    },
    {
     "name": "stderr",
     "output_type": "stream",
     "text": [
      "Training Status: Elapsed Time: 1:01:03  35% ETA:   1:50:27 |######            |"
     ]
    },
    {
     "name": "stdout",
     "output_type": "stream",
     "text": [
      "\r",
      "Episode 1780\tScore: [-0.01 -0.02]\t 100 Moving Average Score: [0.02710000079125166, -0.015899999644607306], OUNOISE: [1.94757066e-11 3.86266006e-11]\n"
     ]
    },
    {
     "name": "stderr",
     "output_type": "stream",
     "text": [
      "Training Status: Elapsed Time: 1:01:48  36% ETA:   1:49:52 |######            |"
     ]
    },
    {
     "name": "stdout",
     "output_type": "stream",
     "text": [
      "\r",
      "Episode 1800\tScore: [-0.03  0.  ]\t 100 Moving Average Score: [0.04340000091120601, -0.01739999957382679], OUNOISE: [2.66882969e-11 2.83427034e-11]\n"
     ]
    },
    {
     "name": "stderr",
     "output_type": "stream",
     "text": [
      "Training Status: Elapsed Time: 1:02:32  36% ETA:   1:49:16 |######            |"
     ]
    },
    {
     "name": "stdout",
     "output_type": "stream",
     "text": [
      "\r",
      "Episode 1820\tScore: [-0.01 -0.02]\t 100 Moving Average Score: [0.04340000091120601, -0.01739999957382679], OUNOISE: [1.71062570e-11 1.86822289e-11]\n"
     ]
    },
    {
     "name": "stderr",
     "output_type": "stream",
     "text": [
      "Training Status: Elapsed Time: 1:03:18  36% ETA:   1:48:43 |######            |"
     ]
    },
    {
     "name": "stdout",
     "output_type": "stream",
     "text": [
      "\r",
      "Episode 1840\tScore: [ 0.1  -0.01]\t 100 Moving Average Score: [0.04340000091120601, -0.01739999957382679], OUNOISE: [1.18496510e-11 1.74971887e-11]\n"
     ]
    },
    {
     "name": "stderr",
     "output_type": "stream",
     "text": [
      "Training Status: Elapsed Time: 1:04:03  37% ETA:   1:48:09 |######            |"
     ]
    },
    {
     "name": "stdout",
     "output_type": "stream",
     "text": [
      "\r",
      "Episode 1860\tScore: [ 0.   -0.02]\t 100 Moving Average Score: [0.04340000091120601, -0.01739999957382679], OUNOISE: [1.10945566e-11 8.62604702e-12]\n"
     ]
    },
    {
     "name": "stderr",
     "output_type": "stream",
     "text": [
      "Training Status: Elapsed Time: 1:04:48  37% ETA:   1:47:33 |######            |"
     ]
    },
    {
     "name": "stdout",
     "output_type": "stream",
     "text": [
      "\r",
      "Episode 1880\tScore: [ 0.1  -0.01]\t 100 Moving Average Score: [0.04340000091120601, -0.01739999957382679], OUNOISE: [6.23869404e-12 8.77192281e-12]\n"
     ]
    },
    {
     "name": "stderr",
     "output_type": "stream",
     "text": [
      "Training Status: Elapsed Time: 1:05:32  38% ETA:   1:46:56 |######            |"
     ]
    },
    {
     "name": "stdout",
     "output_type": "stream",
     "text": [
      "\r",
      "Episode 1900\tScore: [ 0.09 -0.01]\t 100 Moving Average Score: [0.07120000116527081, -0.017199999615550042], OUNOISE: [6.58188541e-12 7.14440948e-12]\n"
     ]
    },
    {
     "name": "stderr",
     "output_type": "stream",
     "text": [
      "Training Status: Elapsed Time: 1:06:15  38% ETA:   1:46:16 |######            |"
     ]
    },
    {
     "name": "stdout",
     "output_type": "stream",
     "text": [
      "\r",
      "Episode 1920\tScore: [-0.03  0.  ]\t 100 Moving Average Score: [0.07120000116527081, -0.017199999615550042], OUNOISE: [5.05693230e-12 2.24965025e-12]\n"
     ]
    },
    {
     "name": "stderr",
     "output_type": "stream",
     "text": [
      "Training Status: Elapsed Time: 1:07:00  38% ETA:   1:45:41 |######            |"
     ]
    },
    {
     "name": "stdout",
     "output_type": "stream",
     "text": [
      "\r",
      "Episode 1940\tScore: [ 0.09 -0.01]\t 100 Moving Average Score: [0.07120000116527081, -0.017199999615550042], OUNOISE: [3.32976667e-12 3.14124358e-12]\n"
     ]
    },
    {
     "name": "stderr",
     "output_type": "stream",
     "text": [
      "Training Status: Elapsed Time: 1:07:42  39% ETA:   1:45:01 |#######           |"
     ]
    },
    {
     "name": "stdout",
     "output_type": "stream",
     "text": [
      "\r",
      "Episode 1960\tScore: [-0.02 -0.02]\t 100 Moving Average Score: [0.07120000116527081, -0.017199999615550042], OUNOISE: [1.72675578e-12 2.05211043e-12]\n"
     ]
    },
    {
     "name": "stderr",
     "output_type": "stream",
     "text": [
      "Training Status: Elapsed Time: 1:08:25  39% ETA:   1:44:22 |#######           |"
     ]
    },
    {
     "name": "stdout",
     "output_type": "stream",
     "text": [
      "\r",
      "Episode 1980\tScore: [ 0.   -0.03]\t 100 Moving Average Score: [0.07120000116527081, -0.017199999615550042], OUNOISE: [1.58360546e-12 2.33703562e-12]\n"
     ]
    },
    {
     "name": "stderr",
     "output_type": "stream",
     "text": [
      "Training Status: Elapsed Time: 1:09:06  40% ETA:   1:43:39 |#######           |"
     ]
    },
    {
     "name": "stdout",
     "output_type": "stream",
     "text": [
      "\r",
      "Episode 2000\tScore: [-0.03  0.  ]\t 100 Moving Average Score: [0.007700000572949648, -0.015399999655783177], OUNOISE: [1.27090855e-12 1.42151671e-12]\n"
     ]
    },
    {
     "name": "stderr",
     "output_type": "stream",
     "text": [
      "Training Status: Elapsed Time: 1:09:47  40% ETA:   1:42:57 |#######           |"
     ]
    },
    {
     "name": "stdout",
     "output_type": "stream",
     "text": [
      "\r",
      "Episode 2020\tScore: [-0.01 -0.02]\t 100 Moving Average Score: [0.007700000572949648, -0.015399999655783177], OUNOISE: [9.89466770e-13 1.10294994e-12]\n"
     ]
    },
    {
     "name": "stderr",
     "output_type": "stream",
     "text": [
      "Training Status: Elapsed Time: 1:10:28  40% ETA:   1:42:14 |#######           |"
     ]
    },
    {
     "name": "stdout",
     "output_type": "stream",
     "text": [
      "\r",
      "Episode 2040\tScore: [-0.02 -0.01]\t 100 Moving Average Score: [0.007700000572949648, -0.015399999655783177], OUNOISE: [1.04148106e-12 7.12008780e-13]\n"
     ]
    },
    {
     "name": "stderr",
     "output_type": "stream",
     "text": [
      "Training Status: Elapsed Time: 1:11:09  41% ETA:   1:41:32 |#######           |"
     ]
    },
    {
     "name": "stdout",
     "output_type": "stream",
     "text": [
      "\r",
      "Episode 2060\tScore: [-0.01 -0.02]\t 100 Moving Average Score: [0.007700000572949648, -0.015399999655783177], OUNOISE: [7.14543780e-13 6.71111464e-13]\n"
     ]
    },
    {
     "name": "stderr",
     "output_type": "stream",
     "text": [
      "Training Status: Elapsed Time: 1:11:50  41% ETA:   1:40:50 |#######           |"
     ]
    },
    {
     "name": "stdout",
     "output_type": "stream",
     "text": [
      "\r",
      "Episode 2080\tScore: [ 0.   -0.03]\t 100 Moving Average Score: [0.007700000572949648, -0.015399999655783177], OUNOISE: [5.83789433e-13 6.09387634e-13]\n"
     ]
    },
    {
     "name": "stderr",
     "output_type": "stream",
     "text": [
      "Training Status: Elapsed Time: 1:12:31  42% ETA:   1:40:09 |#######           |"
     ]
    },
    {
     "name": "stdout",
     "output_type": "stream",
     "text": [
      "\r",
      "Episode 2100\tScore: [-0.02 -0.01]\t 100 Moving Average Score: [-0.016099999640136958, -0.013799999691545963], OUNOISE: [3.42969718e-13 2.81488211e-13]\n"
     ]
    },
    {
     "name": "stderr",
     "output_type": "stream",
     "text": [
      "Training Status: Elapsed Time: 1:13:14  42% ETA:   1:39:29 |#######           |"
     ]
    },
    {
     "name": "stdout",
     "output_type": "stream",
     "text": [
      "\r",
      "Episode 2120\tScore: [-0.01 -0.02]\t 100 Moving Average Score: [-0.016099999640136958, -0.013799999691545963], OUNOISE: [2.45612189e-13 2.94326840e-13]\n"
     ]
    },
    {
     "name": "stderr",
     "output_type": "stream",
     "text": [
      "Training Status: Elapsed Time: 1:13:57  42% ETA:   1:38:50 |#######           |"
     ]
    },
    {
     "name": "stdout",
     "output_type": "stream",
     "text": [
      "\r",
      "Episode 2140\tScore: [-0.02 -0.01]\t 100 Moving Average Score: [-0.016099999640136958, -0.013799999691545963], OUNOISE: [2.85062012e-13 2.10777632e-13]\n"
     ]
    },
    {
     "name": "stderr",
     "output_type": "stream",
     "text": [
      "Training Status: Elapsed Time: 1:14:39  43% ETA:   1:38:09 |#######           |"
     ]
    },
    {
     "name": "stdout",
     "output_type": "stream",
     "text": [
      "\r",
      "Episode 2160\tScore: [ 0.   -0.03]\t 100 Moving Average Score: [-0.016099999640136958, -0.013799999691545963], OUNOISE: [1.84568732e-13 2.00745220e-13]\n"
     ]
    },
    {
     "name": "stderr",
     "output_type": "stream",
     "text": [
      "Training Status: Elapsed Time: 1:15:22  43% ETA:   1:37:29 |#######           |"
     ]
    },
    {
     "name": "stdout",
     "output_type": "stream",
     "text": [
      "\r",
      "Episode 2180\tScore: [-0.01 -0.02]\t 100 Moving Average Score: [-0.016099999640136958, -0.013799999691545963], OUNOISE: [1.87086089e-13 1.35078491e-13]\n"
     ]
    },
    {
     "name": "stderr",
     "output_type": "stream",
     "text": [
      "Training Status: Elapsed Time: 1:16:04  44% ETA:   1:36:48 |#######           |"
     ]
    },
    {
     "name": "stdout",
     "output_type": "stream",
     "text": [
      "\r",
      "Episode 2200\tScore: [-0.01 -0.02]\t 100 Moving Average Score: [-0.014899999666959048, -0.014899999666959048], OUNOISE: [1.46285465e-13 1.36712106e-13]\n"
     ]
    },
    {
     "name": "stderr",
     "output_type": "stream",
     "text": [
      "Training Status: Elapsed Time: 1:16:45  44% ETA:   1:36:07 |#######           |"
     ]
    },
    {
     "name": "stdout",
     "output_type": "stream",
     "text": [
      "\r",
      "Episode 2220\tScore: [-0.02 -0.01]\t 100 Moving Average Score: [-0.014899999666959048, -0.014899999666959048], OUNOISE: [8.76673619e-14 7.08374931e-14]\n"
     ]
    },
    {
     "name": "stderr",
     "output_type": "stream",
     "text": [
      "Training Status: Elapsed Time: 1:17:26  44% ETA:   1:35:25 |########          |"
     ]
    },
    {
     "name": "stdout",
     "output_type": "stream",
     "text": [
      "\r",
      "Episode 2240\tScore: [ 0.   -0.03]\t 100 Moving Average Score: [-0.014899999666959048, -0.014899999666959048], OUNOISE: [7.12786272e-14 8.20001449e-14]\n"
     ]
    },
    {
     "name": "stderr",
     "output_type": "stream",
     "text": [
      "Training Status: Elapsed Time: 1:18:08  45% ETA:   1:34:44 |########          |"
     ]
    },
    {
     "name": "stdout",
     "output_type": "stream",
     "text": [
      "\r",
      "Episode 2260\tScore: [-0.03  0.  ]\t 100 Moving Average Score: [-0.014899999666959048, -0.014899999666959048], OUNOISE: [6.69315790e-14 5.56056266e-14]\n"
     ]
    },
    {
     "name": "stderr",
     "output_type": "stream",
     "text": [
      "Training Status: Elapsed Time: 1:18:51  45% ETA:   1:34:05 |########          |"
     ]
    },
    {
     "name": "stdout",
     "output_type": "stream",
     "text": [
      "\r",
      "Episode 2280\tScore: [-0.02 -0.01]\t 100 Moving Average Score: [-0.014899999666959048, -0.014899999666959048], OUNOISE: [3.05766787e-14 4.35116020e-14]\n"
     ]
    },
    {
     "name": "stderr",
     "output_type": "stream",
     "text": [
      "Training Status: Elapsed Time: 1:19:35  46% ETA:   1:33:26 |########          |"
     ]
    },
    {
     "name": "stdout",
     "output_type": "stream",
     "text": [
      "\r",
      "Episode 2300\tScore: [ 0.   -0.03]\t 100 Moving Average Score: [-0.014199999682605267, -0.01579999964684248], OUNOISE: [3.15204766e-14 3.23407978e-14]\n"
     ]
    },
    {
     "name": "stderr",
     "output_type": "stream",
     "text": [
      "Training Status: Elapsed Time: 1:20:18  46% ETA:   1:32:45 |########          |"
     ]
    },
    {
     "name": "stdout",
     "output_type": "stream",
     "text": [
      "\r",
      "Episode 2320\tScore: [-0.01 -0.02]\t 100 Moving Average Score: [-0.014199999682605267, -0.01579999964684248], OUNOISE: [2.05600403e-14 2.89246127e-14]\n"
     ]
    },
    {
     "name": "stderr",
     "output_type": "stream",
     "text": [
      "Training Status: Elapsed Time: 1:21:01  46% ETA:   1:32:05 |########          |"
     ]
    },
    {
     "name": "stdout",
     "output_type": "stream",
     "text": [
      "\r",
      "Episode 2340\tScore: [-0.03  0.  ]\t 100 Moving Average Score: [-0.014199999682605267, -0.01579999964684248], OUNOISE: [1.77751463e-14 2.14393877e-14]\n"
     ]
    },
    {
     "name": "stderr",
     "output_type": "stream",
     "text": [
      "Training Status: Elapsed Time: 1:21:42  47% ETA:   1:31:24 |########          |"
     ]
    },
    {
     "name": "stdout",
     "output_type": "stream",
     "text": [
      "\r",
      "Episode 2360\tScore: [-0.02 -0.01]\t 100 Moving Average Score: [-0.014199999682605267, -0.01579999964684248], OUNOISE: [1.85224471e-14 1.79754102e-14]\n"
     ]
    },
    {
     "name": "stderr",
     "output_type": "stream",
     "text": [
      "Training Status: Elapsed Time: 1:22:25  47% ETA:   1:30:43 |########          |"
     ]
    },
    {
     "name": "stdout",
     "output_type": "stream",
     "text": [
      "\r",
      "Episode 2380\tScore: [-0.01 -0.02]\t 100 Moving Average Score: [-0.014199999682605267, -0.01579999964684248], OUNOISE: [8.58097791e-15 1.16439917e-14]\n"
     ]
    },
    {
     "name": "stderr",
     "output_type": "stream",
     "text": [
      "Training Status: Elapsed Time: 1:23:07  48% ETA:   1:30:02 |########          |"
     ]
    },
    {
     "name": "stdout",
     "output_type": "stream",
     "text": [
      "\r",
      "Episode 2400\tScore: [-0.01 -0.02]\t 100 Moving Average Score: [-0.015499999653548003, -0.014499999675899744], OUNOISE: [8.00084203e-15 8.53597681e-15]\n"
     ]
    },
    {
     "name": "stderr",
     "output_type": "stream",
     "text": [
      "Training Status: Elapsed Time: 1:23:49  48% ETA:   1:29:21 |########          |"
     ]
    },
    {
     "name": "stdout",
     "output_type": "stream",
     "text": [
      "\r",
      "Episode 2420\tScore: [ 0.   -0.03]\t 100 Moving Average Score: [-0.015499999653548003, -0.014499999675899744], OUNOISE: [6.74176505e-15 8.76042818e-15]\n"
     ]
    },
    {
     "name": "stderr",
     "output_type": "stream",
     "text": [
      "Training Status: Elapsed Time: 1:24:30  48% ETA:   1:28:40 |########          |"
     ]
    },
    {
     "name": "stdout",
     "output_type": "stream",
     "text": [
      "\r",
      "Episode 2440\tScore: [-0.01 -0.02]\t 100 Moving Average Score: [-0.015499999653548003, -0.014499999675899744], OUNOISE: [4.79206893e-15 5.14918984e-15]\n"
     ]
    },
    {
     "name": "stderr",
     "output_type": "stream",
     "text": [
      "Training Status: Elapsed Time: 1:25:12  49% ETA:   1:27:58 |########          |"
     ]
    },
    {
     "name": "stdout",
     "output_type": "stream",
     "text": [
      "\r",
      "Episode 2460\tScore: [-0.01 -0.02]\t 100 Moving Average Score: [-0.015499999653548003, -0.014499999675899744], OUNOISE: [4.70448639e-15 4.80942873e-15]\n"
     ]
    },
    {
     "name": "stderr",
     "output_type": "stream",
     "text": [
      "Training Status: Elapsed Time: 1:25:55  49% ETA:   1:27:18 |########          |"
     ]
    },
    {
     "name": "stdout",
     "output_type": "stream",
     "text": [
      "\r",
      "Episode 2480\tScore: [-0.01 -0.02]\t 100 Moving Average Score: [-0.015499999653548003, -0.014499999675899744], OUNOISE: [1.95624266e-15 3.30774827e-15]\n"
     ]
    },
    {
     "name": "stderr",
     "output_type": "stream",
     "text": [
      "Training Status: Elapsed Time: 1:26:37  50% ETA:   1:26:37 |#########         |"
     ]
    },
    {
     "name": "stdout",
     "output_type": "stream",
     "text": [
      "\r",
      "Episode 2500\tScore: [-0.01 -0.02]\t 100 Moving Average Score: [-0.015199999660253524, -0.014799999669194222], OUNOISE: [2.43994093e-15 2.19279435e-15]\n"
     ]
    },
    {
     "name": "stderr",
     "output_type": "stream",
     "text": [
      "Training Status: Elapsed Time: 1:27:18  50% ETA:   1:25:55 |#########         |"
     ]
    },
    {
     "name": "stdout",
     "output_type": "stream",
     "text": [
      "\r",
      "Episode 2520\tScore: [-0.01 -0.02]\t 100 Moving Average Score: [-0.015199999660253524, -0.014799999669194222], OUNOISE: [1.74780503e-15 2.24246146e-15]\n"
     ]
    },
    {
     "name": "stderr",
     "output_type": "stream",
     "text": [
      "Training Status: Elapsed Time: 1:28:00  50% ETA:   1:25:13 |#########         |"
     ]
    },
    {
     "name": "stdout",
     "output_type": "stream",
     "text": [
      "\r",
      "Episode 2540\tScore: [-0.02 -0.01]\t 100 Moving Average Score: [-0.015199999660253524, -0.014799999669194222], OUNOISE: [1.41984335e-15 1.65228663e-15]\n"
     ]
    },
    {
     "name": "stderr",
     "output_type": "stream",
     "text": [
      "Training Status: Elapsed Time: 1:28:41  51% ETA:   1:24:31 |#########         |"
     ]
    },
    {
     "name": "stdout",
     "output_type": "stream",
     "text": [
      "\r",
      "Episode 2560\tScore: [-0.02 -0.01]\t 100 Moving Average Score: [-0.015199999660253524, -0.014799999669194222], OUNOISE: [1.19832981e-15 6.86853732e-16]\n"
     ]
    },
    {
     "name": "stderr",
     "output_type": "stream",
     "text": [
      "Training Status: Elapsed Time: 1:29:22  51% ETA:   1:23:49 |#########         |"
     ]
    },
    {
     "name": "stdout",
     "output_type": "stream",
     "text": [
      "\r",
      "Episode 2580\tScore: [ 0.   -0.03]\t 100 Moving Average Score: [-0.015199999660253524, -0.014799999669194222], OUNOISE: [6.90811415e-16 1.14093753e-15]\n"
     ]
    },
    {
     "name": "stderr",
     "output_type": "stream",
     "text": [
      "Training Status: Elapsed Time: 1:30:03  52% ETA:   1:23:08 |#########         |"
     ]
    },
    {
     "name": "stdout",
     "output_type": "stream",
     "text": [
      "\r",
      "Episode 2600\tScore: [-0.01 -0.02]\t 100 Moving Average Score: [-0.013999999649822712, -0.014999999664723873], OUNOISE: [6.05646312e-16 5.97168335e-16]\n"
     ]
    },
    {
     "name": "stderr",
     "output_type": "stream",
     "text": [
      "Training Status: Elapsed Time: 1:30:47  52% ETA:   1:22:28 |#########         |"
     ]
    },
    {
     "name": "stdout",
     "output_type": "stream",
     "text": [
      "\r",
      "Episode 2620\tScore: [ 0.2  -0.02]\t 100 Moving Average Score: [-0.013999999649822712, -0.014999999664723873], OUNOISE: [5.38386667e-16 7.26141365e-16]\n"
     ]
    },
    {
     "name": "stderr",
     "output_type": "stream",
     "text": [
      "Training Status: Elapsed Time: 1:31:31  52% ETA:   1:21:48 |#########         |"
     ]
    },
    {
     "name": "stdout",
     "output_type": "stream",
     "text": [
      "\r",
      "Episode 2640\tScore: [-0.02 -0.01]\t 100 Moving Average Score: [-0.013999999649822712, -0.014999999664723873], OUNOISE: [5.39215537e-16 3.52933624e-16]\n"
     ]
    },
    {
     "name": "stderr",
     "output_type": "stream",
     "text": [
      "Training Status: Elapsed Time: 1:32:15  53% ETA:   1:21:09 |#########         |"
     ]
    },
    {
     "name": "stdout",
     "output_type": "stream",
     "text": [
      "\r",
      "Episode 2660\tScore: [ 0.   -0.03]\t 100 Moving Average Score: [-0.013999999649822712, -0.014999999664723873], OUNOISE: [3.19931564e-16 3.34943883e-16]\n"
     ]
    },
    {
     "name": "stderr",
     "output_type": "stream",
     "text": [
      "Training Status: Elapsed Time: 1:32:59  53% ETA:   1:20:30 |#########         |"
     ]
    },
    {
     "name": "stdout",
     "output_type": "stream",
     "text": [
      "\r",
      "Episode 2680\tScore: [-0.01 -0.02]\t 100 Moving Average Score: [-0.013999999649822712, -0.014999999664723873], OUNOISE: [3.43822657e-16 2.18010460e-16]\n"
     ]
    },
    {
     "name": "stderr",
     "output_type": "stream",
     "text": [
      "Training Status: Elapsed Time: 1:33:43  54% ETA:   1:19:50 |#########         |"
     ]
    },
    {
     "name": "stdout",
     "output_type": "stream",
     "text": [
      "\r",
      "Episode 2700\tScore: [ 0.1  -0.01]\t 100 Moving Average Score: [0.04060000095516443, -0.020399999544024466], OUNOISE: [1.71951278e-16 1.34641768e-16]\n"
     ]
    },
    {
     "name": "stderr",
     "output_type": "stream",
     "text": [
      "Training Status: Elapsed Time: 1:34:29  54% ETA:   1:19:12 |#########         |"
     ]
    },
    {
     "name": "stdout",
     "output_type": "stream",
     "text": [
      "\r",
      "Episode 2720\tScore: [ 0.   -0.03]\t 100 Moving Average Score: [0.04060000095516443, -0.020399999544024466], OUNOISE: [1.39008357e-16 1.24493999e-16]\n"
     ]
    },
    {
     "name": "stderr",
     "output_type": "stream",
     "text": [
      "Training Status: Elapsed Time: 1:35:16  54% ETA:   1:18:34 |#########         |"
     ]
    },
    {
     "name": "stdout",
     "output_type": "stream",
     "text": [
      "\r",
      "Episode 2740\tScore: [ 0.1  -0.03]\t 100 Moving Average Score: [0.04060000095516443, -0.020399999544024466], OUNOISE: [8.12073335e-17 9.22293852e-17]\n"
     ]
    },
    {
     "name": "stderr",
     "output_type": "stream",
     "text": [
      "Training Status: Elapsed Time: 1:36:01  55% ETA:   1:17:56 |#########         |"
     ]
    },
    {
     "name": "stdout",
     "output_type": "stream",
     "text": [
      "\r",
      "Episode 2760\tScore: [-0.01 -0.02]\t 100 Moving Average Score: [0.04060000095516443, -0.020399999544024466], OUNOISE: [8.11707988e-17 9.70192830e-17]\n"
     ]
    },
    {
     "name": "stderr",
     "output_type": "stream",
     "text": [
      "Training Status: Elapsed Time: 1:36:44  55% ETA:   1:17:15 |##########        |"
     ]
    },
    {
     "name": "stdout",
     "output_type": "stream",
     "text": [
      "\r",
      "Episode 2780\tScore: [ 0.   -0.03]\t 100 Moving Average Score: [0.04060000095516443, -0.020399999544024466], OUNOISE: [7.43032315e-17 5.78526269e-17]\n"
     ]
    },
    {
     "name": "stderr",
     "output_type": "stream",
     "text": [
      "Training Status: Elapsed Time: 1:37:25  56% ETA:   1:16:32 |##########        |"
     ]
    },
    {
     "name": "stdout",
     "output_type": "stream",
     "text": [
      "\r",
      "Episode 2800\tScore: [-0.02 -0.01]\t 100 Moving Average Score: [0.055200001019984485, -0.020399999544024466], OUNOISE: [3.40176080e-17 3.91774625e-17]\n"
     ]
    },
    {
     "name": "stderr",
     "output_type": "stream",
     "text": [
      "Training Status: Elapsed Time: 1:38:06  56% ETA:   1:15:50 |##########        |"
     ]
    },
    {
     "name": "stdout",
     "output_type": "stream",
     "text": [
      "\r",
      "Episode 2820\tScore: [-0.01 -0.02]\t 100 Moving Average Score: [0.055200001019984485, -0.020399999544024466], OUNOISE: [3.58527102e-17 2.57012328e-17]\n"
     ]
    },
    {
     "name": "stderr",
     "output_type": "stream",
     "text": [
      "Training Status: Elapsed Time: 1:38:46  56% ETA:   1:15:07 |##########        |"
     ]
    },
    {
     "name": "stdout",
     "output_type": "stream",
     "text": [
      "\r",
      "Episode 2840\tScore: [-0.03  0.  ]\t 100 Moving Average Score: [0.055200001019984485, -0.020399999544024466], OUNOISE: [3.14561192e-17 3.06075716e-17]\n"
     ]
    },
    {
     "name": "stderr",
     "output_type": "stream",
     "text": [
      "Training Status: Elapsed Time: 1:39:27  57% ETA:   1:14:24 |##########        |"
     ]
    },
    {
     "name": "stdout",
     "output_type": "stream",
     "text": [
      "\r",
      "Episode 2860\tScore: [-0.02 -0.01]\t 100 Moving Average Score: [0.055200001019984485, -0.020399999544024466], OUNOISE: [2.95074179e-17 2.46272969e-17]\n"
     ]
    },
    {
     "name": "stderr",
     "output_type": "stream",
     "text": [
      "Training Status: Elapsed Time: 1:40:07  57% ETA:   1:13:42 |##########        |"
     ]
    },
    {
     "name": "stdout",
     "output_type": "stream",
     "text": [
      "\r",
      "Episode 2880\tScore: [-0.03  0.  ]\t 100 Moving Average Score: [0.055200001019984485, -0.020399999544024466], OUNOISE: [1.64895528e-17 1.82041184e-17]\n"
     ]
    },
    {
     "name": "stderr",
     "output_type": "stream",
     "text": [
      "Training Status: Elapsed Time: 1:40:48  58% ETA:   1:12:59 |##########        |"
     ]
    },
    {
     "name": "stdout",
     "output_type": "stream",
     "text": [
      "\r",
      "Episode 2900\tScore: [-0.01 -0.02]\t 100 Moving Average Score: [-0.014899999666959048, -0.015099999662488699], OUNOISE: [1.48910478e-17 1.34466036e-17]\n"
     ]
    },
    {
     "name": "stderr",
     "output_type": "stream",
     "text": [
      "Training Status: Elapsed Time: 1:41:00  58% ETA:   1:12:47 |##########        |IOPub message rate exceeded.\n",
      "The notebook server will temporarily stop sending output\n",
      "to the client in order to avoid crashing it.\n",
      "To change this limit, set the config variable\n",
      "`--NotebookApp.iopub_msg_rate_limit`.\n",
      "\n",
      "Current values:\n",
      "NotebookApp.iopub_msg_rate_limit=1000.0 (msgs/sec)\n",
      "NotebookApp.rate_limit_window=3.0 (secs)\n",
      "\n",
      "Training Status: Elapsed Time: 2:40:03  91% ETA:   0:14:40 |################  |"
     ]
    },
    {
     "name": "stdout",
     "output_type": "stream",
     "text": [
      "\r",
      "Episode 4580\tScore: [-0.01 -0.02]\t 100 Moving Average Score: [-0.014799999669194222, -0.015199999660253524], OUNOISE: [2.49225721e-27 2.52208422e-27]\n"
     ]
    },
    {
     "name": "stderr",
     "output_type": "stream",
     "text": [
      "Training Status: Elapsed Time: 2:40:44  92% ETA:   0:13:58 |################  |"
     ]
    },
    {
     "name": "stdout",
     "output_type": "stream",
     "text": [
      "\r",
      "Episode 4600\tScore: [-0.01 -0.02]\t 100 Moving Average Score: [-0.015599999651312828, -0.014399999678134918], OUNOISE: [1.57779467e-27 1.11220024e-27]\n"
     ]
    },
    {
     "name": "stderr",
     "output_type": "stream",
     "text": [
      "Training Status: Elapsed Time: 2:41:25  92% ETA:   0:13:16 |################  |"
     ]
    },
    {
     "name": "stdout",
     "output_type": "stream",
     "text": [
      "\r",
      "Episode 4620\tScore: [-0.01 -0.02]\t 100 Moving Average Score: [-0.015599999651312828, -0.014399999678134918], OUNOISE: [1.01243316e-27 1.58264432e-27]\n"
     ]
    },
    {
     "name": "stderr",
     "output_type": "stream",
     "text": [
      "Training Status: Elapsed Time: 2:42:06  92% ETA:   0:12:34 |################  |"
     ]
    },
    {
     "name": "stdout",
     "output_type": "stream",
     "text": [
      "\r",
      "Episode 4640\tScore: [-0.02 -0.01]\t 100 Moving Average Score: [-0.015599999651312828, -0.014399999678134918], OUNOISE: [1.10253894e-27 1.04599812e-27]\n"
     ]
    },
    {
     "name": "stderr",
     "output_type": "stream",
     "text": [
      "Training Status: Elapsed Time: 2:42:47  93% ETA:   0:11:52 |################  |"
     ]
    },
    {
     "name": "stdout",
     "output_type": "stream",
     "text": [
      "\r",
      "Episode 4660\tScore: [-0.01 -0.02]\t 100 Moving Average Score: [-0.015599999651312828, -0.014399999678134918], OUNOISE: [8.30071987e-28 8.41723595e-28]\n"
     ]
    },
    {
     "name": "stderr",
     "output_type": "stream",
     "text": [
      "Training Status: Elapsed Time: 2:43:28  93% ETA:   0:11:10 |################  |"
     ]
    },
    {
     "name": "stdout",
     "output_type": "stream",
     "text": [
      "\r",
      "Episode 4680\tScore: [-0.03  0.  ]\t 100 Moving Average Score: [-0.015599999651312828, -0.014399999678134918], OUNOISE: [5.89315869e-28 3.84757375e-28]\n"
     ]
    },
    {
     "name": "stderr",
     "output_type": "stream",
     "text": [
      "Training Status: Elapsed Time: 2:44:09  94% ETA:   0:10:28 |################  |"
     ]
    },
    {
     "name": "stdout",
     "output_type": "stream",
     "text": [
      "\r",
      "Episode 4700\tScore: [-0.02 -0.01]\t 100 Moving Average Score: [-0.015199999660253524, -0.014799999669194222], OUNOISE: [4.91298158e-28 5.20078581e-28]\n"
     ]
    },
    {
     "name": "stderr",
     "output_type": "stream",
     "text": [
      "Training Status: Elapsed Time: 2:44:51  94% ETA:   0:09:46 |################  |"
     ]
    },
    {
     "name": "stdout",
     "output_type": "stream",
     "text": [
      "\r",
      "Episode 4720\tScore: [ 0.   -0.03]\t 100 Moving Average Score: [-0.015199999660253524, -0.014799999669194222], OUNOISE: [5.12042581e-28 4.02176218e-28]\n"
     ]
    },
    {
     "name": "stderr",
     "output_type": "stream",
     "text": [
      "Training Status: Elapsed Time: 2:45:32  94% ETA:   0:09:04 |################# |"
     ]
    },
    {
     "name": "stdout",
     "output_type": "stream",
     "text": [
      "\r",
      "Episode 4740\tScore: [-0.01 -0.02]\t 100 Moving Average Score: [-0.015199999660253524, -0.014799999669194222], OUNOISE: [2.60918333e-28 3.09036428e-28]\n"
     ]
    },
    {
     "name": "stderr",
     "output_type": "stream",
     "text": [
      "Training Status: Elapsed Time: 2:46:13  95% ETA:   0:08:22 |################# |"
     ]
    },
    {
     "name": "stdout",
     "output_type": "stream",
     "text": [
      "\r",
      "Episode 4760\tScore: [-0.01 -0.02]\t 100 Moving Average Score: [-0.015199999660253524, -0.014799999669194222], OUNOISE: [2.12771126e-28 2.38113962e-28]\n"
     ]
    },
    {
     "name": "stderr",
     "output_type": "stream",
     "text": [
      "Training Status: Elapsed Time: 2:46:54  95% ETA:   0:07:40 |################# |"
     ]
    },
    {
     "name": "stdout",
     "output_type": "stream",
     "text": [
      "\r",
      "Episode 4780\tScore: [-0.02 -0.01]\t 100 Moving Average Score: [-0.015199999660253524, -0.014799999669194222], OUNOISE: [1.58669880e-28 2.41033573e-28]\n"
     ]
    },
    {
     "name": "stderr",
     "output_type": "stream",
     "text": [
      "Training Status: Elapsed Time: 2:47:35  96% ETA:   0:06:58 |################# |"
     ]
    },
    {
     "name": "stdout",
     "output_type": "stream",
     "text": [
      "\r",
      "Episode 4800\tScore: [-0.03  0.  ]\t 100 Moving Average Score: [-0.014799999669194222, -0.015199999660253524], OUNOISE: [1.32534107e-28 1.32871958e-28]\n"
     ]
    },
    {
     "name": "stderr",
     "output_type": "stream",
     "text": [
      "Training Status: Elapsed Time: 2:48:16  96% ETA:   0:06:17 |################# |"
     ]
    },
    {
     "name": "stdout",
     "output_type": "stream",
     "text": [
      "\r",
      "Episode 4820\tScore: [-0.02 -0.01]\t 100 Moving Average Score: [-0.014799999669194222, -0.015199999660253524], OUNOISE: [1.00311646e-28 9.86582655e-29]\n"
     ]
    },
    {
     "name": "stderr",
     "output_type": "stream",
     "text": [
      "Training Status: Elapsed Time: 2:48:57  96% ETA:   0:05:35 |################# |"
     ]
    },
    {
     "name": "stdout",
     "output_type": "stream",
     "text": [
      "\r",
      "Episode 4840\tScore: [-0.01 -0.02]\t 100 Moving Average Score: [-0.014799999669194222, -0.015199999660253524], OUNOISE: [7.43953281e-29 8.59044649e-29]\n"
     ]
    },
    {
     "name": "stderr",
     "output_type": "stream",
     "text": [
      "Training Status: Elapsed Time: 2:49:39  97% ETA:   0:04:53 |################# |"
     ]
    },
    {
     "name": "stdout",
     "output_type": "stream",
     "text": [
      "\r",
      "Episode 4860\tScore: [-0.02 -0.01]\t 100 Moving Average Score: [-0.014799999669194222, -0.015199999660253524], OUNOISE: [5.31395169e-29 6.15200294e-29]\n"
     ]
    },
    {
     "name": "stderr",
     "output_type": "stream",
     "text": [
      "Training Status: Elapsed Time: 2:50:20  97% ETA:   0:04:11 |################# |"
     ]
    },
    {
     "name": "stdout",
     "output_type": "stream",
     "text": [
      "\r",
      "Episode 4880\tScore: [ 0.   -0.03]\t 100 Moving Average Score: [-0.014799999669194222, -0.015199999660253524], OUNOISE: [4.73422415e-29 4.62418812e-29]\n"
     ]
    },
    {
     "name": "stderr",
     "output_type": "stream",
     "text": [
      "Training Status: Elapsed Time: 2:51:01  98% ETA:   0:03:29 |################# |"
     ]
    },
    {
     "name": "stdout",
     "output_type": "stream",
     "text": [
      "\r",
      "Episode 4900\tScore: [-0.02 -0.01]\t 100 Moving Average Score: [-0.014899999666959048, -0.015099999662488699], OUNOISE: [3.87124348e-29 3.40599945e-29]\n"
     ]
    },
    {
     "name": "stderr",
     "output_type": "stream",
     "text": [
      "Training Status: Elapsed Time: 2:51:43  98% ETA:   0:02:47 |################# |"
     ]
    },
    {
     "name": "stdout",
     "output_type": "stream",
     "text": [
      "\r",
      "Episode 4920\tScore: [-0.01 -0.02]\t 100 Moving Average Score: [-0.014899999666959048, -0.015099999662488699], OUNOISE: [2.61396492e-29 2.65757449e-29]\n"
     ]
    },
    {
     "name": "stderr",
     "output_type": "stream",
     "text": [
      "Training Status: Elapsed Time: 2:52:24  98% ETA:   0:02:05 |################# |"
     ]
    },
    {
     "name": "stdout",
     "output_type": "stream",
     "text": [
      "\r",
      "Episode 4940\tScore: [-0.01 -0.02]\t 100 Moving Average Score: [-0.014899999666959048, -0.015099999662488699], OUNOISE: [2.46710138e-29 2.08749680e-29]\n"
     ]
    },
    {
     "name": "stderr",
     "output_type": "stream",
     "text": [
      "Training Status: Elapsed Time: 2:53:05  99% ETA:   0:01:23 |################# |"
     ]
    },
    {
     "name": "stdout",
     "output_type": "stream",
     "text": [
      "\r",
      "Episode 4960\tScore: [-0.01 -0.02]\t 100 Moving Average Score: [-0.014899999666959048, -0.015099999662488699], OUNOISE: [1.17784975e-29 1.50831191e-29]\n"
     ]
    },
    {
     "name": "stderr",
     "output_type": "stream",
     "text": [
      "Training Status: Elapsed Time: 2:53:47  99% ETA:   0:00:41 |################# |"
     ]
    },
    {
     "name": "stdout",
     "output_type": "stream",
     "text": [
      "\r",
      "Episode 4980\tScore: [-0.02 -0.01]\t 100 Moving Average Score: [-0.014899999666959048, -0.015099999662488699], OUNOISE: [1.12700517e-29 1.05627504e-29]\n"
     ]
    },
    {
     "name": "stderr",
     "output_type": "stream",
     "text": [
      "Training Status: Elapsed Time: 2:54:28 100% Time:  2:54:28 |##################|\n"
     ]
    },
    {
     "name": "stdout",
     "output_type": "stream",
     "text": [
      "\r",
      "Episode 5000\tScore: [ 0.   -0.03]\t 100 Moving Average Score: [-0.015199999660253524, -0.014799999669194222], OUNOISE: [8.89751894e-30 7.29848464e-30]\n"
     ]
    }
   ],
   "source": [
    "def main():\n",
    "    \"\"\"\n",
    "    Multiagent Deep deterministic Policy Gradient (MADDPG)\n",
    "    This specific MMADDPG will learn how to play a game of tennis. There are 24 states-observables and 2 action-dimensions for\n",
    "    each agent. \n",
    "        \n",
    "    \"\"\"\n",
    "    # ---------------Configuration----------------#\n",
    "    # Episodes and Trajectory\n",
    "    n_episodes = 5000\n",
    "    trajectory_length = 50\n",
    "    batch_size = 256\n",
    "    \n",
    "    # Model Parameters\n",
    "    ddpg_body_dim = [(400,256),(400,256)]\n",
    "    seed = 0\n",
    "    buffer_size = int(1e5)\n",
    "    tau = 3e-2\n",
    "    gamma = 0.99\n",
    "    decay_noise = 0.99\n",
    "    lr_actor = 1e-4\n",
    "    lr_critic = 5e-4\n",
    "    weight_decay = 0\n",
    "    device = torch.device(\"cuda:0\" if torch.cuda.is_available() else 'cpu')\n",
    "    print(\"Device used: \", device)\n",
    "    maddpg = MADDPG(state_size, action_size, ddpg_body_dim=ddpg_body_dim, seed=seed,\\\n",
    "                    batch_size=batch_size, buffer_size=buffer_size, tau=tau, gamma=gamma,\\\n",
    "                    decay_noise=decay_noise,lr_actor=lr_actor, lr_critic=lr_critic,\\\n",
    "                    weight_decay=weight_decay, device=device)\n",
    "    \n",
    "    # Save configurations\n",
    "    log_path = os.getcwd()+\"/log\"\n",
    "    model_dir= os.getcwd()+\"/model_dir\"\n",
    "    os.makedirs(model_dir, exist_ok=True)\n",
    "    \n",
    "    # initialize logging of rewards\n",
    "    logger = SummaryWriter(log_dir=log_path)\n",
    "    agent0_reward = []\n",
    "    agent0_window = deque(maxlen=100)\n",
    "    agent1_reward = []\n",
    "    agent1_window = deque(maxlen=100)\n",
    "    avg_rewards = 0\n",
    "    avg_rewards_window = 0\n",
    "    scores =[]\n",
    "    scores_100 = []\n",
    "    \n",
    "\n",
    "    \n",
    "    \n",
    "    widget = [\"Training Status: \", pb.Timer(), ' ', pb.Percentage(), ' ', pb.ETA(), ' ', pb.Bar()]\n",
    "    #timer = pb.progressbar(widgets=widget, maxval=n_episodes).start()\n",
    "    \n",
    "    ##############################################################################\n",
    "    #---------------------------Training Commence--------------------------------#\n",
    "    for i_episode in pb.progressbar(range(1, n_episodes+1), widgets=widget):\n",
    "        env_info = env.reset(train_mode=True)[brain_name] # reset the environment\n",
    "        states = env_info.vector_observations           # get the current state\n",
    "        score = np.zeros(len(env_info.agents))\n",
    "        for t in range(trajectory_length):\n",
    "        \n",
    "            actions = maddpg.acts(states, noise=1.0)  # state[n_agent,dim], noise=1.0 (on)\n",
    "            env_info = env.step(actions)[brain_name]\n",
    "            next_states = env_info.vector_observations   # get the next state: array -  (num_agent, state_feature_dim)\n",
    "            rewards = env_info.rewards                   # get the reward: list - [num_agent]\n",
    "            dones = env_info.local_done                  # see if episode has finished: list - [num_agent]\n",
    "            \n",
    "            # Add to memory\n",
    "        \n",
    "            maddpg.memory.add_experience(states,actions,rewards, next_states,dones)\n",
    "            \n",
    "            score += rewards                               # update the score\n",
    "            states = next_states                             # roll over the state to next time step\n",
    "            if (np.any(dones) and t>40):\n",
    "                break\n",
    "            \n",
    "            \n",
    "            if len(maddpg.memory) > batch_size:\n",
    "                for agent_i in range(2):\n",
    "                    experiences = maddpg.memory.sample(batch_size)\n",
    "                    maddpg.step(experiences, agent_i, logger)\n",
    "                maddpg.update_targets()\n",
    "        # Update once after every episode\n",
    "        maddpg.tau*=0.99                   # Reduce the learning of soft-update\n",
    "           \n",
    "        agent0_reward.append(score[0])       # save latest score into a variable containing the 100 latest scores\n",
    "        agent0_window.append(score[0])     # save latest score\n",
    "        agent1_reward.append(score[1])\n",
    "        agent1_window.append(score[1])\n",
    "        scores.append(score)\n",
    "        \n",
    "\n",
    "        if i_episode % 100 ==0 or i_episode==n_episodes-1:\n",
    "            avg_rewards = [np.mean(agent0_reward), np.mean(agent1_reward)]\n",
    "            scores_100.append(avg_rewards)\n",
    "            avg_rewards_window = [np.mean(agent0_window), np.mean(agent1_window)]\n",
    "            agent0_reward = []\n",
    "            agent1_reward = []\n",
    "            for agent_i , (avg_reward, avg_reward_window) in enumerate(zip(avg_rewards, avg_rewards_window)):\n",
    "                logger.add_scalar(\"Agent%i/mean_episode_rewards\"% agent_i, avg_reward, avg_reward_window, i_episode)\n",
    "            \n",
    "        if i_episode % 20 == 0:\n",
    "            print('\\rEpisode {}\\tScore: {}\\t 100 Moving Average Score: {}, OUNOISE: {}'.format(i_episode, score, avg_rewards_window, maddpg.maddpg_agent[0].noise.state*maddpg.maddpg_agent[0].decay_noise))\n",
    "            \n",
    "        # save model\n",
    "        agent_checkpoints = []\n",
    "        if np.mean(avg_rewards_window)>=0.5 and i_episode >=100:\n",
    "            \n",
    "            print('\\nEnvironment solved in {:d} episodes!\\t Score: {:5.2f}\\t 10 Moving Average Score: {:.2f}'.format(i_episode, avg_rewards, avg_rewards_window))\n",
    "            for agent_i in range(2):\n",
    "                checkpoint = {\n",
    "                    'net_params': maddpg.maddpg_agent[agent_i].network_local.state_dict()}   \n",
    "                agent_checkpoints.append(checkpoint)\n",
    "            print(\"\\nModel saved!💎🙌\")\n",
    "            torch.save(agent_checkpoints, model_dir+'checkpoint.pt')\n",
    "    logger.close()\n",
    "    \n",
    "    return (scores, scores_100, maddpg)\n",
    "if __name__==\"__main__\":\n",
    "    main()\n",
    "output_tuple = main()"
   ]
  },
  {
   "cell_type": "code",
   "execution_count": 3,
   "metadata": {},
   "outputs": [
    {
     "data": {
      "image/png": "[encoded data removed]",
      "text/plain": [
       "<Figure size 720x432 with 2 Axes>"
      ]
     },
     "metadata": {},
     "output_type": "display_data"
    }
   ],
   "source": [
    "# plot the scores\n",
    "import seaborn as sns\n",
    "scores_20, score_20, _  = output_tuple\n",
    "sns.set()\n",
    "fig = plt.figure(figsize=(10,6))\n",
    "ax1 = fig.add_subplot(121)\n",
    "ax1.plot(np.arange(len(scores_20)), np.mean(scores_20, axis=1))\n",
    "ax2 = fig.add_subplot(122)\n",
    "ax2.plot(np.arange(len(score_20)), np.mean(score_20, axis=1))\n",
    "\n",
    "ax1.set(ylabel='Scores', xlabel='Episode #', title=\"Average agents scores per Episode\")\n",
    "ax2.set(ylabel='Scores', xlabel='Episodes x100#', title=\"Average agents scores per Episode\")\n",
    "plt.show()\n",
    "fig.tight_layout()\n",
    "fig.savefig(\"/home/lew/Projects/Continuous-control_/plots/20agents-DDPG_reacher.png\")"
   ]
  },
  {
   "cell_type": "code",
   "execution_count": 4,
   "metadata": {},
   "outputs": [
    {
     "data": {
      "text/plain": [
       "[array([-0.02, -0.01]),\n",
       " array([0.09, 0.09]),\n",
       " array([-0.02, -0.01]),\n",
       " array([-0.01, -0.02]),\n",
       " array([ 0.1 , -0.01]),\n",
       " array([ 0.09, -0.02]),\n",
       " array([-0.01, -0.02]),\n",
       " array([-0.01, -0.02]),\n",
       " array([-0.01, -0.02]),\n",
       " array([-0.03,  0.  ]),\n",
       " array([ 0.  , -0.03]),\n",
       " array([-0.02, -0.01]),\n",
       " array([-0.01, -0.02]),\n",
       " array([-0.02, -0.01]),\n",
       " array([ 0.  , -0.03]),\n",
       " array([ 0.  , -0.03]),\n",
       " array([-0.02, -0.01]),\n",
       " array([-0.02, -0.01]),\n",
       " array([-0.01, -0.02]),\n",
       " array([-0.01, -0.02]),\n",
       " array([-0.01, -0.02]),\n",
       " array([-0.01, -0.02]),\n",
       " array([-0.02, -0.01]),\n",
       " array([-0.01, -0.02]),\n",
       " array([-0.02, -0.01]),\n",
       " array([-0.02, -0.01]),\n",
       " array([-0.02, -0.01]),\n",
       " array([-0.01, -0.02]),\n",
       " array([-0.02, -0.01]),\n",
       " array([-0.03,  0.  ]),\n",
       " array([-0.03,  0.  ]),\n",
       " array([ 0.  , -0.03]),\n",
       " array([-0.02, -0.01]),\n",
       " array([-0.01, -0.02]),\n",
       " array([-0.03,  0.  ]),\n",
       " array([-0.01, -0.02]),\n",
       " array([-0.01, -0.02]),\n",
       " array([-0.02, -0.01]),\n",
       " array([-0.02, -0.01]),\n",
       " array([-0.01, -0.02]),\n",
       " array([-0.02, -0.01]),\n",
       " array([-0.02, -0.01]),\n",
       " array([-0.02, -0.01]),\n",
       " array([-0.01, -0.02]),\n",
       " array([-0.01, -0.02]),\n",
       " array([-0.01, -0.02]),\n",
       " array([-0.01, -0.02]),\n",
       " array([-0.02, -0.01]),\n",
       " array([-0.03,  0.  ]),\n",
       " array([-0.03,  0.  ]),\n",
       " array([-0.02, -0.01]),\n",
       " array([-0.01, -0.02]),\n",
       " array([-0.01, -0.02]),\n",
       " array([-0.01, -0.02]),\n",
       " array([-0.02, -0.01]),\n",
       " array([-0.01, -0.02]),\n",
       " array([-0.02, -0.01]),\n",
       " array([-0.02, -0.01]),\n",
       " array([-0.02, -0.01]),\n",
       " array([-0.01, -0.02]),\n",
       " array([-0.03,  0.  ]),\n",
       " array([-0.02, -0.01]),\n",
       " array([-0.01, -0.02]),\n",
       " array([-0.02,  0.1 ]),\n",
       " array([-0.01,  0.09]),\n",
       " array([-0.01, -0.01]),\n",
       " array([-0.02, -0.01]),\n",
       " array([-0.01, -0.02]),\n",
       " array([-0.01, -0.01]),\n",
       " array([-0.01,  0.09]),\n",
       " array([-0.04,  0.  ]),\n",
       " array([-0.03,  0.  ]),\n",
       " array([-0.01, -0.02]),\n",
       " array([-0.02, -0.01]),\n",
       " array([-0.01, -0.02]),\n",
       " array([-0.02, -0.01]),\n",
       " array([-0.02, -0.01]),\n",
       " array([ 0.  , -0.03]),\n",
       " array([-0.02, -0.01]),\n",
       " array([-0.01, -0.02]),\n",
       " array([-0.01, -0.02]),\n",
       " array([-0.02, -0.01]),\n",
       " array([-0.01, -0.02]),\n",
       " array([-0.03,  0.  ]),\n",
       " array([-0.01, -0.02]),\n",
       " array([-0.02, -0.01]),\n",
       " array([-0.02, -0.01]),\n",
       " array([-0.02, -0.01]),\n",
       " array([-0.01, -0.02]),\n",
       " array([-0.02, -0.01]),\n",
       " array([-0.02, -0.01]),\n",
       " array([-0.02, -0.01]),\n",
       " array([-0.01, -0.02]),\n",
       " array([-0.02, -0.01]),\n",
       " array([-0.02, -0.01]),\n",
       " array([-0.03,  0.  ]),\n",
       " array([-0.02, -0.01]),\n",
       " array([-0.01, -0.02]),\n",
       " array([-0.01, -0.02]),\n",
       " array([-0.03,  0.  ]),\n",
       " array([-0.01, -0.02]),\n",
       " array([-0.01, -0.02]),\n",
       " array([-0.01, -0.02]),\n",
       " array([-0.02, -0.01]),\n",
       " array([-0.03,  0.  ]),\n",
       " array([ 0.  , -0.03]),\n",
       " array([-0.02, -0.01]),\n",
       " array([-0.02, -0.01]),\n",
       " array([-0.01, -0.02]),\n",
       " array([-0.02, -0.01]),\n",
       " array([-0.02, -0.01]),\n",
       " array([-0.02, -0.01]),\n",
       " array([-0.02, -0.01]),\n",
       " array([-0.01, -0.02]),\n",
       " array([-0.02, -0.01]),\n",
       " array([-0.01, -0.02]),\n",
       " array([-0.01, -0.02]),\n",
       " array([-0.02, -0.01]),\n",
       " array([-0.01, -0.02]),\n",
       " array([ 0.09, -0.02]),\n",
       " array([ 0.  , -0.03]),\n",
       " array([-0.02, -0.01]),\n",
       " array([-0.01, -0.02]),\n",
       " array([-0.02,  0.  ]),\n",
       " array([-0.01, -0.02]),\n",
       " array([ 0.1 , -0.02]),\n",
       " array([ 0.09, -0.02]),\n",
       " array([-0.03,  0.  ]),\n",
       " array([ 0.  , -0.03]),\n",
       " array([-0.01, -0.02]),\n",
       " array([-0.01, -0.02]),\n",
       " array([-0.01, -0.02]),\n",
       " array([-0.01, -0.02]),\n",
       " array([-0.02, -0.01]),\n",
       " array([-0.02, -0.01]),\n",
       " array([-0.02, -0.01]),\n",
       " array([-0.02, -0.01]),\n",
       " array([-0.02, -0.01]),\n",
       " array([-0.02, -0.01]),\n",
       " array([-0.03,  0.  ]),\n",
       " array([-0.03,  0.  ]),\n",
       " array([-0.01, -0.02]),\n",
       " array([-0.02, -0.01]),\n",
       " array([-0.02, -0.01]),\n",
       " array([-0.02, -0.01]),\n",
       " array([-0.01,  0.09]),\n",
       " array([-0.02,  0.1 ]),\n",
       " array([-0.02, -0.01]),\n",
       " array([ 0.08, -0.01]),\n",
       " array([-0.01, -0.02]),\n",
       " array([-0.02, -0.01]),\n",
       " array([-0.02, -0.01]),\n",
       " array([-0.01, -0.02]),\n",
       " array([ 0.  , -0.03]),\n",
       " array([-0.01, -0.02]),\n",
       " array([-0.01, -0.02]),\n",
       " array([-0.02, -0.01]),\n",
       " array([-0.02, -0.01]),\n",
       " array([ 0.09, -0.01]),\n",
       " array([-0.01, -0.02]),\n",
       " array([-0.02, -0.01]),\n",
       " array([-0.01, -0.02]),\n",
       " array([ 0.  , -0.02]),\n",
       " array([-0.02, -0.02]),\n",
       " array([-0.01, -0.01]),\n",
       " array([-0.02, -0.02]),\n",
       " array([-0.02, -0.01]),\n",
       " array([-0.02, -0.01]),\n",
       " array([-0.01, -0.01]),\n",
       " array([ 0.  , -0.02]),\n",
       " array([-0.01, -0.02]),\n",
       " array([-0.02, -0.01]),\n",
       " array([0.1 , 0.09]),\n",
       " array([-0.01, -0.03]),\n",
       " array([-0.02, -0.01]),\n",
       " array([ 0.  , -0.03]),\n",
       " array([-0.01,  0.09]),\n",
       " array([-0.02,  0.09]),\n",
       " array([-0.01, -0.02]),\n",
       " array([-0.01,  0.09]),\n",
       " array([ 0.1 , -0.03]),\n",
       " array([ 0.1 , -0.01]),\n",
       " array([ 0.2 , -0.02]),\n",
       " array([-0.01, -0.02]),\n",
       " array([-0.01, -0.02]),\n",
       " array([-0.03, -0.01]),\n",
       " array([-0.02, -0.01]),\n",
       " array([-0.01, -0.02]),\n",
       " array([-0.03,  0.  ]),\n",
       " array([-0.01, -0.02]),\n",
       " array([-0.03,  0.  ]),\n",
       " array([-0.02, -0.01]),\n",
       " array([-0.02, -0.01]),\n",
       " array([ 0.  , -0.02]),\n",
       " array([ 0.2 , -0.02]),\n",
       " array([-0.02, -0.01]),\n",
       " array([ 0.09, -0.01]),\n",
       " array([-0.01, -0.02]),\n",
       " array([ 0.1 , -0.02]),\n",
       " array([-0.01, -0.01]),\n",
       " array([-0.01,  0.09]),\n",
       " array([ 0.2 , -0.01]),\n",
       " array([-0.02, -0.02]),\n",
       " array([ 0.1 , -0.02]),\n",
       " array([-0.01, -0.02]),\n",
       " array([-0.01, -0.01]),\n",
       " array([0.1 , 0.09]),\n",
       " array([ 0.09, -0.02]),\n",
       " array([-0.02, -0.01]),\n",
       " array([ 0.  , -0.03]),\n",
       " array([ 0.  , -0.03]),\n",
       " array([-0.03,  0.  ]),\n",
       " array([ 0.09, -0.01]),\n",
       " array([-0.01, -0.02]),\n",
       " array([-0.02, -0.01]),\n",
       " array([ 0.  , -0.03]),\n",
       " array([ 0.  , -0.03]),\n",
       " array([-0.01, -0.02]),\n",
       " array([-0.01, -0.02]),\n",
       " array([-0.01, -0.02]),\n",
       " array([ 0.  , -0.02]),\n",
       " array([-0.02,  0.09]),\n",
       " array([-0.03, -0.01]),\n",
       " array([-0.02, -0.01]),\n",
       " array([-0.02, -0.01]),\n",
       " array([-0.01, -0.02]),\n",
       " array([-0.02, -0.01]),\n",
       " array([-0.01, -0.02]),\n",
       " array([-0.01, -0.02]),\n",
       " array([-0.01, -0.02]),\n",
       " array([-0.02, -0.01]),\n",
       " array([-0.01, -0.02]),\n",
       " array([-0.03,  0.  ]),\n",
       " array([-0.02, -0.01]),\n",
       " array([-0.01, -0.02]),\n",
       " array([-0.03,  0.  ]),\n",
       " array([-0.01,  0.09]),\n",
       " array([-0.01, -0.02]),\n",
       " array([-0.01, -0.02]),\n",
       " array([-0.01, -0.02]),\n",
       " array([-0.03,  0.  ]),\n",
       " array([-0.02, -0.01]),\n",
       " array([-0.01, -0.01]),\n",
       " array([-0.02, -0.01]),\n",
       " array([-0.01, -0.02]),\n",
       " array([-0.01, -0.03]),\n",
       " array([-0.01, -0.02]),\n",
       " array([ 0.08, -0.01]),\n",
       " array([-0.01, -0.02]),\n",
       " array([-0.01, -0.02]),\n",
       " array([-0.02, -0.01]),\n",
       " array([-0.01, -0.02]),\n",
       " array([-0.01, -0.02]),\n",
       " array([ 0.  , -0.03]),\n",
       " array([-0.02, -0.01]),\n",
       " array([ 0.  , -0.03]),\n",
       " array([-0.01, -0.02]),\n",
       " array([-0.02, -0.01]),\n",
       " array([-0.02, -0.01]),\n",
       " array([ 0.  , -0.03]),\n",
       " array([ 0.09, -0.01]),\n",
       " array([-0.02, -0.02]),\n",
       " array([-0.02, -0.01]),\n",
       " array([-0.03,  0.  ]),\n",
       " array([-0.01, -0.02]),\n",
       " array([-0.03,  0.  ]),\n",
       " array([-0.01, -0.02]),\n",
       " array([-0.03,  0.  ]),\n",
       " array([ 0.1 , -0.02]),\n",
       " array([-0.01, -0.02]),\n",
       " array([ 0.  , -0.03]),\n",
       " array([ 0.09, -0.01]),\n",
       " array([-0.01,  0.09]),\n",
       " array([-0.02, -0.01]),\n",
       " array([-0.01,  0.1 ]),\n",
       " array([0.1 , 0.08]),\n",
       " array([ 0.09, -0.01]),\n",
       " array([-0.01,  0.1 ]),\n",
       " array([0.1 , 0.09]),\n",
       " array([-0.03, -0.01]),\n",
       " array([-0.02, -0.01]),\n",
       " array([-0.01, -0.02]),\n",
       " array([ 0.08, -0.01]),\n",
       " array([ 0.  , -0.02]),\n",
       " array([-0.02, -0.01]),\n",
       " array([ 0.  , -0.03]),\n",
       " array([-0.02, -0.01]),\n",
       " array([0.1 , 0.09]),\n",
       " array([-0.02,  0.09]),\n",
       " array([-0.01, -0.02]),\n",
       " array([-0.03,  0.  ]),\n",
       " array([-0.02, -0.01]),\n",
       " array([-0.02, -0.01]),\n",
       " array([-0.01, -0.02]),\n",
       " array([-0.01, -0.02]),\n",
       " array([-0.02, -0.01]),\n",
       " array([-0.02,  0.  ]),\n",
       " array([ 0.09, -0.01]),\n",
       " array([0.  , 0.08]),\n",
       " array([-0.02, -0.02]),\n",
       " array([0.  , 0.09]),\n",
       " array([-0.02, -0.01]),\n",
       " array([ 0.  , -0.03]),\n",
       " array([0. , 0.1]),\n",
       " array([0.09, 0.09]),\n",
       " array([-0.01,  0.09]),\n",
       " array([-0.01,  0.09]),\n",
       " array([-0.01, -0.03]),\n",
       " array([-0.02, -0.01]),\n",
       " array([-0.02, -0.01]),\n",
       " array([ 0.09, -0.01]),\n",
       " array([-0.02, -0.01]),\n",
       " array([-0.02,  0.  ]),\n",
       " array([-0.01,  0.2 ]),\n",
       " array([-0.03,  0.  ]),\n",
       " array([-0.01,  0.08]),\n",
       " array([-0.01, -0.02]),\n",
       " array([-0.01, -0.03]),\n",
       " array([-0.03,  0.  ]),\n",
       " array([-0.02,  0.1 ]),\n",
       " array([0.  , 0.19]),\n",
       " array([-0.01, -0.01]),\n",
       " array([-0.01, -0.01]),\n",
       " array([-0.01, -0.02]),\n",
       " array([-0.01,  0.09]),\n",
       " array([ 0.09, -0.02]),\n",
       " array([0.  , 0.08]),\n",
       " array([0.1 , 0.09]),\n",
       " array([-0.01, -0.02]),\n",
       " array([-0.01,  0.2 ]),\n",
       " array([-0.03, -0.01]),\n",
       " array([0.  , 0.08]),\n",
       " array([0.09, 0.  ]),\n",
       " array([-0.02,  0.09]),\n",
       " array([ 0.1 , -0.02]),\n",
       " array([-0.01, -0.02]),\n",
       " array([-0.02, -0.01]),\n",
       " array([ 0.1 , -0.02]),\n",
       " array([-0.01, -0.02]),\n",
       " array([ 0.09, -0.01]),\n",
       " array([-0.01, -0.02]),\n",
       " array([-0.01, -0.02]),\n",
       " array([-0.01, -0.02]),\n",
       " array([-0.02, -0.01]),\n",
       " array([-0.03,  0.  ]),\n",
       " array([-0.02, -0.01]),\n",
       " array([0.  , 0.09]),\n",
       " array([0.1 , 0.09]),\n",
       " array([ 0.08, -0.01]),\n",
       " array([ 0.1 , -0.02]),\n",
       " array([-0.01,  0.09]),\n",
       " array([-0.02,  0.1 ]),\n",
       " array([0.1 , 0.09]),\n",
       " array([-0.01, -0.02]),\n",
       " array([0.  , 0.07]),\n",
       " array([0.  , 0.19]),\n",
       " array([ 0.1 , -0.02]),\n",
       " array([-0.01,  0.09]),\n",
       " array([-0.01,  0.09]),\n",
       " array([ 0.08, -0.01]),\n",
       " array([-0.01,  0.09]),\n",
       " array([-0.01,  0.2 ]),\n",
       " array([0.07, 0.  ]),\n",
       " array([-0.03,  0.09]),\n",
       " array([ 0.1 , -0.02]),\n",
       " array([0. , 0.1]),\n",
       " array([0.09, 0.09]),\n",
       " array([-0.02,  0.1 ]),\n",
       " array([-0.02, -0.01]),\n",
       " array([ 0.  , -0.01]),\n",
       " array([0.1 , 0.19]),\n",
       " array([0.08, 0.1 ]),\n",
       " array([-0.03,  0.  ]),\n",
       " array([-0.02,  0.1 ]),\n",
       " array([0. , 0.1]),\n",
       " array([-0.03, -0.01]),\n",
       " array([-0.01,  0.1 ]),\n",
       " array([-0.01,  0.09]),\n",
       " array([-0.01, -0.02]),\n",
       " array([-0.02,  0.1 ]),\n",
       " array([ 0.1 , -0.02]),\n",
       " array([-0.02, -0.02]),\n",
       " array([-0.03,  0.  ]),\n",
       " array([-0.03,  0.  ]),\n",
       " array([-0.03,  0.  ]),\n",
       " array([-0.03,  0.  ]),\n",
       " array([ 0.09, -0.01]),\n",
       " array([ 0.  , -0.03]),\n",
       " array([-0.01, -0.02]),\n",
       " array([-0.01, -0.02]),\n",
       " array([-0.03,  0.  ]),\n",
       " array([-0.01, -0.02]),\n",
       " array([-0.02, -0.01]),\n",
       " array([-0.02, -0.01]),\n",
       " array([-0.03,  0.  ]),\n",
       " array([-0.02, -0.01]),\n",
       " array([-0.02, -0.01]),\n",
       " array([-0.01, -0.02]),\n",
       " array([-0.01, -0.02]),\n",
       " array([-0.01, -0.02]),\n",
       " array([-0.03,  0.  ]),\n",
       " array([-0.01, -0.02]),\n",
       " array([-0.02, -0.01]),\n",
       " array([-0.01, -0.02]),\n",
       " array([-0.01, -0.02]),\n",
       " array([-0.02, -0.01]),\n",
       " array([-0.03,  0.  ]),\n",
       " array([-0.02, -0.01]),\n",
       " array([ 0.  , -0.03]),\n",
       " array([-0.01, -0.02]),\n",
       " array([-0.01, -0.02]),\n",
       " array([-0.02, -0.01]),\n",
       " array([-0.03,  0.  ]),\n",
       " array([-0.02, -0.01]),\n",
       " array([ 0.  , -0.03]),\n",
       " array([-0.02, -0.01]),\n",
       " array([-0.01, -0.01]),\n",
       " array([-0.02, -0.01]),\n",
       " array([-0.01, -0.02]),\n",
       " array([-0.01, -0.02]),\n",
       " array([-0.03,  0.  ]),\n",
       " array([-0.03,  0.  ]),\n",
       " array([-0.01,  0.1 ]),\n",
       " array([-0.03,  0.1 ]),\n",
       " array([-0.02,  0.1 ]),\n",
       " array([-0.02,  0.1 ]),\n",
       " array([-0.02,  0.1 ]),\n",
       " array([-0.04,  0.  ]),\n",
       " array([-0.01, -0.01]),\n",
       " array([-0.02,  0.2 ]),\n",
       " array([-0.03,  0.  ]),\n",
       " array([-0.03,  0.  ]),\n",
       " array([-0.02, -0.01]),\n",
       " array([-0.02, -0.01]),\n",
       " array([-0.02, -0.01]),\n",
       " array([-0.01, -0.02]),\n",
       " array([-0.01,  0.1 ]),\n",
       " array([ 0.1 , -0.03]),\n",
       " array([-0.02, -0.01]),\n",
       " array([-0.03,  0.  ]),\n",
       " array([-0.02, -0.01]),\n",
       " array([-0.02, -0.01]),\n",
       " array([-0.03,  0.  ]),\n",
       " array([-0.03,  0.  ]),\n",
       " array([-0.02, -0.01]),\n",
       " array([-0.03,  0.  ]),\n",
       " array([-0.01,  0.09]),\n",
       " array([-0.02,  0.1 ]),\n",
       " array([-0.01, -0.02]),\n",
       " array([-0.02,  0.1 ]),\n",
       " array([-0.02,  0.1 ]),\n",
       " array([-0.02, -0.01]),\n",
       " array([-0.01, -0.02]),\n",
       " array([-0.02, -0.01]),\n",
       " array([-0.01, -0.02]),\n",
       " array([-0.03,  0.  ]),\n",
       " array([-0.03,  0.  ]),\n",
       " array([ 0.  , -0.03]),\n",
       " array([-0.01, -0.02]),\n",
       " array([-0.02, -0.01]),\n",
       " array([-0.02, -0.01]),\n",
       " array([-0.02, -0.01]),\n",
       " array([-0.01, -0.02]),\n",
       " array([ 0.  , -0.03]),\n",
       " array([-0.01, -0.02]),\n",
       " array([-0.02, -0.01]),\n",
       " array([ 0.09, -0.01]),\n",
       " array([-0.02,  0.09]),\n",
       " array([-0.02, -0.02]),\n",
       " array([-0.02, -0.01]),\n",
       " array([-0.01, -0.02]),\n",
       " array([-0.01, -0.02]),\n",
       " array([-0.01,  0.1 ]),\n",
       " array([-0.03, -0.01]),\n",
       " array([-0.02, -0.01]),\n",
       " array([-0.02, -0.01]),\n",
       " array([-0.01, -0.02]),\n",
       " array([-0.02,  0.1 ]),\n",
       " array([-0.02, -0.01]),\n",
       " array([-0.02, -0.01]),\n",
       " array([-0.01, -0.02]),\n",
       " array([-0.01, -0.02]),\n",
       " array([-0.02, -0.01]),\n",
       " array([ 0.  , -0.02]),\n",
       " array([-0.02, -0.01]),\n",
       " array([-0.02, -0.01]),\n",
       " array([-0.02, -0.01]),\n",
       " array([-0.03,  0.  ]),\n",
       " array([-0.02, -0.01]),\n",
       " array([-0.01, -0.02]),\n",
       " array([-0.01, -0.02]),\n",
       " array([-0.01, -0.02]),\n",
       " array([-0.01, -0.02]),\n",
       " array([-0.01, -0.02]),\n",
       " array([-0.01, -0.02]),\n",
       " array([-0.02,  0.1 ]),\n",
       " array([-0.03,  0.  ]),\n",
       " array([ 0.1 , -0.02]),\n",
       " array([-0.01, -0.03]),\n",
       " array([-0.01, -0.02]),\n",
       " array([-0.02, -0.01]),\n",
       " array([-0.01, -0.02]),\n",
       " array([-0.01, -0.02]),\n",
       " array([-0.01, -0.02]),\n",
       " array([-0.01, -0.02]),\n",
       " array([-0.01, -0.02]),\n",
       " array([-0.01, -0.02]),\n",
       " array([-0.01, -0.02]),\n",
       " array([-0.02, -0.01]),\n",
       " array([-0.01, -0.02]),\n",
       " array([-0.01, -0.02]),\n",
       " array([-0.02, -0.01]),\n",
       " array([-0.01,  0.09]),\n",
       " array([ 0.  , -0.03]),\n",
       " array([-0.02, -0.02]),\n",
       " array([-0.02, -0.01]),\n",
       " array([-0.02, -0.01]),\n",
       " array([-0.02, -0.01]),\n",
       " array([-0.01, -0.02]),\n",
       " array([-0.02, -0.01]),\n",
       " array([-0.02, -0.01]),\n",
       " array([-0.01, -0.02]),\n",
       " array([-0.01, -0.02]),\n",
       " array([-0.02,  0.1 ]),\n",
       " array([-0.02, -0.01]),\n",
       " array([0.  , 0.08]),\n",
       " array([-0.01, -0.02]),\n",
       " array([-0.02, -0.01]),\n",
       " array([-0.01, -0.02]),\n",
       " array([-0.03,  0.  ]),\n",
       " array([-0.01, -0.01]),\n",
       " array([-0.02, -0.02]),\n",
       " array([-0.02,  0.1 ]),\n",
       " array([-0.01, -0.02]),\n",
       " array([ 0.  , -0.03]),\n",
       " array([-0.01, -0.02]),\n",
       " array([-0.03,  0.  ]),\n",
       " array([-0.03,  0.  ]),\n",
       " array([-0.01,  0.1 ]),\n",
       " array([-0.02,  0.08]),\n",
       " array([-0.02, -0.01]),\n",
       " array([-0.02, -0.01]),\n",
       " array([-0.02, -0.01]),\n",
       " array([-0.01, -0.02]),\n",
       " array([-0.02,  0.1 ]),\n",
       " array([-0.03,  0.  ]),\n",
       " array([-0.01,  0.09]),\n",
       " array([ 0.  , -0.03]),\n",
       " array([-0.01,  0.09]),\n",
       " array([-0.03,  0.  ]),\n",
       " array([-0.02, -0.01]),\n",
       " array([ 0.  , -0.03]),\n",
       " array([-0.03,  0.  ]),\n",
       " array([-0.03,  0.  ]),\n",
       " array([-0.02,  0.1 ]),\n",
       " array([-0.01, -0.02]),\n",
       " array([-0.01,  0.09]),\n",
       " array([-0.03,  0.  ]),\n",
       " array([-0.01, -0.02]),\n",
       " array([0.1 , 0.08]),\n",
       " array([-0.01,  0.08]),\n",
       " array([0.  , 0.08]),\n",
       " array([-0.01, -0.02]),\n",
       " array([-0.02,  0.1 ]),\n",
       " array([ 0.  , -0.03]),\n",
       " array([0.08, 0.  ]),\n",
       " array([-0.01, -0.02]),\n",
       " array([-0.01, -0.02]),\n",
       " array([ 0.  , -0.03]),\n",
       " array([0.  , 0.09]),\n",
       " array([-0.03,  0.1 ]),\n",
       " array([-0.01, -0.02]),\n",
       " array([-0.02,  0.1 ]),\n",
       " array([-0.02, -0.01]),\n",
       " array([-0.02, -0.01]),\n",
       " array([0.  , 0.08]),\n",
       " array([-0.02, -0.01]),\n",
       " array([ 0.  , -0.03]),\n",
       " array([-0.02, -0.01]),\n",
       " array([-0.02, -0.01]),\n",
       " array([-0.03,  0.  ]),\n",
       " array([-0.02, -0.01]),\n",
       " array([ 0.  , -0.03]),\n",
       " array([ 0.  , -0.03]),\n",
       " array([-0.02, -0.01]),\n",
       " array([-0.01,  0.09]),\n",
       " array([-0.03,  0.  ]),\n",
       " array([-0.02, -0.01]),\n",
       " array([ 0.  , -0.04]),\n",
       " array([0.  , 0.09]),\n",
       " array([-0.03,  0.1 ]),\n",
       " array([-0.01,  0.09]),\n",
       " array([-0.02,  0.1 ]),\n",
       " array([-0.02, -0.01]),\n",
       " array([-0.02, -0.02]),\n",
       " array([-0.01, -0.02]),\n",
       " array([-0.02, -0.01]),\n",
       " array([-0.02, -0.01]),\n",
       " array([-0.03,  0.  ]),\n",
       " array([-0.02, -0.01]),\n",
       " array([-0.02,  0.09]),\n",
       " array([ 0.  , -0.03]),\n",
       " array([-0.02, -0.01]),\n",
       " array([-0.01, -0.02]),\n",
       " array([-0.01, -0.02]),\n",
       " array([-0.02,  0.1 ]),\n",
       " array([-0.02, -0.01]),\n",
       " array([-0.01,  0.09]),\n",
       " array([-0.01, -0.02]),\n",
       " array([-0.03, -0.01]),\n",
       " array([ 0.  , -0.03]),\n",
       " array([-0.01, -0.02]),\n",
       " array([-0.01,  0.09]),\n",
       " array([-0.01, -0.02]),\n",
       " array([-0.02, -0.01]),\n",
       " array([0.  , 0.09]),\n",
       " array([-0.02,  0.09]),\n",
       " array([-0.02, -0.01]),\n",
       " array([-0.02,  0.1 ]),\n",
       " array([-0.02, -0.01]),\n",
       " array([-0.02, -0.02]),\n",
       " array([-0.02, -0.01]),\n",
       " array([-0.02, -0.01]),\n",
       " array([-0.02, -0.01]),\n",
       " array([-0.02, -0.01]),\n",
       " array([-0.01,  0.09]),\n",
       " array([-0.02, -0.01]),\n",
       " array([-0.03, -0.01]),\n",
       " array([-0.02, -0.01]),\n",
       " array([-0.03,  0.  ]),\n",
       " array([-0.01, -0.02]),\n",
       " array([-0.02,  0.1 ]),\n",
       " array([-0.02, -0.01]),\n",
       " array([0.  , 0.09]),\n",
       " array([-0.01,  0.09]),\n",
       " array([-0.02, -0.02]),\n",
       " array([-0.01, -0.02]),\n",
       " array([-0.01,  0.09]),\n",
       " array([-0.01,  0.09]),\n",
       " array([-0.02, -0.01]),\n",
       " array([-0.02, -0.01]),\n",
       " array([-0.03, -0.01]),\n",
       " array([ 0.  , -0.03]),\n",
       " array([-0.02,  0.1 ]),\n",
       " array([-0.01,  0.09]),\n",
       " array([-0.02, -0.01]),\n",
       " array([-0.02, -0.01]),\n",
       " array([-0.01, -0.02]),\n",
       " array([-0.03,  0.  ]),\n",
       " array([-0.01, -0.02]),\n",
       " array([-0.02, -0.01]),\n",
       " array([-0.03,  0.  ]),\n",
       " array([-0.03,  0.  ]),\n",
       " array([-0.02, -0.01]),\n",
       " array([-0.02, -0.01]),\n",
       " array([-0.02, -0.01]),\n",
       " array([-0.01, -0.02]),\n",
       " array([-0.02, -0.01]),\n",
       " array([-0.01, -0.02]),\n",
       " array([-0.02, -0.01]),\n",
       " array([-0.02, -0.01]),\n",
       " array([-0.01,  0.09]),\n",
       " array([-0.02,  0.1 ]),\n",
       " array([-0.03,  0.1 ]),\n",
       " array([0.  , 0.09]),\n",
       " array([-0.01,  0.09]),\n",
       " array([-0.02,  0.1 ]),\n",
       " array([-0.03,  0.1 ]),\n",
       " array([-0.03,  0.  ]),\n",
       " array([-0.02,  0.1 ]),\n",
       " array([-0.02,  0.1 ]),\n",
       " array([-0.03,  0.1 ]),\n",
       " array([-0.02, -0.01]),\n",
       " array([-0.02, -0.01]),\n",
       " array([0.1, 0.1]),\n",
       " array([-0.02,  0.09]),\n",
       " array([-0.02, -0.01]),\n",
       " array([-0.02,  0.  ]),\n",
       " array([-0.02,  0.09]),\n",
       " array([-0.04,  0.  ]),\n",
       " array([-0.01,  0.09]),\n",
       " array([-0.01,  0.09]),\n",
       " array([0.  , 0.08]),\n",
       " array([-0.01, -0.02]),\n",
       " array([-0.03,  0.  ]),\n",
       " array([-0.01, -0.02]),\n",
       " array([-0.01, -0.01]),\n",
       " array([-0.02,  0.08]),\n",
       " array([-0.02, -0.01]),\n",
       " array([-0.02, -0.01]),\n",
       " array([-0.03,  0.  ]),\n",
       " array([-0.01,  0.09]),\n",
       " array([-0.02,  0.1 ]),\n",
       " array([-0.01, -0.02]),\n",
       " array([-0.01,  0.09]),\n",
       " array([-0.01,  0.09]),\n",
       " array([ 0.  , -0.03]),\n",
       " array([-0.01,  0.09]),\n",
       " array([-0.02,  0.1 ]),\n",
       " array([-0.03,  0.  ]),\n",
       " array([-0.01, -0.02]),\n",
       " array([ 0.  , -0.03]),\n",
       " array([ 0.  , -0.03]),\n",
       " array([-0.01, -0.02]),\n",
       " array([-0.02, -0.01]),\n",
       " array([-0.01, -0.02]),\n",
       " array([-0.01, -0.02]),\n",
       " array([-0.01, -0.02]),\n",
       " array([-0.02,  0.1 ]),\n",
       " array([ 0.  , -0.03]),\n",
       " array([-0.01, -0.02]),\n",
       " array([0.  , 0.08]),\n",
       " array([-0.02,  0.1 ]),\n",
       " array([-0.03,  0.  ]),\n",
       " array([-0.02, -0.01]),\n",
       " array([-0.01, -0.02]),\n",
       " array([-0.01,  0.09]),\n",
       " array([-0.01, -0.02]),\n",
       " array([-0.02, -0.01]),\n",
       " array([-0.01,  0.09]),\n",
       " array([-0.02, -0.01]),\n",
       " array([-0.03,  0.  ]),\n",
       " array([-0.01, -0.02]),\n",
       " array([-0.01,  0.09]),\n",
       " array([-0.02,  0.1 ]),\n",
       " array([-0.02,  0.1 ]),\n",
       " array([-0.02,  0.1 ]),\n",
       " array([-0.01, -0.02]),\n",
       " array([-0.03,  0.  ]),\n",
       " array([-0.02, -0.01]),\n",
       " array([ 0.  , -0.03]),\n",
       " array([ 0.  , -0.03]),\n",
       " array([-0.02,  0.1 ]),\n",
       " array([-0.01, -0.02]),\n",
       " array([-0.02, -0.02]),\n",
       " array([-0.02, -0.01]),\n",
       " array([-0.02,  0.09]),\n",
       " array([-0.02,  0.1 ]),\n",
       " array([-0.01, -0.02]),\n",
       " array([-0.02, -0.01]),\n",
       " array([-0.02, -0.01]),\n",
       " array([-0.01, -0.02]),\n",
       " array([-0.01, -0.02]),\n",
       " array([-0.02,  0.1 ]),\n",
       " array([-0.02,  0.1 ]),\n",
       " array([-0.02,  0.1 ]),\n",
       " array([-0.01, -0.02]),\n",
       " array([-0.03,  0.1 ]),\n",
       " array([-0.02, -0.01]),\n",
       " array([0.  , 0.08]),\n",
       " array([-0.02, -0.01]),\n",
       " array([-0.01, -0.02]),\n",
       " array([-0.02, -0.01]),\n",
       " array([-0.01,  0.09]),\n",
       " array([-0.02,  0.1 ]),\n",
       " array([-0.02,  0.1 ]),\n",
       " array([-0.02,  0.1 ]),\n",
       " array([-0.02, -0.01]),\n",
       " array([-0.03,  0.  ]),\n",
       " array([-0.02,  0.1 ]),\n",
       " array([-0.03,  0.  ]),\n",
       " array([-0.01,  0.09]),\n",
       " array([-0.03,  0.  ]),\n",
       " array([ 0.  , -0.02]),\n",
       " array([-0.02,  0.09]),\n",
       " array([-0.02,  0.1 ]),\n",
       " array([-0.02,  0.09]),\n",
       " array([-0.02,  0.1 ]),\n",
       " array([-0.01,  0.09]),\n",
       " array([-0.03,  0.  ]),\n",
       " array([-0.03, -0.01]),\n",
       " array([-0.01,  0.1 ]),\n",
       " array([-0.02,  0.1 ]),\n",
       " array([-0.02,  0.09]),\n",
       " array([-0.02, -0.01]),\n",
       " array([-0.02,  0.1 ]),\n",
       " array([-0.01,  0.09]),\n",
       " array([-0.02, -0.01]),\n",
       " array([-0.02,  0.1 ]),\n",
       " array([-0.01,  0.09]),\n",
       " array([-0.01,  0.09]),\n",
       " array([-0.01,  0.09]),\n",
       " array([-0.01,  0.08]),\n",
       " array([-0.02, -0.01]),\n",
       " array([-0.03,  0.  ]),\n",
       " array([-0.01, -0.01]),\n",
       " array([-0.02,  0.2 ]),\n",
       " array([-0.02, -0.01]),\n",
       " array([-0.01,  0.08]),\n",
       " array([-0.01, -0.02]),\n",
       " array([ 0.  , -0.03]),\n",
       " array([-0.02, -0.01]),\n",
       " array([-0.01, -0.02]),\n",
       " array([-0.01,  0.09]),\n",
       " array([-0.03,  0.  ]),\n",
       " array([-0.01, -0.02]),\n",
       " array([-0.01, -0.01]),\n",
       " array([-0.01,  0.2 ]),\n",
       " array([ 0.08, -0.01]),\n",
       " array([-0.02, -0.01]),\n",
       " array([-0.01, -0.02]),\n",
       " array([-0.01,  0.09]),\n",
       " array([ 0.  , -0.03]),\n",
       " array([-0.01,  0.09]),\n",
       " array([-0.03,  0.  ]),\n",
       " array([-0.01,  0.1 ]),\n",
       " array([-0.01,  0.1 ]),\n",
       " array([-0.02, -0.01]),\n",
       " array([-0.03, -0.01]),\n",
       " array([ 0.  , -0.03]),\n",
       " array([-0.01, -0.02]),\n",
       " array([-0.01,  0.09]),\n",
       " array([-0.02, -0.01]),\n",
       " array([-0.02,  0.1 ]),\n",
       " array([-0.02,  0.1 ]),\n",
       " array([-0.03,  0.  ]),\n",
       " array([-0.02,  0.1 ]),\n",
       " array([-0.02,  0.1 ]),\n",
       " array([-0.02, -0.01]),\n",
       " array([-0.03,  0.  ]),\n",
       " array([-0.01,  0.09]),\n",
       " array([-0.02, -0.01]),\n",
       " array([-0.02,  0.1 ]),\n",
       " array([-0.01, -0.02]),\n",
       " array([-0.01,  0.1 ]),\n",
       " array([ 0.  , -0.02]),\n",
       " array([-0.02,  0.09]),\n",
       " array([-0.02, -0.02]),\n",
       " array([0. , 0.1]),\n",
       " array([-0.02,  0.09]),\n",
       " array([-0.01,  0.09]),\n",
       " array([-0.02,  0.1 ]),\n",
       " array([-0.01, -0.02]),\n",
       " array([-0.03,  0.  ]),\n",
       " array([-0.01,  0.1 ]),\n",
       " array([-0.01, -0.02]),\n",
       " array([-0.01, -0.01]),\n",
       " array([ 0.07, -0.01]),\n",
       " array([-0.01, -0.02]),\n",
       " array([-0.02, -0.01]),\n",
       " array([-0.01, -0.02]),\n",
       " array([-0.02, -0.01]),\n",
       " array([0.  , 0.09]),\n",
       " array([-0.03,  0.  ]),\n",
       " array([-0.01,  0.08]),\n",
       " array([-0.02,  0.  ]),\n",
       " array([-0.02,  0.2 ]),\n",
       " array([0. , 0.1]),\n",
       " array([-0.01, -0.03]),\n",
       " array([-0.01,  0.1 ]),\n",
       " array([-0.02,  0.  ]),\n",
       " array([-0.01,  0.08]),\n",
       " array([-0.01, -0.02]),\n",
       " array([-0.03,  0.  ]),\n",
       " array([-0.02, -0.01]),\n",
       " array([-0.01, -0.02]),\n",
       " array([-0.01, -0.02]),\n",
       " array([-0.02, -0.01]),\n",
       " array([-0.01, -0.02]),\n",
       " array([-0.01,  0.09]),\n",
       " array([-0.02, -0.01]),\n",
       " array([-0.01,  0.09]),\n",
       " array([-0.02,  0.1 ]),\n",
       " array([-0.02, -0.01]),\n",
       " array([-0.03, -0.01]),\n",
       " array([-0.01, -0.02]),\n",
       " array([-0.02, -0.01]),\n",
       " array([-0.02, -0.01]),\n",
       " array([-0.01, -0.02]),\n",
       " array([ 0.  , -0.03]),\n",
       " array([-0.01, -0.02]),\n",
       " array([ 0.  , -0.03]),\n",
       " array([-0.01, -0.02]),\n",
       " array([-0.02, -0.01]),\n",
       " array([-0.02, -0.01]),\n",
       " array([ 0.  , -0.03]),\n",
       " array([-0.03,  0.  ]),\n",
       " array([-0.01, -0.01]),\n",
       " array([-0.03,  0.1 ]),\n",
       " array([-0.02, -0.01]),\n",
       " array([-0.02, -0.02]),\n",
       " array([-0.03,  0.  ]),\n",
       " array([-0.02, -0.01]),\n",
       " array([-0.01, -0.02]),\n",
       " array([-0.03,  0.  ]),\n",
       " array([-0.02, -0.01]),\n",
       " array([-0.01, -0.02]),\n",
       " array([-0.01, -0.02]),\n",
       " array([-0.01, -0.02]),\n",
       " array([-0.03,  0.  ]),\n",
       " array([-0.02, -0.01]),\n",
       " array([-0.03,  0.  ]),\n",
       " array([-0.02, -0.01]),\n",
       " array([-0.02, -0.01]),\n",
       " array([-0.01, -0.02]),\n",
       " array([-0.03,  0.  ]),\n",
       " array([-0.03,  0.  ]),\n",
       " array([ 0.  , -0.03]),\n",
       " array([-0.02, -0.01]),\n",
       " array([-0.02, -0.01]),\n",
       " array([-0.01, -0.02]),\n",
       " array([-0.02, -0.01]),\n",
       " array([-0.02, -0.01]),\n",
       " array([-0.02, -0.01]),\n",
       " array([-0.02, -0.01]),\n",
       " array([-0.02, -0.01]),\n",
       " array([-0.02, -0.01]),\n",
       " array([-0.01, -0.02]),\n",
       " array([-0.03,  0.  ]),\n",
       " array([-0.01, -0.02]),\n",
       " array([-0.03,  0.  ]),\n",
       " array([-0.01, -0.02]),\n",
       " array([-0.01, -0.02]),\n",
       " array([-0.01, -0.02]),\n",
       " array([-0.02, -0.01]),\n",
       " array([ 0.  , -0.03]),\n",
       " array([-0.02, -0.01]),\n",
       " array([ 0.  , -0.03]),\n",
       " array([-0.01, -0.02]),\n",
       " array([-0.02, -0.01]),\n",
       " array([-0.02, -0.01]),\n",
       " array([-0.02, -0.01]),\n",
       " array([-0.01,  0.1 ]),\n",
       " array([-0.02,  0.1 ]),\n",
       " array([-0.02, -0.01]),\n",
       " array([-0.01,  0.09]),\n",
       " array([0.09, 0.09]),\n",
       " array([-0.02, -0.01]),\n",
       " array([-0.01, -0.02]),\n",
       " array([-0.01,  0.09]),\n",
       " array([-0.02,  0.1 ]),\n",
       " array([-0.02,  0.1 ]),\n",
       " array([-0.02,  0.1 ]),\n",
       " array([-0.01,  0.09]),\n",
       " array([-0.01,  0.1 ]),\n",
       " array([-0.01,  0.1 ]),\n",
       " array([-0.03,  0.1 ]),\n",
       " array([-0.02,  0.1 ]),\n",
       " array([-0.02, -0.01]),\n",
       " array([-0.02,  0.1 ]),\n",
       " array([ 0.  , -0.03]),\n",
       " array([-0.01, -0.02]),\n",
       " array([-0.02, -0.01]),\n",
       " array([0.  , 0.09]),\n",
       " array([-0.02,  0.1 ]),\n",
       " array([-0.01, -0.03]),\n",
       " array([-0.01,  0.1 ]),\n",
       " array([-0.02, -0.01]),\n",
       " array([-0.01, -0.02]),\n",
       " array([-0.01, -0.02]),\n",
       " array([-0.02,  0.1 ]),\n",
       " array([-0.03,  0.  ]),\n",
       " array([-0.02,  0.1 ]),\n",
       " array([-0.01,  0.09]),\n",
       " array([-0.02, -0.01]),\n",
       " array([-0.01, -0.02]),\n",
       " array([-0.01,  0.1 ]),\n",
       " array([-0.01, -0.02]),\n",
       " array([-0.01,  0.1 ]),\n",
       " array([ 0.  , -0.03]),\n",
       " array([-0.01, -0.02]),\n",
       " array([-0.01, -0.02]),\n",
       " array([-0.01,  0.1 ]),\n",
       " array([-0.02,  0.09]),\n",
       " array([-0.01, -0.02]),\n",
       " array([-0.02, -0.01]),\n",
       " array([-0.02, -0.01]),\n",
       " array([-0.03,  0.  ]),\n",
       " array([-0.02, -0.01]),\n",
       " array([-0.01, -0.02]),\n",
       " array([-0.02, -0.01]),\n",
       " array([-0.02,  0.1 ]),\n",
       " array([-0.01,  0.09]),\n",
       " array([-0.01, -0.02]),\n",
       " array([-0.02, -0.01]),\n",
       " array([ 0.  , -0.03]),\n",
       " array([-0.03,  0.  ]),\n",
       " array([-0.02, -0.01]),\n",
       " array([-0.02, -0.01]),\n",
       " array([-0.01, -0.02]),\n",
       " array([-0.03,  0.  ]),\n",
       " array([ 0.  , -0.02]),\n",
       " array([-0.02, -0.01]),\n",
       " array([-0.01,  0.09]),\n",
       " array([-0.01, -0.02]),\n",
       " array([-0.02,  0.09]),\n",
       " array([-0.01, -0.02]),\n",
       " array([-0.02, -0.02]),\n",
       " array([ 0.  , -0.03]),\n",
       " array([-0.02,  0.1 ]),\n",
       " array([-0.02, -0.01]),\n",
       " array([-0.02, -0.01]),\n",
       " array([-0.02,  0.1 ]),\n",
       " array([-0.02,  0.1 ]),\n",
       " array([-0.01, -0.02]),\n",
       " array([-0.01,  0.09]),\n",
       " array([-0.02, -0.01]),\n",
       " array([-0.01, -0.02]),\n",
       " array([-0.02, -0.01]),\n",
       " array([-0.02, -0.01]),\n",
       " ...]"
      ]
     },
     "execution_count": 4,
     "metadata": {},
     "output_type": "execute_result"
    }
   ],
   "source": [
    "scores_20"
   ]
  },
  {
   "cell_type": "code",
   "execution_count": null,
   "metadata": {},
   "outputs": [],
   "source": []
  }
 ],
 "metadata": {
  "kernelspec": {
   "display_name": "Python 3",
   "language": "python",
   "name": "python3"
  },
  "language_info": {
   "codemirror_mode": {
    "name": "ipython",
    "version": 3
   },
   "file_extension": ".py",
   "mimetype": "text/x-python",
   "name": "python",
   "nbconvert_exporter": "python",
   "pygments_lexer": "ipython3",
   "version": "3.6.8"
  }
 },
 "nbformat": 4,
 "nbformat_minor": 2
}
